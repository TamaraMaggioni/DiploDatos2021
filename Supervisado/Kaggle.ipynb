{
  "nbformat": 4,
  "nbformat_minor": 0,
  "metadata": {
    "colab": {
      "name": "Kaggle.ipynb",
      "provenance": [],
      "collapsed_sections": [],
      "authorship_tag": "ABX9TyOmhncxY4olH98XhEx/RhyI",
      "include_colab_link": true
    },
    "kernelspec": {
      "display_name": "Python 3",
      "name": "python3"
    },
    "language_info": {
      "name": "python"
    }
  },
  "cells": [
    {
      "cell_type": "markdown",
      "metadata": {
        "id": "view-in-github",
        "colab_type": "text"
      },
      "source": [
        "<a href=\"https://colab.research.google.com/github/TamaraMaggioni/DiploDatos2021/blob/main/Supervisado/Kaggle.ipynb\" target=\"_parent\"><img src=\"https://colab.research.google.com/assets/colab-badge.svg\" alt=\"Open In Colab\"/></a>"
      ]
    },
    {
      "cell_type": "code",
      "metadata": {
        "colab": {
          "base_uri": "https://localhost:8080/",
          "height": 394
        },
        "id": "-Vxjgvs0o2xd",
        "outputId": "b9878040-03a1-4b60-cecb-3af34d620223"
      },
      "source": [
        "import pandas as pd\n",
        "# Importamos datos train\n",
        "url = 'https://raw.githubusercontent.com/DiploDatos/AprendizajeSupervisado/master/practico/data/travel_insurance_prediction_train.csv'\n",
        "data_train = pd.read_csv(url)\n",
        "data_train.head()\n"
      ],
      "execution_count": null,
      "outputs": [
        {
          "output_type": "execute_result",
          "data": {
            "text/html": [
              "<div>\n",
              "<style scoped>\n",
              "    .dataframe tbody tr th:only-of-type {\n",
              "        vertical-align: middle;\n",
              "    }\n",
              "\n",
              "    .dataframe tbody tr th {\n",
              "        vertical-align: top;\n",
              "    }\n",
              "\n",
              "    .dataframe thead th {\n",
              "        text-align: right;\n",
              "    }\n",
              "</style>\n",
              "<table border=\"1\" class=\"dataframe\">\n",
              "  <thead>\n",
              "    <tr style=\"text-align: right;\">\n",
              "      <th></th>\n",
              "      <th>Customer</th>\n",
              "      <th>Age</th>\n",
              "      <th>Employment Type</th>\n",
              "      <th>GraduateOrNot</th>\n",
              "      <th>AnnualIncome</th>\n",
              "      <th>FamilyMembers</th>\n",
              "      <th>ChronicDiseases</th>\n",
              "      <th>FrequentFlyer</th>\n",
              "      <th>EverTravelledAbroad</th>\n",
              "      <th>TravelInsurance</th>\n",
              "    </tr>\n",
              "  </thead>\n",
              "  <tbody>\n",
              "    <tr>\n",
              "      <th>0</th>\n",
              "      <td>1</td>\n",
              "      <td>33</td>\n",
              "      <td>Private Sector/Self Employed</td>\n",
              "      <td>Yes</td>\n",
              "      <td>550000</td>\n",
              "      <td>6</td>\n",
              "      <td>0</td>\n",
              "      <td>No</td>\n",
              "      <td>No</td>\n",
              "      <td>1</td>\n",
              "    </tr>\n",
              "    <tr>\n",
              "      <th>1</th>\n",
              "      <td>2</td>\n",
              "      <td>28</td>\n",
              "      <td>Private Sector/Self Employed</td>\n",
              "      <td>Yes</td>\n",
              "      <td>800000</td>\n",
              "      <td>7</td>\n",
              "      <td>0</td>\n",
              "      <td>Yes</td>\n",
              "      <td>No</td>\n",
              "      <td>0</td>\n",
              "    </tr>\n",
              "    <tr>\n",
              "      <th>2</th>\n",
              "      <td>3</td>\n",
              "      <td>31</td>\n",
              "      <td>Private Sector/Self Employed</td>\n",
              "      <td>Yes</td>\n",
              "      <td>1250000</td>\n",
              "      <td>4</td>\n",
              "      <td>0</td>\n",
              "      <td>No</td>\n",
              "      <td>No</td>\n",
              "      <td>0</td>\n",
              "    </tr>\n",
              "    <tr>\n",
              "      <th>3</th>\n",
              "      <td>4</td>\n",
              "      <td>31</td>\n",
              "      <td>Government Sector</td>\n",
              "      <td>No</td>\n",
              "      <td>300000</td>\n",
              "      <td>7</td>\n",
              "      <td>0</td>\n",
              "      <td>No</td>\n",
              "      <td>No</td>\n",
              "      <td>0</td>\n",
              "    </tr>\n",
              "    <tr>\n",
              "      <th>4</th>\n",
              "      <td>5</td>\n",
              "      <td>28</td>\n",
              "      <td>Private Sector/Self Employed</td>\n",
              "      <td>Yes</td>\n",
              "      <td>1250000</td>\n",
              "      <td>3</td>\n",
              "      <td>0</td>\n",
              "      <td>No</td>\n",
              "      <td>No</td>\n",
              "      <td>0</td>\n",
              "    </tr>\n",
              "  </tbody>\n",
              "</table>\n",
              "</div>"
            ],
            "text/plain": [
              "   Customer  Age  ... EverTravelledAbroad TravelInsurance\n",
              "0         1   33  ...                  No               1\n",
              "1         2   28  ...                  No               0\n",
              "2         3   31  ...                  No               0\n",
              "3         4   31  ...                  No               0\n",
              "4         5   28  ...                  No               0\n",
              "\n",
              "[5 rows x 10 columns]"
            ]
          },
          "metadata": {},
          "execution_count": 2
        }
      ]
    },
    {
      "cell_type": "code",
      "metadata": {
        "colab": {
          "base_uri": "https://localhost:8080/"
        },
        "id": "XtmdN64bpiM6",
        "outputId": "616fbafb-61e4-4a9b-8dd8-33975f12aa65"
      },
      "source": [
        "data_train.info()"
      ],
      "execution_count": null,
      "outputs": [
        {
          "output_type": "stream",
          "name": "stdout",
          "text": [
            "<class 'pandas.core.frame.DataFrame'>\n",
            "RangeIndex: 1490 entries, 0 to 1489\n",
            "Data columns (total 10 columns):\n",
            " #   Column               Non-Null Count  Dtype \n",
            "---  ------               --------------  ----- \n",
            " 0   Customer             1490 non-null   int64 \n",
            " 1   Age                  1490 non-null   int64 \n",
            " 2   Employment Type      1490 non-null   object\n",
            " 3   GraduateOrNot        1490 non-null   object\n",
            " 4   AnnualIncome         1490 non-null   int64 \n",
            " 5   FamilyMembers        1490 non-null   int64 \n",
            " 6   ChronicDiseases      1490 non-null   int64 \n",
            " 7   FrequentFlyer        1490 non-null   object\n",
            " 8   EverTravelledAbroad  1490 non-null   object\n",
            " 9   TravelInsurance      1490 non-null   int64 \n",
            "dtypes: int64(6), object(4)\n",
            "memory usage: 116.5+ KB\n"
          ]
        }
      ]
    },
    {
      "cell_type": "code",
      "metadata": {
        "colab": {
          "base_uri": "https://localhost:8080/"
        },
        "id": "jFcfAYrBrUQC",
        "outputId": "d9011d66-c250-4649-e098-793ff1cef920"
      },
      "source": [
        "data_train['TravelInsurance'].unique() # Nuestro target ya esta codeado en valores de 0 y 1."
      ],
      "execution_count": null,
      "outputs": [
        {
          "output_type": "execute_result",
          "data": {
            "text/plain": [
              "array([1, 0])"
            ]
          },
          "metadata": {},
          "execution_count": 4
        }
      ]
    },
    {
      "cell_type": "code",
      "metadata": {
        "colab": {
          "base_uri": "https://localhost:8080/"
        },
        "id": "85jIYMFlrjO6",
        "outputId": "ca9dc116-ac06-4914-eeeb-c2973797bd3c"
      },
      "source": [
        "data_train['TravelInsurance'].value_counts() # Solo le dieron el seguro a 1/3 de los usuarios."
      ],
      "execution_count": null,
      "outputs": [
        {
          "output_type": "execute_result",
          "data": {
            "text/plain": [
              "0    958\n",
              "1    532\n",
              "Name: TravelInsurance, dtype: int64"
            ]
          },
          "metadata": {},
          "execution_count": 5
        }
      ]
    },
    {
      "cell_type": "markdown",
      "metadata": {
        "id": "9aJ6_YoRpl8D"
      },
      "source": [
        "Tenemos 9 columnas y la columna target (si le dieron o no el seguro de viaje). De esas 9 columnas, eliminamos Customer ya que es un numero asignado a cada viajero. No solo no nos aporta ninguna info, sino que nos puede entorpecer las predicciones de nuestro algoritmo. \n",
        "Vamos a ir viendo las otras 8 columnas una a una, a ver como las podemos ir manipulando. \n",
        "\n"
      ]
    },
    {
      "cell_type": "code",
      "metadata": {
        "colab": {
          "base_uri": "https://localhost:8080/",
          "height": 204
        },
        "id": "IZEjVYn0pSJ-",
        "outputId": "7e72be86-e08a-40c4-9e02-105cfa2b3fd1"
      },
      "source": [
        "# Importamos datos test\n",
        "url = 'https://raw.githubusercontent.com/DiploDatos/AprendizajeSupervisado/master/practico/data/travel_insurance_prediction_test.csv'\n",
        "test = pd.read_csv(url)\n",
        "test.head()"
      ],
      "execution_count": null,
      "outputs": [
        {
          "output_type": "execute_result",
          "data": {
            "text/html": [
              "<div>\n",
              "<style scoped>\n",
              "    .dataframe tbody tr th:only-of-type {\n",
              "        vertical-align: middle;\n",
              "    }\n",
              "\n",
              "    .dataframe tbody tr th {\n",
              "        vertical-align: top;\n",
              "    }\n",
              "\n",
              "    .dataframe thead th {\n",
              "        text-align: right;\n",
              "    }\n",
              "</style>\n",
              "<table border=\"1\" class=\"dataframe\">\n",
              "  <thead>\n",
              "    <tr style=\"text-align: right;\">\n",
              "      <th></th>\n",
              "      <th>Customer</th>\n",
              "      <th>Age</th>\n",
              "      <th>Employment Type</th>\n",
              "      <th>GraduateOrNot</th>\n",
              "      <th>AnnualIncome</th>\n",
              "      <th>FamilyMembers</th>\n",
              "      <th>ChronicDiseases</th>\n",
              "      <th>FrequentFlyer</th>\n",
              "      <th>EverTravelledAbroad</th>\n",
              "    </tr>\n",
              "  </thead>\n",
              "  <tbody>\n",
              "    <tr>\n",
              "      <th>0</th>\n",
              "      <td>1491</td>\n",
              "      <td>29</td>\n",
              "      <td>Private Sector/Self Employed</td>\n",
              "      <td>Yes</td>\n",
              "      <td>1100000</td>\n",
              "      <td>4</td>\n",
              "      <td>0</td>\n",
              "      <td>No</td>\n",
              "      <td>No</td>\n",
              "    </tr>\n",
              "    <tr>\n",
              "      <th>1</th>\n",
              "      <td>1492</td>\n",
              "      <td>28</td>\n",
              "      <td>Private Sector/Self Employed</td>\n",
              "      <td>Yes</td>\n",
              "      <td>750000</td>\n",
              "      <td>5</td>\n",
              "      <td>1</td>\n",
              "      <td>Yes</td>\n",
              "      <td>No</td>\n",
              "    </tr>\n",
              "    <tr>\n",
              "      <th>2</th>\n",
              "      <td>1493</td>\n",
              "      <td>31</td>\n",
              "      <td>Government Sector</td>\n",
              "      <td>Yes</td>\n",
              "      <td>1500000</td>\n",
              "      <td>4</td>\n",
              "      <td>0</td>\n",
              "      <td>Yes</td>\n",
              "      <td>Yes</td>\n",
              "    </tr>\n",
              "    <tr>\n",
              "      <th>3</th>\n",
              "      <td>1494</td>\n",
              "      <td>28</td>\n",
              "      <td>Private Sector/Self Employed</td>\n",
              "      <td>Yes</td>\n",
              "      <td>1400000</td>\n",
              "      <td>3</td>\n",
              "      <td>0</td>\n",
              "      <td>No</td>\n",
              "      <td>Yes</td>\n",
              "    </tr>\n",
              "    <tr>\n",
              "      <th>4</th>\n",
              "      <td>1495</td>\n",
              "      <td>33</td>\n",
              "      <td>Private Sector/Self Employed</td>\n",
              "      <td>Yes</td>\n",
              "      <td>1500000</td>\n",
              "      <td>4</td>\n",
              "      <td>0</td>\n",
              "      <td>Yes</td>\n",
              "      <td>Yes</td>\n",
              "    </tr>\n",
              "  </tbody>\n",
              "</table>\n",
              "</div>"
            ],
            "text/plain": [
              "   Customer  Age  ... FrequentFlyer EverTravelledAbroad\n",
              "0      1491   29  ...            No                  No\n",
              "1      1492   28  ...           Yes                  No\n",
              "2      1493   31  ...           Yes                 Yes\n",
              "3      1494   28  ...            No                 Yes\n",
              "4      1495   33  ...           Yes                 Yes\n",
              "\n",
              "[5 rows x 9 columns]"
            ]
          },
          "metadata": {},
          "execution_count": 6
        }
      ]
    },
    {
      "cell_type": "code",
      "metadata": {
        "colab": {
          "base_uri": "https://localhost:8080/"
        },
        "id": "k7GLvxKxsygB",
        "outputId": "74f80da0-b591-4307-8678-d57d245239a8"
      },
      "source": [
        "test.info() # En data test tenemos TODAS las features MENOS la variable target. Hay que hacer el mismo tratamiento de feature a ambos data sets.3"
      ],
      "execution_count": null,
      "outputs": [
        {
          "output_type": "stream",
          "name": "stdout",
          "text": [
            "<class 'pandas.core.frame.DataFrame'>\n",
            "RangeIndex: 497 entries, 0 to 496\n",
            "Data columns (total 9 columns):\n",
            " #   Column               Non-Null Count  Dtype \n",
            "---  ------               --------------  ----- \n",
            " 0   Customer             497 non-null    int64 \n",
            " 1   Age                  497 non-null    int64 \n",
            " 2   Employment Type      497 non-null    object\n",
            " 3   GraduateOrNot        497 non-null    object\n",
            " 4   AnnualIncome         497 non-null    int64 \n",
            " 5   FamilyMembers        497 non-null    int64 \n",
            " 6   ChronicDiseases      497 non-null    int64 \n",
            " 7   FrequentFlyer        497 non-null    object\n",
            " 8   EverTravelledAbroad  497 non-null    object\n",
            "dtypes: int64(5), object(4)\n",
            "memory usage: 35.1+ KB\n"
          ]
        }
      ]
    },
    {
      "cell_type": "code",
      "metadata": {
        "id": "vRGIdAUhxz61"
      },
      "source": [
        "# Vamos a eliminar la columna Customer de ambos data sets, porque no da absolutamente nada de info para el modelo\n",
        "data_train.drop(columns=['Customer'], inplace=True) # Le ponemos el inplace True para que lo conserve en el df original.\n",
        "data_test = test.drop(['Customer'], axis=1)"
      ],
      "execution_count": null,
      "outputs": []
    },
    {
      "cell_type": "code",
      "metadata": {
        "colab": {
          "base_uri": "https://localhost:8080/",
          "height": 272
        },
        "id": "wkNHEmJvzSTP",
        "outputId": "24bffce0-0d06-469d-a3f7-1eebc21ec57e"
      },
      "source": [
        "data_train.head()"
      ],
      "execution_count": null,
      "outputs": [
        {
          "output_type": "execute_result",
          "data": {
            "text/html": [
              "<div>\n",
              "<style scoped>\n",
              "    .dataframe tbody tr th:only-of-type {\n",
              "        vertical-align: middle;\n",
              "    }\n",
              "\n",
              "    .dataframe tbody tr th {\n",
              "        vertical-align: top;\n",
              "    }\n",
              "\n",
              "    .dataframe thead th {\n",
              "        text-align: right;\n",
              "    }\n",
              "</style>\n",
              "<table border=\"1\" class=\"dataframe\">\n",
              "  <thead>\n",
              "    <tr style=\"text-align: right;\">\n",
              "      <th></th>\n",
              "      <th>Age</th>\n",
              "      <th>Employment Type</th>\n",
              "      <th>GraduateOrNot</th>\n",
              "      <th>AnnualIncome</th>\n",
              "      <th>FamilyMembers</th>\n",
              "      <th>ChronicDiseases</th>\n",
              "      <th>FrequentFlyer</th>\n",
              "      <th>EverTravelledAbroad</th>\n",
              "      <th>TravelInsurance</th>\n",
              "    </tr>\n",
              "  </thead>\n",
              "  <tbody>\n",
              "    <tr>\n",
              "      <th>0</th>\n",
              "      <td>33</td>\n",
              "      <td>Private Sector/Self Employed</td>\n",
              "      <td>Yes</td>\n",
              "      <td>550000</td>\n",
              "      <td>6</td>\n",
              "      <td>0</td>\n",
              "      <td>No</td>\n",
              "      <td>No</td>\n",
              "      <td>1</td>\n",
              "    </tr>\n",
              "    <tr>\n",
              "      <th>1</th>\n",
              "      <td>28</td>\n",
              "      <td>Private Sector/Self Employed</td>\n",
              "      <td>Yes</td>\n",
              "      <td>800000</td>\n",
              "      <td>7</td>\n",
              "      <td>0</td>\n",
              "      <td>Yes</td>\n",
              "      <td>No</td>\n",
              "      <td>0</td>\n",
              "    </tr>\n",
              "    <tr>\n",
              "      <th>2</th>\n",
              "      <td>31</td>\n",
              "      <td>Private Sector/Self Employed</td>\n",
              "      <td>Yes</td>\n",
              "      <td>1250000</td>\n",
              "      <td>4</td>\n",
              "      <td>0</td>\n",
              "      <td>No</td>\n",
              "      <td>No</td>\n",
              "      <td>0</td>\n",
              "    </tr>\n",
              "    <tr>\n",
              "      <th>3</th>\n",
              "      <td>31</td>\n",
              "      <td>Government Sector</td>\n",
              "      <td>No</td>\n",
              "      <td>300000</td>\n",
              "      <td>7</td>\n",
              "      <td>0</td>\n",
              "      <td>No</td>\n",
              "      <td>No</td>\n",
              "      <td>0</td>\n",
              "    </tr>\n",
              "    <tr>\n",
              "      <th>4</th>\n",
              "      <td>28</td>\n",
              "      <td>Private Sector/Self Employed</td>\n",
              "      <td>Yes</td>\n",
              "      <td>1250000</td>\n",
              "      <td>3</td>\n",
              "      <td>0</td>\n",
              "      <td>No</td>\n",
              "      <td>No</td>\n",
              "      <td>0</td>\n",
              "    </tr>\n",
              "  </tbody>\n",
              "</table>\n",
              "</div>"
            ],
            "text/plain": [
              "   Age               Employment Type  ... EverTravelledAbroad  TravelInsurance\n",
              "0   33  Private Sector/Self Employed  ...                  No                1\n",
              "1   28  Private Sector/Self Employed  ...                  No                0\n",
              "2   31  Private Sector/Self Employed  ...                  No                0\n",
              "3   31             Government Sector  ...                  No                0\n",
              "4   28  Private Sector/Self Employed  ...                  No                0\n",
              "\n",
              "[5 rows x 9 columns]"
            ]
          },
          "metadata": {},
          "execution_count": 9
        }
      ]
    },
    {
      "cell_type": "code",
      "metadata": {
        "colab": {
          "base_uri": "https://localhost:8080/",
          "height": 111
        },
        "id": "X0Jva-k0tppO",
        "outputId": "fef14192-04a8-4414-ede5-924c03e5612d"
      },
      "source": [
        "data_test[:2]"
      ],
      "execution_count": null,
      "outputs": [
        {
          "output_type": "execute_result",
          "data": {
            "text/html": [
              "<div>\n",
              "<style scoped>\n",
              "    .dataframe tbody tr th:only-of-type {\n",
              "        vertical-align: middle;\n",
              "    }\n",
              "\n",
              "    .dataframe tbody tr th {\n",
              "        vertical-align: top;\n",
              "    }\n",
              "\n",
              "    .dataframe thead th {\n",
              "        text-align: right;\n",
              "    }\n",
              "</style>\n",
              "<table border=\"1\" class=\"dataframe\">\n",
              "  <thead>\n",
              "    <tr style=\"text-align: right;\">\n",
              "      <th></th>\n",
              "      <th>Age</th>\n",
              "      <th>Employment Type</th>\n",
              "      <th>GraduateOrNot</th>\n",
              "      <th>AnnualIncome</th>\n",
              "      <th>FamilyMembers</th>\n",
              "      <th>ChronicDiseases</th>\n",
              "      <th>FrequentFlyer</th>\n",
              "      <th>EverTravelledAbroad</th>\n",
              "    </tr>\n",
              "  </thead>\n",
              "  <tbody>\n",
              "    <tr>\n",
              "      <th>0</th>\n",
              "      <td>29</td>\n",
              "      <td>Private Sector/Self Employed</td>\n",
              "      <td>Yes</td>\n",
              "      <td>1100000</td>\n",
              "      <td>4</td>\n",
              "      <td>0</td>\n",
              "      <td>No</td>\n",
              "      <td>No</td>\n",
              "    </tr>\n",
              "    <tr>\n",
              "      <th>1</th>\n",
              "      <td>28</td>\n",
              "      <td>Private Sector/Self Employed</td>\n",
              "      <td>Yes</td>\n",
              "      <td>750000</td>\n",
              "      <td>5</td>\n",
              "      <td>1</td>\n",
              "      <td>Yes</td>\n",
              "      <td>No</td>\n",
              "    </tr>\n",
              "  </tbody>\n",
              "</table>\n",
              "</div>"
            ],
            "text/plain": [
              "   Age               Employment Type  ... FrequentFlyer  EverTravelledAbroad\n",
              "0   29  Private Sector/Self Employed  ...            No                   No\n",
              "1   28  Private Sector/Self Employed  ...           Yes                   No\n",
              "\n",
              "[2 rows x 8 columns]"
            ]
          },
          "metadata": {},
          "execution_count": 10
        }
      ]
    },
    {
      "cell_type": "code",
      "metadata": {
        "colab": {
          "base_uri": "https://localhost:8080/"
        },
        "id": "HFTnyrBWpB8s",
        "outputId": "38d084c1-68b3-457f-a392-62f46b3e51e7"
      },
      "source": [
        "# Vamos por las features mas sencillas. \n",
        "# Debemos pasar todo a valores numericos. Las columas GraduateOrNot, FrequentFlyer y EverTravelledAbroad hay que convertirlas a 0 y 1.\n",
        "# Primero fijemonos si estas columnas tienen unicamente Yes y No como respuesta o si hay alguna otra respuesta.\n",
        "print(data_train['GraduateOrNot'].value_counts())\n",
        "print(data_test['GraduateOrNot'].value_counts())"
      ],
      "execution_count": null,
      "outputs": [
        {
          "output_type": "stream",
          "name": "stdout",
          "text": [
            "Yes    1268\n",
            "No      222\n",
            "Name: GraduateOrNot, dtype: int64\n",
            "Yes    424\n",
            "No      73\n",
            "Name: GraduateOrNot, dtype: int64\n"
          ]
        }
      ]
    },
    {
      "cell_type": "code",
      "metadata": {
        "colab": {
          "base_uri": "https://localhost:8080/",
          "height": 111
        },
        "id": "fWbSw7MFwU9W",
        "outputId": "c55957bb-6285-4d7c-b1a7-b7bddb1a2381"
      },
      "source": [
        "data_train[['GraduateOrNot', 'TravelInsurance']].groupby(['GraduateOrNot'], as_index=False).mean().sort_values(by='TravelInsurance', ascending=False)"
      ],
      "execution_count": null,
      "outputs": [
        {
          "output_type": "execute_result",
          "data": {
            "text/html": [
              "<div>\n",
              "<style scoped>\n",
              "    .dataframe tbody tr th:only-of-type {\n",
              "        vertical-align: middle;\n",
              "    }\n",
              "\n",
              "    .dataframe tbody tr th {\n",
              "        vertical-align: top;\n",
              "    }\n",
              "\n",
              "    .dataframe thead th {\n",
              "        text-align: right;\n",
              "    }\n",
              "</style>\n",
              "<table border=\"1\" class=\"dataframe\">\n",
              "  <thead>\n",
              "    <tr style=\"text-align: right;\">\n",
              "      <th></th>\n",
              "      <th>GraduateOrNot</th>\n",
              "      <th>TravelInsurance</th>\n",
              "    </tr>\n",
              "  </thead>\n",
              "  <tbody>\n",
              "    <tr>\n",
              "      <th>0</th>\n",
              "      <td>No</td>\n",
              "      <td>0.364865</td>\n",
              "    </tr>\n",
              "    <tr>\n",
              "      <th>1</th>\n",
              "      <td>Yes</td>\n",
              "      <td>0.355678</td>\n",
              "    </tr>\n",
              "  </tbody>\n",
              "</table>\n",
              "</div>"
            ],
            "text/plain": [
              "  GraduateOrNot  TravelInsurance\n",
              "0            No         0.364865\n",
              "1           Yes         0.355678"
            ]
          },
          "metadata": {},
          "execution_count": 12
        }
      ]
    },
    {
      "cell_type": "code",
      "metadata": {
        "id": "siIMtX9eRG2O"
      },
      "source": [
        "#data_train['GraduateOrNot'] = data_train.FrequentFlyer.replace('Yes', 1).replace('No', 0)\n",
        "#data_test['GraduateOrNot'] = data_test.FrequentFlyer.replace('Yes', 1).replace('No', 0)"
      ],
      "execution_count": null,
      "outputs": []
    },
    {
      "cell_type": "code",
      "metadata": {
        "id": "bBw3yVG9Z06H"
      },
      "source": [
        "data_train = data_train.drop(['GraduateOrNot'], axis = 1)\n",
        "data_test = data_test.drop(['GraduateOrNot'], axis = 1)"
      ],
      "execution_count": null,
      "outputs": []
    },
    {
      "cell_type": "code",
      "metadata": {
        "colab": {
          "base_uri": "https://localhost:8080/"
        },
        "id": "wV2T8vQBuLLT",
        "outputId": "40b6e510-7473-4ca4-8a13-ca4f100acc1e"
      },
      "source": [
        "print(data_train['FrequentFlyer'].value_counts())\n",
        "print(data_test['FrequentFlyer'].value_counts())"
      ],
      "execution_count": null,
      "outputs": [
        {
          "output_type": "stream",
          "name": "stdout",
          "text": [
            "No     1173\n",
            "Yes     317\n",
            "Name: FrequentFlyer, dtype: int64\n",
            "No     397\n",
            "Yes    100\n",
            "Name: FrequentFlyer, dtype: int64\n"
          ]
        }
      ]
    },
    {
      "cell_type": "code",
      "metadata": {
        "colab": {
          "base_uri": "https://localhost:8080/",
          "height": 111
        },
        "id": "q0077NZhkUAQ",
        "outputId": "8c4401f4-7c09-410c-b7fc-2b001d56f71d"
      },
      "source": [
        "#Influye este feature en mi target?\n",
        "data_train[['FrequentFlyer', 'TravelInsurance']].groupby(['FrequentFlyer'], as_index=False).mean().sort_values(by='TravelInsurance', ascending=False)"
      ],
      "execution_count": null,
      "outputs": [
        {
          "output_type": "execute_result",
          "data": {
            "text/html": [
              "<div>\n",
              "<style scoped>\n",
              "    .dataframe tbody tr th:only-of-type {\n",
              "        vertical-align: middle;\n",
              "    }\n",
              "\n",
              "    .dataframe tbody tr th {\n",
              "        vertical-align: top;\n",
              "    }\n",
              "\n",
              "    .dataframe thead th {\n",
              "        text-align: right;\n",
              "    }\n",
              "</style>\n",
              "<table border=\"1\" class=\"dataframe\">\n",
              "  <thead>\n",
              "    <tr style=\"text-align: right;\">\n",
              "      <th></th>\n",
              "      <th>FrequentFlyer</th>\n",
              "      <th>TravelInsurance</th>\n",
              "    </tr>\n",
              "  </thead>\n",
              "  <tbody>\n",
              "    <tr>\n",
              "      <th>1</th>\n",
              "      <td>Yes</td>\n",
              "      <td>0.574132</td>\n",
              "    </tr>\n",
              "    <tr>\n",
              "      <th>0</th>\n",
              "      <td>No</td>\n",
              "      <td>0.298380</td>\n",
              "    </tr>\n",
              "  </tbody>\n",
              "</table>\n",
              "</div>"
            ],
            "text/plain": [
              "  FrequentFlyer  TravelInsurance\n",
              "1           Yes         0.574132\n",
              "0            No         0.298380"
            ]
          },
          "metadata": {},
          "execution_count": 16
        }
      ]
    },
    {
      "cell_type": "code",
      "metadata": {
        "id": "ropeWLRhkkaW"
      },
      "source": [
        "# Si influye, bastante!! Vamos a convertirla a valores de 0 y 1.\n",
        "data_train['FrequentFlyer'] = data_train.FrequentFlyer.replace('Yes', 1).replace('No', 0)\n",
        "data_test['FrequentFlyer'] = data_test.FrequentFlyer.replace('Yes', 1).replace('No', 0)"
      ],
      "execution_count": null,
      "outputs": []
    },
    {
      "cell_type": "code",
      "metadata": {
        "colab": {
          "base_uri": "https://localhost:8080/"
        },
        "id": "VeHsTlQFugRw",
        "outputId": "5c5a9d51-90c5-4257-c166-b2f1a10f66c8"
      },
      "source": [
        "print(data_train['EverTravelledAbroad'].value_counts())\n",
        "print(data_test['EverTravelledAbroad'].value_counts())"
      ],
      "execution_count": null,
      "outputs": [
        {
          "output_type": "stream",
          "name": "stdout",
          "text": [
            "No     1202\n",
            "Yes     288\n",
            "Name: EverTravelledAbroad, dtype: int64\n",
            "No     405\n",
            "Yes     92\n",
            "Name: EverTravelledAbroad, dtype: int64\n"
          ]
        }
      ]
    },
    {
      "cell_type": "code",
      "metadata": {
        "colab": {
          "base_uri": "https://localhost:8080/",
          "height": 111
        },
        "id": "Ib4uIrr6k5W9",
        "outputId": "89c03757-2e57-4066-e2aa-99eba9d3d24a"
      },
      "source": [
        "# Influye en mi target haber viajado al exterior?\n",
        "data_train[['EverTravelledAbroad', 'TravelInsurance']].groupby(['EverTravelledAbroad'], as_index=False).mean().sort_values(by='TravelInsurance', ascending=False)"
      ],
      "execution_count": null,
      "outputs": [
        {
          "output_type": "execute_result",
          "data": {
            "text/html": [
              "<div>\n",
              "<style scoped>\n",
              "    .dataframe tbody tr th:only-of-type {\n",
              "        vertical-align: middle;\n",
              "    }\n",
              "\n",
              "    .dataframe tbody tr th {\n",
              "        vertical-align: top;\n",
              "    }\n",
              "\n",
              "    .dataframe thead th {\n",
              "        text-align: right;\n",
              "    }\n",
              "</style>\n",
              "<table border=\"1\" class=\"dataframe\">\n",
              "  <thead>\n",
              "    <tr style=\"text-align: right;\">\n",
              "      <th></th>\n",
              "      <th>EverTravelledAbroad</th>\n",
              "      <th>TravelInsurance</th>\n",
              "    </tr>\n",
              "  </thead>\n",
              "  <tbody>\n",
              "    <tr>\n",
              "      <th>1</th>\n",
              "      <td>Yes</td>\n",
              "      <td>0.784722</td>\n",
              "    </tr>\n",
              "    <tr>\n",
              "      <th>0</th>\n",
              "      <td>No</td>\n",
              "      <td>0.254576</td>\n",
              "    </tr>\n",
              "  </tbody>\n",
              "</table>\n",
              "</div>"
            ],
            "text/plain": [
              "  EverTravelledAbroad  TravelInsurance\n",
              "1                 Yes         0.784722\n",
              "0                  No         0.254576"
            ]
          },
          "metadata": {},
          "execution_count": 19
        }
      ]
    },
    {
      "cell_type": "code",
      "metadata": {
        "id": "YSXoEUcguwAz"
      },
      "source": [
        "#Tambien, y mas que la de pasajero frecuente. Convirtamos estos valores a 0 y 1.\n",
        "data_train['EverTravelledAbroad'] = data_train.EverTravelledAbroad.replace('Yes', 1).replace('No', 0)\n",
        "data_test['EverTravelledAbroad'] = data_test.EverTravelledAbroad.replace('Yes', 1).replace('No', 0)"
      ],
      "execution_count": null,
      "outputs": []
    },
    {
      "cell_type": "code",
      "metadata": {
        "id": "tKcIWtKT5y4u"
      },
      "source": [
        "#Ahora pasamos estos valores 0,1 a numericos:\n",
        "data_train['FrequentFlyer'] = data_train['FrequentFlyer'].astype(int)\n",
        "data_test['FrequentFlyer'] = data_test['FrequentFlyer'].astype(int)\n",
        "#data_train['GraduateOrNot'] = data_train['GraduateOrNot'].astype(int)\n",
        "#data_test['GraduateOrNot'] = data_test['GraduateOrNot'].astype(int)\n",
        "data_train['EverTravelledAbroad'] = data_train['EverTravelledAbroad'].astype(int)\n",
        "data_test['EverTravelledAbroad'] = data_test['EverTravelledAbroad'].astype(int)"
      ],
      "execution_count": null,
      "outputs": []
    },
    {
      "cell_type": "code",
      "metadata": {
        "id": "wh9WOJkRl5P2"
      },
      "source": [
        "# Esto tambien se puede codear asi:\n",
        "# data_train['Feature'] = data_train['Feature'].map( {'condicion_a': 1, 'condicion_b': 0} ).astype(int)"
      ],
      "execution_count": null,
      "outputs": []
    },
    {
      "cell_type": "code",
      "metadata": {
        "colab": {
          "base_uri": "https://localhost:8080/"
        },
        "id": "eqtA-ksb6_YP",
        "outputId": "0e6b116a-8dde-410c-abb2-a382bd7ba0fa"
      },
      "source": [
        "#Veamos si funciono, solo con una columna:\n",
        "print(data_train.FrequentFlyer.value_counts())\n",
        "print(data_test.FrequentFlyer.value_counts())"
      ],
      "execution_count": null,
      "outputs": [
        {
          "output_type": "stream",
          "name": "stdout",
          "text": [
            "0    1173\n",
            "1     317\n",
            "Name: FrequentFlyer, dtype: int64\n",
            "0    397\n",
            "1    100\n",
            "Name: FrequentFlyer, dtype: int64\n"
          ]
        }
      ]
    },
    {
      "cell_type": "code",
      "metadata": {
        "colab": {
          "base_uri": "https://localhost:8080/",
          "height": 204
        },
        "id": "VHHj_Fx09HgT",
        "outputId": "0cc8e692-e264-45bc-e38b-e81c3ae02fde"
      },
      "source": [
        "data_train.head()"
      ],
      "execution_count": null,
      "outputs": [
        {
          "output_type": "execute_result",
          "data": {
            "text/html": [
              "<div>\n",
              "<style scoped>\n",
              "    .dataframe tbody tr th:only-of-type {\n",
              "        vertical-align: middle;\n",
              "    }\n",
              "\n",
              "    .dataframe tbody tr th {\n",
              "        vertical-align: top;\n",
              "    }\n",
              "\n",
              "    .dataframe thead th {\n",
              "        text-align: right;\n",
              "    }\n",
              "</style>\n",
              "<table border=\"1\" class=\"dataframe\">\n",
              "  <thead>\n",
              "    <tr style=\"text-align: right;\">\n",
              "      <th></th>\n",
              "      <th>Age</th>\n",
              "      <th>Employment Type</th>\n",
              "      <th>AnnualIncome</th>\n",
              "      <th>FamilyMembers</th>\n",
              "      <th>ChronicDiseases</th>\n",
              "      <th>FrequentFlyer</th>\n",
              "      <th>EverTravelledAbroad</th>\n",
              "      <th>TravelInsurance</th>\n",
              "    </tr>\n",
              "  </thead>\n",
              "  <tbody>\n",
              "    <tr>\n",
              "      <th>0</th>\n",
              "      <td>33</td>\n",
              "      <td>Private Sector/Self Employed</td>\n",
              "      <td>550000</td>\n",
              "      <td>6</td>\n",
              "      <td>0</td>\n",
              "      <td>0</td>\n",
              "      <td>0</td>\n",
              "      <td>1</td>\n",
              "    </tr>\n",
              "    <tr>\n",
              "      <th>1</th>\n",
              "      <td>28</td>\n",
              "      <td>Private Sector/Self Employed</td>\n",
              "      <td>800000</td>\n",
              "      <td>7</td>\n",
              "      <td>0</td>\n",
              "      <td>1</td>\n",
              "      <td>0</td>\n",
              "      <td>0</td>\n",
              "    </tr>\n",
              "    <tr>\n",
              "      <th>2</th>\n",
              "      <td>31</td>\n",
              "      <td>Private Sector/Self Employed</td>\n",
              "      <td>1250000</td>\n",
              "      <td>4</td>\n",
              "      <td>0</td>\n",
              "      <td>0</td>\n",
              "      <td>0</td>\n",
              "      <td>0</td>\n",
              "    </tr>\n",
              "    <tr>\n",
              "      <th>3</th>\n",
              "      <td>31</td>\n",
              "      <td>Government Sector</td>\n",
              "      <td>300000</td>\n",
              "      <td>7</td>\n",
              "      <td>0</td>\n",
              "      <td>0</td>\n",
              "      <td>0</td>\n",
              "      <td>0</td>\n",
              "    </tr>\n",
              "    <tr>\n",
              "      <th>4</th>\n",
              "      <td>28</td>\n",
              "      <td>Private Sector/Self Employed</td>\n",
              "      <td>1250000</td>\n",
              "      <td>3</td>\n",
              "      <td>0</td>\n",
              "      <td>0</td>\n",
              "      <td>0</td>\n",
              "      <td>0</td>\n",
              "    </tr>\n",
              "  </tbody>\n",
              "</table>\n",
              "</div>"
            ],
            "text/plain": [
              "   Age               Employment Type  ...  EverTravelledAbroad  TravelInsurance\n",
              "0   33  Private Sector/Self Employed  ...                    0                1\n",
              "1   28  Private Sector/Self Employed  ...                    0                0\n",
              "2   31  Private Sector/Self Employed  ...                    0                0\n",
              "3   31             Government Sector  ...                    0                0\n",
              "4   28  Private Sector/Self Employed  ...                    0                0\n",
              "\n",
              "[5 rows x 8 columns]"
            ]
          },
          "metadata": {},
          "execution_count": 24
        }
      ]
    },
    {
      "cell_type": "code",
      "metadata": {
        "colab": {
          "base_uri": "https://localhost:8080/",
          "height": 204
        },
        "id": "NPyy9SPsAudu",
        "outputId": "78748151-f06c-4f4d-d354-0dee88d5c686"
      },
      "source": [
        "data_test.head()"
      ],
      "execution_count": null,
      "outputs": [
        {
          "output_type": "execute_result",
          "data": {
            "text/html": [
              "<div>\n",
              "<style scoped>\n",
              "    .dataframe tbody tr th:only-of-type {\n",
              "        vertical-align: middle;\n",
              "    }\n",
              "\n",
              "    .dataframe tbody tr th {\n",
              "        vertical-align: top;\n",
              "    }\n",
              "\n",
              "    .dataframe thead th {\n",
              "        text-align: right;\n",
              "    }\n",
              "</style>\n",
              "<table border=\"1\" class=\"dataframe\">\n",
              "  <thead>\n",
              "    <tr style=\"text-align: right;\">\n",
              "      <th></th>\n",
              "      <th>Age</th>\n",
              "      <th>Employment Type</th>\n",
              "      <th>AnnualIncome</th>\n",
              "      <th>FamilyMembers</th>\n",
              "      <th>ChronicDiseases</th>\n",
              "      <th>FrequentFlyer</th>\n",
              "      <th>EverTravelledAbroad</th>\n",
              "    </tr>\n",
              "  </thead>\n",
              "  <tbody>\n",
              "    <tr>\n",
              "      <th>0</th>\n",
              "      <td>29</td>\n",
              "      <td>Private Sector/Self Employed</td>\n",
              "      <td>1100000</td>\n",
              "      <td>4</td>\n",
              "      <td>0</td>\n",
              "      <td>0</td>\n",
              "      <td>0</td>\n",
              "    </tr>\n",
              "    <tr>\n",
              "      <th>1</th>\n",
              "      <td>28</td>\n",
              "      <td>Private Sector/Self Employed</td>\n",
              "      <td>750000</td>\n",
              "      <td>5</td>\n",
              "      <td>1</td>\n",
              "      <td>1</td>\n",
              "      <td>0</td>\n",
              "    </tr>\n",
              "    <tr>\n",
              "      <th>2</th>\n",
              "      <td>31</td>\n",
              "      <td>Government Sector</td>\n",
              "      <td>1500000</td>\n",
              "      <td>4</td>\n",
              "      <td>0</td>\n",
              "      <td>1</td>\n",
              "      <td>1</td>\n",
              "    </tr>\n",
              "    <tr>\n",
              "      <th>3</th>\n",
              "      <td>28</td>\n",
              "      <td>Private Sector/Self Employed</td>\n",
              "      <td>1400000</td>\n",
              "      <td>3</td>\n",
              "      <td>0</td>\n",
              "      <td>0</td>\n",
              "      <td>1</td>\n",
              "    </tr>\n",
              "    <tr>\n",
              "      <th>4</th>\n",
              "      <td>33</td>\n",
              "      <td>Private Sector/Self Employed</td>\n",
              "      <td>1500000</td>\n",
              "      <td>4</td>\n",
              "      <td>0</td>\n",
              "      <td>1</td>\n",
              "      <td>1</td>\n",
              "    </tr>\n",
              "  </tbody>\n",
              "</table>\n",
              "</div>"
            ],
            "text/plain": [
              "   Age               Employment Type  ...  FrequentFlyer  EverTravelledAbroad\n",
              "0   29  Private Sector/Self Employed  ...              0                    0\n",
              "1   28  Private Sector/Self Employed  ...              1                    0\n",
              "2   31             Government Sector  ...              1                    1\n",
              "3   28  Private Sector/Self Employed  ...              0                    1\n",
              "4   33  Private Sector/Self Employed  ...              1                    1\n",
              "\n",
              "[5 rows x 7 columns]"
            ]
          },
          "metadata": {},
          "execution_count": 25
        }
      ]
    },
    {
      "cell_type": "code",
      "metadata": {
        "colab": {
          "base_uri": "https://localhost:8080/"
        },
        "id": "vJ-lwBmnvXoq",
        "outputId": "964a553f-9451-4bc2-bf5d-bdc8c13d1d5b"
      },
      "source": [
        "# Ahora veamos las features que van a llevar mas trabajo.\n",
        "print(data_train['Employment Type'].value_counts())\n",
        "print(data_test['Employment Type'].value_counts())"
      ],
      "execution_count": null,
      "outputs": [
        {
          "output_type": "stream",
          "name": "stdout",
          "text": [
            "Private Sector/Self Employed    1057\n",
            "Government Sector                433\n",
            "Name: Employment Type, dtype: int64\n",
            "Private Sector/Self Employed    360\n",
            "Government Sector               137\n",
            "Name: Employment Type, dtype: int64\n"
          ]
        }
      ]
    },
    {
      "cell_type": "code",
      "metadata": {
        "colab": {
          "base_uri": "https://localhost:8080/",
          "height": 111
        },
        "id": "Lw6rPZOSyaon",
        "outputId": "aebbacf9-317b-475b-a2f0-7041208f4476"
      },
      "source": [
        "data_train[['Employment Type', 'TravelInsurance']].groupby(['Employment Type'], as_index=False).mean().sort_values(by='TravelInsurance', ascending=False)"
      ],
      "execution_count": null,
      "outputs": [
        {
          "output_type": "execute_result",
          "data": {
            "text/html": [
              "<div>\n",
              "<style scoped>\n",
              "    .dataframe tbody tr th:only-of-type {\n",
              "        vertical-align: middle;\n",
              "    }\n",
              "\n",
              "    .dataframe tbody tr th {\n",
              "        vertical-align: top;\n",
              "    }\n",
              "\n",
              "    .dataframe thead th {\n",
              "        text-align: right;\n",
              "    }\n",
              "</style>\n",
              "<table border=\"1\" class=\"dataframe\">\n",
              "  <thead>\n",
              "    <tr style=\"text-align: right;\">\n",
              "      <th></th>\n",
              "      <th>Employment Type</th>\n",
              "      <th>TravelInsurance</th>\n",
              "    </tr>\n",
              "  </thead>\n",
              "  <tbody>\n",
              "    <tr>\n",
              "      <th>1</th>\n",
              "      <td>Private Sector/Self Employed</td>\n",
              "      <td>0.408704</td>\n",
              "    </tr>\n",
              "    <tr>\n",
              "      <th>0</th>\n",
              "      <td>Government Sector</td>\n",
              "      <td>0.230947</td>\n",
              "    </tr>\n",
              "  </tbody>\n",
              "</table>\n",
              "</div>"
            ],
            "text/plain": [
              "                Employment Type  TravelInsurance\n",
              "1  Private Sector/Self Employed         0.408704\n",
              "0             Government Sector         0.230947"
            ]
          },
          "metadata": {},
          "execution_count": 27
        }
      ]
    },
    {
      "cell_type": "code",
      "metadata": {
        "colab": {
          "base_uri": "https://localhost:8080/",
          "height": 204
        },
        "id": "Df7-svULvqOT",
        "outputId": "70b18972-2fb5-445e-a969-97886cb91a6d"
      },
      "source": [
        "# Bien, el sector privado saca mas seguros que el sector publico. \n",
        "# En esta variable podemos utilizar un OneHotEncoder, para convertir cada respuesta en un 0 o 1 (presente/ausente)\n",
        "# Para el dataset de entrenamiento\n",
        "from sklearn.preprocessing import OneHotEncoder \n",
        "onehot_encoder = OneHotEncoder() \n",
        "tipo_trabajo=onehot_encoder.fit_transform(data_train[['Employment Type']]).toarray()\n",
        "tipo_trabajo=pd.DataFrame(tipo_trabajo, columns=onehot_encoder.categories_[0])\n",
        "tipo_trabajo.head()"
      ],
      "execution_count": null,
      "outputs": [
        {
          "output_type": "execute_result",
          "data": {
            "text/html": [
              "<div>\n",
              "<style scoped>\n",
              "    .dataframe tbody tr th:only-of-type {\n",
              "        vertical-align: middle;\n",
              "    }\n",
              "\n",
              "    .dataframe tbody tr th {\n",
              "        vertical-align: top;\n",
              "    }\n",
              "\n",
              "    .dataframe thead th {\n",
              "        text-align: right;\n",
              "    }\n",
              "</style>\n",
              "<table border=\"1\" class=\"dataframe\">\n",
              "  <thead>\n",
              "    <tr style=\"text-align: right;\">\n",
              "      <th></th>\n",
              "      <th>Government Sector</th>\n",
              "      <th>Private Sector/Self Employed</th>\n",
              "    </tr>\n",
              "  </thead>\n",
              "  <tbody>\n",
              "    <tr>\n",
              "      <th>0</th>\n",
              "      <td>0.0</td>\n",
              "      <td>1.0</td>\n",
              "    </tr>\n",
              "    <tr>\n",
              "      <th>1</th>\n",
              "      <td>0.0</td>\n",
              "      <td>1.0</td>\n",
              "    </tr>\n",
              "    <tr>\n",
              "      <th>2</th>\n",
              "      <td>0.0</td>\n",
              "      <td>1.0</td>\n",
              "    </tr>\n",
              "    <tr>\n",
              "      <th>3</th>\n",
              "      <td>1.0</td>\n",
              "      <td>0.0</td>\n",
              "    </tr>\n",
              "    <tr>\n",
              "      <th>4</th>\n",
              "      <td>0.0</td>\n",
              "      <td>1.0</td>\n",
              "    </tr>\n",
              "  </tbody>\n",
              "</table>\n",
              "</div>"
            ],
            "text/plain": [
              "   Government Sector  Private Sector/Self Employed\n",
              "0                0.0                           1.0\n",
              "1                0.0                           1.0\n",
              "2                0.0                           1.0\n",
              "3                1.0                           0.0\n",
              "4                0.0                           1.0"
            ]
          },
          "metadata": {},
          "execution_count": 28
        }
      ]
    },
    {
      "cell_type": "code",
      "metadata": {
        "id": "BCXwzDOE21r6"
      },
      "source": [
        "# Ahora necesito dropear la columna original y pegarle esta nueva:\n",
        "data_train = data_train.drop(['Employment Type'], axis=1)"
      ],
      "execution_count": null,
      "outputs": []
    },
    {
      "cell_type": "code",
      "metadata": {
        "id": "taYLoKfPB6VW"
      },
      "source": [
        "data_train = data_train.join(tipo_trabajo)"
      ],
      "execution_count": null,
      "outputs": []
    },
    {
      "cell_type": "code",
      "metadata": {
        "colab": {
          "base_uri": "https://localhost:8080/",
          "height": 128
        },
        "id": "EeApPkhTCvwP",
        "outputId": "8d9a0163-ad34-4d97-fe4e-6af49bf684b8"
      },
      "source": [
        "data_train[:2]"
      ],
      "execution_count": null,
      "outputs": [
        {
          "output_type": "execute_result",
          "data": {
            "text/html": [
              "<div>\n",
              "<style scoped>\n",
              "    .dataframe tbody tr th:only-of-type {\n",
              "        vertical-align: middle;\n",
              "    }\n",
              "\n",
              "    .dataframe tbody tr th {\n",
              "        vertical-align: top;\n",
              "    }\n",
              "\n",
              "    .dataframe thead th {\n",
              "        text-align: right;\n",
              "    }\n",
              "</style>\n",
              "<table border=\"1\" class=\"dataframe\">\n",
              "  <thead>\n",
              "    <tr style=\"text-align: right;\">\n",
              "      <th></th>\n",
              "      <th>Age</th>\n",
              "      <th>AnnualIncome</th>\n",
              "      <th>FamilyMembers</th>\n",
              "      <th>ChronicDiseases</th>\n",
              "      <th>FrequentFlyer</th>\n",
              "      <th>EverTravelledAbroad</th>\n",
              "      <th>TravelInsurance</th>\n",
              "      <th>Government Sector</th>\n",
              "      <th>Private Sector/Self Employed</th>\n",
              "    </tr>\n",
              "  </thead>\n",
              "  <tbody>\n",
              "    <tr>\n",
              "      <th>0</th>\n",
              "      <td>33</td>\n",
              "      <td>550000</td>\n",
              "      <td>6</td>\n",
              "      <td>0</td>\n",
              "      <td>0</td>\n",
              "      <td>0</td>\n",
              "      <td>1</td>\n",
              "      <td>0.0</td>\n",
              "      <td>1.0</td>\n",
              "    </tr>\n",
              "    <tr>\n",
              "      <th>1</th>\n",
              "      <td>28</td>\n",
              "      <td>800000</td>\n",
              "      <td>7</td>\n",
              "      <td>0</td>\n",
              "      <td>1</td>\n",
              "      <td>0</td>\n",
              "      <td>0</td>\n",
              "      <td>0.0</td>\n",
              "      <td>1.0</td>\n",
              "    </tr>\n",
              "  </tbody>\n",
              "</table>\n",
              "</div>"
            ],
            "text/plain": [
              "   Age  AnnualIncome  ...  Government Sector  Private Sector/Self Employed\n",
              "0   33        550000  ...                0.0                           1.0\n",
              "1   28        800000  ...                0.0                           1.0\n",
              "\n",
              "[2 rows x 9 columns]"
            ]
          },
          "metadata": {},
          "execution_count": 31
        }
      ]
    },
    {
      "cell_type": "code",
      "metadata": {
        "colab": {
          "base_uri": "https://localhost:8080/",
          "height": 204
        },
        "id": "eu3ZaOil2YbQ",
        "outputId": "19c144f3-7eb0-4c1b-c6b3-18bf07eac65a"
      },
      "source": [
        "# Para el dataset de test\n",
        "tipo_trabajo=onehot_encoder.fit_transform(data_test[['Employment Type']]).toarray()\n",
        "tipo_trabajo=pd.DataFrame(tipo_trabajo, columns=onehot_encoder.categories_[0])\n",
        "tipo_trabajo.head()"
      ],
      "execution_count": null,
      "outputs": [
        {
          "output_type": "execute_result",
          "data": {
            "text/html": [
              "<div>\n",
              "<style scoped>\n",
              "    .dataframe tbody tr th:only-of-type {\n",
              "        vertical-align: middle;\n",
              "    }\n",
              "\n",
              "    .dataframe tbody tr th {\n",
              "        vertical-align: top;\n",
              "    }\n",
              "\n",
              "    .dataframe thead th {\n",
              "        text-align: right;\n",
              "    }\n",
              "</style>\n",
              "<table border=\"1\" class=\"dataframe\">\n",
              "  <thead>\n",
              "    <tr style=\"text-align: right;\">\n",
              "      <th></th>\n",
              "      <th>Government Sector</th>\n",
              "      <th>Private Sector/Self Employed</th>\n",
              "    </tr>\n",
              "  </thead>\n",
              "  <tbody>\n",
              "    <tr>\n",
              "      <th>0</th>\n",
              "      <td>0.0</td>\n",
              "      <td>1.0</td>\n",
              "    </tr>\n",
              "    <tr>\n",
              "      <th>1</th>\n",
              "      <td>0.0</td>\n",
              "      <td>1.0</td>\n",
              "    </tr>\n",
              "    <tr>\n",
              "      <th>2</th>\n",
              "      <td>1.0</td>\n",
              "      <td>0.0</td>\n",
              "    </tr>\n",
              "    <tr>\n",
              "      <th>3</th>\n",
              "      <td>0.0</td>\n",
              "      <td>1.0</td>\n",
              "    </tr>\n",
              "    <tr>\n",
              "      <th>4</th>\n",
              "      <td>0.0</td>\n",
              "      <td>1.0</td>\n",
              "    </tr>\n",
              "  </tbody>\n",
              "</table>\n",
              "</div>"
            ],
            "text/plain": [
              "   Government Sector  Private Sector/Self Employed\n",
              "0                0.0                           1.0\n",
              "1                0.0                           1.0\n",
              "2                1.0                           0.0\n",
              "3                0.0                           1.0\n",
              "4                0.0                           1.0"
            ]
          },
          "metadata": {},
          "execution_count": 32
        }
      ]
    },
    {
      "cell_type": "code",
      "metadata": {
        "id": "YicvJm6EC4U9"
      },
      "source": [
        "data_test = data_test.drop(['Employment Type'], axis=1)"
      ],
      "execution_count": null,
      "outputs": []
    },
    {
      "cell_type": "code",
      "metadata": {
        "id": "WCrs5I4j3UVC"
      },
      "source": [
        "data_test = data_test.join(tipo_trabajo)"
      ],
      "execution_count": null,
      "outputs": []
    },
    {
      "cell_type": "code",
      "metadata": {
        "colab": {
          "base_uri": "https://localhost:8080/",
          "height": 204
        },
        "id": "x8uiVWw-3ivB",
        "outputId": "8b75595f-98d2-4757-8a2b-93ef8393e4e8"
      },
      "source": [
        "data_test.head()"
      ],
      "execution_count": null,
      "outputs": [
        {
          "output_type": "execute_result",
          "data": {
            "text/html": [
              "<div>\n",
              "<style scoped>\n",
              "    .dataframe tbody tr th:only-of-type {\n",
              "        vertical-align: middle;\n",
              "    }\n",
              "\n",
              "    .dataframe tbody tr th {\n",
              "        vertical-align: top;\n",
              "    }\n",
              "\n",
              "    .dataframe thead th {\n",
              "        text-align: right;\n",
              "    }\n",
              "</style>\n",
              "<table border=\"1\" class=\"dataframe\">\n",
              "  <thead>\n",
              "    <tr style=\"text-align: right;\">\n",
              "      <th></th>\n",
              "      <th>Age</th>\n",
              "      <th>AnnualIncome</th>\n",
              "      <th>FamilyMembers</th>\n",
              "      <th>ChronicDiseases</th>\n",
              "      <th>FrequentFlyer</th>\n",
              "      <th>EverTravelledAbroad</th>\n",
              "      <th>Government Sector</th>\n",
              "      <th>Private Sector/Self Employed</th>\n",
              "    </tr>\n",
              "  </thead>\n",
              "  <tbody>\n",
              "    <tr>\n",
              "      <th>0</th>\n",
              "      <td>29</td>\n",
              "      <td>1100000</td>\n",
              "      <td>4</td>\n",
              "      <td>0</td>\n",
              "      <td>0</td>\n",
              "      <td>0</td>\n",
              "      <td>0.0</td>\n",
              "      <td>1.0</td>\n",
              "    </tr>\n",
              "    <tr>\n",
              "      <th>1</th>\n",
              "      <td>28</td>\n",
              "      <td>750000</td>\n",
              "      <td>5</td>\n",
              "      <td>1</td>\n",
              "      <td>1</td>\n",
              "      <td>0</td>\n",
              "      <td>0.0</td>\n",
              "      <td>1.0</td>\n",
              "    </tr>\n",
              "    <tr>\n",
              "      <th>2</th>\n",
              "      <td>31</td>\n",
              "      <td>1500000</td>\n",
              "      <td>4</td>\n",
              "      <td>0</td>\n",
              "      <td>1</td>\n",
              "      <td>1</td>\n",
              "      <td>1.0</td>\n",
              "      <td>0.0</td>\n",
              "    </tr>\n",
              "    <tr>\n",
              "      <th>3</th>\n",
              "      <td>28</td>\n",
              "      <td>1400000</td>\n",
              "      <td>3</td>\n",
              "      <td>0</td>\n",
              "      <td>0</td>\n",
              "      <td>1</td>\n",
              "      <td>0.0</td>\n",
              "      <td>1.0</td>\n",
              "    </tr>\n",
              "    <tr>\n",
              "      <th>4</th>\n",
              "      <td>33</td>\n",
              "      <td>1500000</td>\n",
              "      <td>4</td>\n",
              "      <td>0</td>\n",
              "      <td>1</td>\n",
              "      <td>1</td>\n",
              "      <td>0.0</td>\n",
              "      <td>1.0</td>\n",
              "    </tr>\n",
              "  </tbody>\n",
              "</table>\n",
              "</div>"
            ],
            "text/plain": [
              "   Age  AnnualIncome  ...  Government Sector  Private Sector/Self Employed\n",
              "0   29       1100000  ...                0.0                           1.0\n",
              "1   28        750000  ...                0.0                           1.0\n",
              "2   31       1500000  ...                1.0                           0.0\n",
              "3   28       1400000  ...                0.0                           1.0\n",
              "4   33       1500000  ...                0.0                           1.0\n",
              "\n",
              "[5 rows x 8 columns]"
            ]
          },
          "metadata": {},
          "execution_count": 35
        }
      ]
    },
    {
      "cell_type": "code",
      "metadata": {
        "colab": {
          "base_uri": "https://localhost:8080/"
        },
        "id": "F2XqN1CW3zt6",
        "outputId": "d3245d63-4da2-48d0-d9ed-c1e05b55ae23"
      },
      "source": [
        "#Joya! Ahora las mas dificiles de encodear: Age, AnnualIncome y FamilyMembers.\n",
        "# Podemos hacer un MinMaxScaler, o podemos hacer bins y dividir cada columna en \"categorias\" para luego aplicar un OneHot...\n",
        "# O... algunas de estas features pueden tener un 'orden'. Por ejemplo, a mayor ingreso anual, mas probabilidad de contratar el seguro.\n",
        "print(data_train['AnnualIncome'].sort_values()) # Los ingresos van entre 300.000 y 1.800.000\n",
        "print(data_train['Age'].sort_values()) # Entre 25 y 35 anios.\n",
        "print(data_train['FamilyMembers'].sort_values()) # Entre 2 y 9 miembros."
      ],
      "execution_count": null,
      "outputs": [
        {
          "output_type": "stream",
          "name": "stdout",
          "text": [
            "1008     300000\n",
            "360      300000\n",
            "652      300000\n",
            "1135     300000\n",
            "1138     300000\n",
            "         ...   \n",
            "1066    1750000\n",
            "1258    1800000\n",
            "1132    1800000\n",
            "611     1800000\n",
            "902     1800000\n",
            "Name: AnnualIncome, Length: 1490, dtype: int64\n",
            "479     25\n",
            "273     25\n",
            "116     25\n",
            "281     25\n",
            "1258    25\n",
            "        ..\n",
            "1016    35\n",
            "1336    35\n",
            "1399    35\n",
            "52      35\n",
            "311     35\n",
            "Name: Age, Length: 1490, dtype: int64\n",
            "1116    2\n",
            "1231    2\n",
            "814     2\n",
            "1334    2\n",
            "1229    2\n",
            "       ..\n",
            "228     9\n",
            "170     9\n",
            "83      9\n",
            "1348    9\n",
            "818     9\n",
            "Name: FamilyMembers, Length: 1490, dtype: int64\n"
          ]
        }
      ]
    },
    {
      "cell_type": "code",
      "metadata": {
        "colab": {
          "base_uri": "https://localhost:8080/",
          "height": 296
        },
        "id": "inanVOElJioW",
        "outputId": "226a9af3-caf0-4d9c-9abb-c206e993efae"
      },
      "source": [
        "# Habra alguna correlacion entre estas variables? Veamos su distribucion para evaluar que indice utilizar\n",
        "# Con un scatter plot veo si hay una tendencia. Debería ver una línea diagonal....\n",
        "import matplotlib.pyplot as plt\n",
        "\n",
        "fig, ax = plt.subplots(1, 1, figsize=(6,4))\n",
        "ax.scatter(x = data_train.FamilyMembers, y=data_train.Age, alpha= 0.8)\n",
        "ax.set_xlabel('Miembros Familiares')\n",
        "ax.set_ylabel('Edad')"
      ],
      "execution_count": null,
      "outputs": [
        {
          "output_type": "execute_result",
          "data": {
            "text/plain": [
              "Text(0, 0.5, 'Edad')"
            ]
          },
          "metadata": {},
          "execution_count": 37
        },
        {
          "output_type": "display_data",
          "data": {
            "image/png": "[encoded data removed]",
            "text/plain": [
              "<Figure size 432x288 with 1 Axes>"
            ]
          },
          "metadata": {
            "needs_background": "light"
          }
        }
      ]
    },
    {
      "cell_type": "code",
      "metadata": {
        "colab": {
          "base_uri": "https://localhost:8080/",
          "height": 296
        },
        "id": "n-QhHxPANCtr",
        "outputId": "ffee1690-d1e3-49fc-9f19-fd5a60b8b6da"
      },
      "source": [
        "fig, ax = plt.subplots(1, 1, figsize=(6,4))\n",
        "ax.scatter(x = data_train.AnnualIncome, y=data_train.Age, alpha= 0.8)\n",
        "ax.set_xlabel('Ingreso Anual')\n",
        "ax.set_ylabel('Edad')"
      ],
      "execution_count": null,
      "outputs": [
        {
          "output_type": "execute_result",
          "data": {
            "text/plain": [
              "Text(0, 0.5, 'Edad')"
            ]
          },
          "metadata": {},
          "execution_count": 38
        },
        {
          "output_type": "display_data",
          "data": {
            "image/png": "[encoded data removed]",
            "text/plain": [
              "<Figure size 432x288 with 1 Axes>"
            ]
          },
          "metadata": {
            "needs_background": "light"
          }
        }
      ]
    },
    {
      "cell_type": "code",
      "metadata": {
        "colab": {
          "base_uri": "https://localhost:8080/",
          "height": 307
        },
        "id": "-Xggz25YNN0F",
        "outputId": "139d5402-dc10-447b-b09b-268d8a7eac63"
      },
      "source": [
        "fig, ax = plt.subplots(1, 1, figsize=(6,4))\n",
        "ax.scatter(x = data_train.FamilyMembers, y=data_train.AnnualIncome, alpha= 0.8)\n",
        "ax.set_xlabel('Grupo Familiar')\n",
        "ax.set_ylabel('Ingreso Anual')"
      ],
      "execution_count": null,
      "outputs": [
        {
          "output_type": "execute_result",
          "data": {
            "text/plain": [
              "Text(0, 0.5, 'Ingreso Anual')"
            ]
          },
          "metadata": {},
          "execution_count": 39
        },
        {
          "output_type": "display_data",
          "data": {
            "image/png": "[encoded data removed]",
            "text/plain": [
              "<Figure size 432x288 with 1 Axes>"
            ]
          },
          "metadata": {
            "needs_background": "light"
          }
        }
      ]
    },
    {
      "cell_type": "code",
      "metadata": {
        "id": "--INnFl8Nf6Y"
      },
      "source": [
        "# No hay ninguna asociacion entre estas variables. Por lo tanto no existe correlacion entre ninguna de ellas."
      ],
      "execution_count": null,
      "outputs": []
    },
    {
      "cell_type": "code",
      "metadata": {
        "colab": {
          "base_uri": "https://localhost:8080/",
          "height": 567
        },
        "id": "cty6YHZaBF6v",
        "outputId": "1fdead60-bdaa-4068-b3fc-7bb323009d4d"
      },
      "source": [
        "# Veamos como dan estas variables con el target:\n",
        "import seaborn as sns\n",
        "sns.pairplot(data_train[['AnnualIncome', 'Age', 'FamilyMembers', 'TravelInsurance']],\n",
        "             hue = 'TravelInsurance')\n",
        "# Por lo que se puede ver, la feature que mas aporta es AnnualIncome. El histograma de frecuencia esta corrido a la derecha. Es decir,\n",
        "# Las personas con mayores ingresos anuales parecen contratar mas seguros que las de menores ingresos. El limite estaria cerca de los...\n",
        "# 1.25 1e6 (o el millon 250 mil pesos de ingreso anual).\n",
        "# En cuanto a las otras variables, podemos ver hay un pico de personas jovenes (25 a 30) que no suelen contrar seguro.\n",
        "# El nro de miembros de familia no parece influir demasiado."
      ],
      "execution_count": null,
      "outputs": [
        {
          "output_type": "execute_result",
          "data": {
            "text/plain": [
              "<seaborn.axisgrid.PairGrid at 0x7f8c92583f10>"
            ]
          },
          "metadata": {},
          "execution_count": 41
        },
        {
          "output_type": "display_data",
          "data": {
            "image/png": "[encoded data removed]",
            "text/plain": [
              "<Figure size 626.75x540 with 12 Axes>"
            ]
          },
          "metadata": {
            "needs_background": "light"
          }
        }
      ]
    },
    {
      "cell_type": "code",
      "metadata": {
        "colab": {
          "base_uri": "https://localhost:8080/",
          "height": 350
        },
        "id": "kfNZ2LdRAU_T",
        "outputId": "9148c8ac-f00a-4dd9-87f7-5818346930d6"
      },
      "source": [
        "# Analicemos una por una....\n",
        "# OUTLIERS\n",
        "sns.boxplot(data_train['FamilyMembers']) # No hay outliers"
      ],
      "execution_count": null,
      "outputs": [
        {
          "output_type": "stream",
          "name": "stderr",
          "text": [
            "/usr/local/lib/python3.7/dist-packages/seaborn/_decorators.py:43: FutureWarning: Pass the following variable as a keyword arg: x. From version 0.12, the only valid positional argument will be `data`, and passing other arguments without an explicit keyword will result in an error or misinterpretation.\n",
            "  FutureWarning\n"
          ]
        },
        {
          "output_type": "execute_result",
          "data": {
            "text/plain": [
              "<matplotlib.axes._subplots.AxesSubplot at 0x7f8c865bb790>"
            ]
          },
          "metadata": {},
          "execution_count": 42
        },
        {
          "output_type": "display_data",
          "data": {
            "image/png": "[encoded data removed]",
            "text/plain": [
              "<Figure size 432x288 with 1 Axes>"
            ]
          },
          "metadata": {
            "needs_background": "light"
          }
        }
      ]
    },
    {
      "cell_type": "code",
      "metadata": {
        "colab": {
          "base_uri": "https://localhost:8080/"
        },
        "id": "t8Fssb7HGrh3",
        "outputId": "6bddae84-d843-4b20-e8b9-dbf30436f3f2"
      },
      "source": [
        "data_train['FamilyMembers'].unique() # No hay ningun viajero solo"
      ],
      "execution_count": null,
      "outputs": [
        {
          "output_type": "execute_result",
          "data": {
            "text/plain": [
              "array([6, 7, 4, 3, 5, 2, 8, 9])"
            ]
          },
          "metadata": {},
          "execution_count": 43
        }
      ]
    },
    {
      "cell_type": "code",
      "metadata": {
        "colab": {
          "base_uri": "https://localhost:8080/",
          "height": 359
        },
        "id": "shZxLPacW7s6",
        "outputId": "0e04ca77-b390-4b8f-9ced-331582ac7e06"
      },
      "source": [
        "# Evaluemos esta feature con una tabla de contingencia....\n",
        "pd.crosstab(data_train.FamilyMembers, data_train.TravelInsurance, margins=True, normalize=True)\n",
        "# Se ve lo mismo que en el pariplot.... las familias menos numerosas tienden a comprar MENOS seguro.\n",
        "# Cuando las familias son mas numerosas (a partir de 6 miembros), la proporcion entre los que adquieren seguro y los que no se equipara.\n",
        "# Tendria un poco mas de sentido ofrecerle seguro a los de familia de mas de 6 miembros."
      ],
      "execution_count": null,
      "outputs": [
        {
          "output_type": "execute_result",
          "data": {
            "text/html": [
              "<div>\n",
              "<style scoped>\n",
              "    .dataframe tbody tr th:only-of-type {\n",
              "        vertical-align: middle;\n",
              "    }\n",
              "\n",
              "    .dataframe tbody tr th {\n",
              "        vertical-align: top;\n",
              "    }\n",
              "\n",
              "    .dataframe thead th {\n",
              "        text-align: right;\n",
              "    }\n",
              "</style>\n",
              "<table border=\"1\" class=\"dataframe\">\n",
              "  <thead>\n",
              "    <tr style=\"text-align: right;\">\n",
              "      <th>TravelInsurance</th>\n",
              "      <th>0</th>\n",
              "      <th>1</th>\n",
              "      <th>All</th>\n",
              "    </tr>\n",
              "    <tr>\n",
              "      <th>FamilyMembers</th>\n",
              "      <th></th>\n",
              "      <th></th>\n",
              "      <th></th>\n",
              "    </tr>\n",
              "  </thead>\n",
              "  <tbody>\n",
              "    <tr>\n",
              "      <th>2</th>\n",
              "      <td>0.030872</td>\n",
              "      <td>0.015436</td>\n",
              "      <td>0.046309</td>\n",
              "    </tr>\n",
              "    <tr>\n",
              "      <th>3</th>\n",
              "      <td>0.126174</td>\n",
              "      <td>0.069128</td>\n",
              "      <td>0.195302</td>\n",
              "    </tr>\n",
              "    <tr>\n",
              "      <th>4</th>\n",
              "      <td>0.169128</td>\n",
              "      <td>0.073154</td>\n",
              "      <td>0.242282</td>\n",
              "    </tr>\n",
              "    <tr>\n",
              "      <th>5</th>\n",
              "      <td>0.148322</td>\n",
              "      <td>0.067785</td>\n",
              "      <td>0.216107</td>\n",
              "    </tr>\n",
              "    <tr>\n",
              "      <th>6</th>\n",
              "      <td>0.081208</td>\n",
              "      <td>0.063758</td>\n",
              "      <td>0.144966</td>\n",
              "    </tr>\n",
              "    <tr>\n",
              "      <th>7</th>\n",
              "      <td>0.051678</td>\n",
              "      <td>0.040940</td>\n",
              "      <td>0.092617</td>\n",
              "    </tr>\n",
              "    <tr>\n",
              "      <th>8</th>\n",
              "      <td>0.020134</td>\n",
              "      <td>0.010738</td>\n",
              "      <td>0.030872</td>\n",
              "    </tr>\n",
              "    <tr>\n",
              "      <th>9</th>\n",
              "      <td>0.015436</td>\n",
              "      <td>0.016107</td>\n",
              "      <td>0.031544</td>\n",
              "    </tr>\n",
              "    <tr>\n",
              "      <th>All</th>\n",
              "      <td>0.642953</td>\n",
              "      <td>0.357047</td>\n",
              "      <td>1.000000</td>\n",
              "    </tr>\n",
              "  </tbody>\n",
              "</table>\n",
              "</div>"
            ],
            "text/plain": [
              "TravelInsurance         0         1       All\n",
              "FamilyMembers                                \n",
              "2                0.030872  0.015436  0.046309\n",
              "3                0.126174  0.069128  0.195302\n",
              "4                0.169128  0.073154  0.242282\n",
              "5                0.148322  0.067785  0.216107\n",
              "6                0.081208  0.063758  0.144966\n",
              "7                0.051678  0.040940  0.092617\n",
              "8                0.020134  0.010738  0.030872\n",
              "9                0.015436  0.016107  0.031544\n",
              "All              0.642953  0.357047  1.000000"
            ]
          },
          "metadata": {},
          "execution_count": 44
        }
      ]
    },
    {
      "cell_type": "code",
      "metadata": {
        "id": "XH1Yt70OHqME"
      },
      "source": [
        "#data_train.loc[data_train['FamilyMembers'] <= 5, 'FamilyMembers'] = 1\n",
        "#data_train.loc[data_train['FamilyMembers'] > 5, 'FamilyMembers'] = 2\n",
        "#data_train[:2]"
      ],
      "execution_count": null,
      "outputs": []
    },
    {
      "cell_type": "code",
      "metadata": {
        "id": "Mfm2S9WTZLGq"
      },
      "source": [
        "# Hacemos lo mismo con los datos de test:\n",
        "#data_test.loc[data_test['FamilyMembers'] <= 6, 'FamilyMembers'] = 0\n",
        "#data_test.loc[data_test['FamilyMembers'] > 6, 'FamilyMembers'] = 1"
      ],
      "execution_count": null,
      "outputs": []
    },
    {
      "cell_type": "code",
      "metadata": {
        "colab": {
          "base_uri": "https://localhost:8080/",
          "height": 204
        },
        "id": "pcL7JMxvrDM6",
        "outputId": "dae8931d-311a-4290-cf55-ad0b9a96bdec"
      },
      "source": [
        "familia = onehot_encoder.fit_transform(data_train[['FamilyMembers']]).toarray()\n",
        "familia = pd.DataFrame(familia, columns = onehot_encoder.categories_[0])\n",
        "familia.head()"
      ],
      "execution_count": null,
      "outputs": [
        {
          "output_type": "execute_result",
          "data": {
            "text/html": [
              "<div>\n",
              "<style scoped>\n",
              "    .dataframe tbody tr th:only-of-type {\n",
              "        vertical-align: middle;\n",
              "    }\n",
              "\n",
              "    .dataframe tbody tr th {\n",
              "        vertical-align: top;\n",
              "    }\n",
              "\n",
              "    .dataframe thead th {\n",
              "        text-align: right;\n",
              "    }\n",
              "</style>\n",
              "<table border=\"1\" class=\"dataframe\">\n",
              "  <thead>\n",
              "    <tr style=\"text-align: right;\">\n",
              "      <th></th>\n",
              "      <th>2</th>\n",
              "      <th>3</th>\n",
              "      <th>4</th>\n",
              "      <th>5</th>\n",
              "      <th>6</th>\n",
              "      <th>7</th>\n",
              "      <th>8</th>\n",
              "      <th>9</th>\n",
              "    </tr>\n",
              "  </thead>\n",
              "  <tbody>\n",
              "    <tr>\n",
              "      <th>0</th>\n",
              "      <td>0.0</td>\n",
              "      <td>0.0</td>\n",
              "      <td>0.0</td>\n",
              "      <td>0.0</td>\n",
              "      <td>1.0</td>\n",
              "      <td>0.0</td>\n",
              "      <td>0.0</td>\n",
              "      <td>0.0</td>\n",
              "    </tr>\n",
              "    <tr>\n",
              "      <th>1</th>\n",
              "      <td>0.0</td>\n",
              "      <td>0.0</td>\n",
              "      <td>0.0</td>\n",
              "      <td>0.0</td>\n",
              "      <td>0.0</td>\n",
              "      <td>1.0</td>\n",
              "      <td>0.0</td>\n",
              "      <td>0.0</td>\n",
              "    </tr>\n",
              "    <tr>\n",
              "      <th>2</th>\n",
              "      <td>0.0</td>\n",
              "      <td>0.0</td>\n",
              "      <td>1.0</td>\n",
              "      <td>0.0</td>\n",
              "      <td>0.0</td>\n",
              "      <td>0.0</td>\n",
              "      <td>0.0</td>\n",
              "      <td>0.0</td>\n",
              "    </tr>\n",
              "    <tr>\n",
              "      <th>3</th>\n",
              "      <td>0.0</td>\n",
              "      <td>0.0</td>\n",
              "      <td>0.0</td>\n",
              "      <td>0.0</td>\n",
              "      <td>0.0</td>\n",
              "      <td>1.0</td>\n",
              "      <td>0.0</td>\n",
              "      <td>0.0</td>\n",
              "    </tr>\n",
              "    <tr>\n",
              "      <th>4</th>\n",
              "      <td>0.0</td>\n",
              "      <td>1.0</td>\n",
              "      <td>0.0</td>\n",
              "      <td>0.0</td>\n",
              "      <td>0.0</td>\n",
              "      <td>0.0</td>\n",
              "      <td>0.0</td>\n",
              "      <td>0.0</td>\n",
              "    </tr>\n",
              "  </tbody>\n",
              "</table>\n",
              "</div>"
            ],
            "text/plain": [
              "     2    3    4    5    6    7    8    9\n",
              "0  0.0  0.0  0.0  0.0  1.0  0.0  0.0  0.0\n",
              "1  0.0  0.0  0.0  0.0  0.0  1.0  0.0  0.0\n",
              "2  0.0  0.0  1.0  0.0  0.0  0.0  0.0  0.0\n",
              "3  0.0  0.0  0.0  0.0  0.0  1.0  0.0  0.0\n",
              "4  0.0  1.0  0.0  0.0  0.0  0.0  0.0  0.0"
            ]
          },
          "metadata": {},
          "execution_count": 47
        }
      ]
    },
    {
      "cell_type": "code",
      "metadata": {
        "colab": {
          "base_uri": "https://localhost:8080/",
          "height": 165
        },
        "id": "4UqCg8fBr_C3",
        "outputId": "deddde40-e1c1-4936-b3c3-5d0fa0447cee"
      },
      "source": [
        "data_train = data_train.drop(['FamilyMembers'], axis=1)\n",
        "data_train = data_train.join(familia)\n",
        "data_train[:2]"
      ],
      "execution_count": null,
      "outputs": [
        {
          "output_type": "execute_result",
          "data": {
            "text/html": [
              "<div>\n",
              "<style scoped>\n",
              "    .dataframe tbody tr th:only-of-type {\n",
              "        vertical-align: middle;\n",
              "    }\n",
              "\n",
              "    .dataframe tbody tr th {\n",
              "        vertical-align: top;\n",
              "    }\n",
              "\n",
              "    .dataframe thead th {\n",
              "        text-align: right;\n",
              "    }\n",
              "</style>\n",
              "<table border=\"1\" class=\"dataframe\">\n",
              "  <thead>\n",
              "    <tr style=\"text-align: right;\">\n",
              "      <th></th>\n",
              "      <th>Age</th>\n",
              "      <th>AnnualIncome</th>\n",
              "      <th>ChronicDiseases</th>\n",
              "      <th>FrequentFlyer</th>\n",
              "      <th>EverTravelledAbroad</th>\n",
              "      <th>TravelInsurance</th>\n",
              "      <th>Government Sector</th>\n",
              "      <th>Private Sector/Self Employed</th>\n",
              "      <th>2</th>\n",
              "      <th>3</th>\n",
              "      <th>4</th>\n",
              "      <th>5</th>\n",
              "      <th>6</th>\n",
              "      <th>7</th>\n",
              "      <th>8</th>\n",
              "      <th>9</th>\n",
              "    </tr>\n",
              "  </thead>\n",
              "  <tbody>\n",
              "    <tr>\n",
              "      <th>0</th>\n",
              "      <td>33</td>\n",
              "      <td>550000</td>\n",
              "      <td>0</td>\n",
              "      <td>0</td>\n",
              "      <td>0</td>\n",
              "      <td>1</td>\n",
              "      <td>0.0</td>\n",
              "      <td>1.0</td>\n",
              "      <td>0.0</td>\n",
              "      <td>0.0</td>\n",
              "      <td>0.0</td>\n",
              "      <td>0.0</td>\n",
              "      <td>1.0</td>\n",
              "      <td>0.0</td>\n",
              "      <td>0.0</td>\n",
              "      <td>0.0</td>\n",
              "    </tr>\n",
              "    <tr>\n",
              "      <th>1</th>\n",
              "      <td>28</td>\n",
              "      <td>800000</td>\n",
              "      <td>0</td>\n",
              "      <td>1</td>\n",
              "      <td>0</td>\n",
              "      <td>0</td>\n",
              "      <td>0.0</td>\n",
              "      <td>1.0</td>\n",
              "      <td>0.0</td>\n",
              "      <td>0.0</td>\n",
              "      <td>0.0</td>\n",
              "      <td>0.0</td>\n",
              "      <td>0.0</td>\n",
              "      <td>1.0</td>\n",
              "      <td>0.0</td>\n",
              "      <td>0.0</td>\n",
              "    </tr>\n",
              "  </tbody>\n",
              "</table>\n",
              "</div>"
            ],
            "text/plain": [
              "   Age  AnnualIncome  ChronicDiseases  FrequentFlyer  ...    6    7    8    9\n",
              "0   33        550000                0              0  ...  1.0  0.0  0.0  0.0\n",
              "1   28        800000                0              1  ...  0.0  1.0  0.0  0.0\n",
              "\n",
              "[2 rows x 16 columns]"
            ]
          },
          "metadata": {},
          "execution_count": 48
        }
      ]
    },
    {
      "cell_type": "code",
      "metadata": {
        "colab": {
          "base_uri": "https://localhost:8080/",
          "height": 145
        },
        "id": "btBJtuiPJmW3",
        "outputId": "4cf65ab0-743d-4c5b-9b54-260bf4adc198"
      },
      "source": [
        "familia = onehot_encoder.fit_transform(data_test[['FamilyMembers']]).toarray()\n",
        "familia = pd.DataFrame(familia, columns = onehot_encoder.categories_[0])\n",
        "data_test = data_test.drop(['FamilyMembers'], axis = 1)\n",
        "data_test = data_test.join(familia)\n",
        "data_test[:2]"
      ],
      "execution_count": null,
      "outputs": [
        {
          "output_type": "execute_result",
          "data": {
            "text/html": [
              "<div>\n",
              "<style scoped>\n",
              "    .dataframe tbody tr th:only-of-type {\n",
              "        vertical-align: middle;\n",
              "    }\n",
              "\n",
              "    .dataframe tbody tr th {\n",
              "        vertical-align: top;\n",
              "    }\n",
              "\n",
              "    .dataframe thead th {\n",
              "        text-align: right;\n",
              "    }\n",
              "</style>\n",
              "<table border=\"1\" class=\"dataframe\">\n",
              "  <thead>\n",
              "    <tr style=\"text-align: right;\">\n",
              "      <th></th>\n",
              "      <th>Age</th>\n",
              "      <th>AnnualIncome</th>\n",
              "      <th>ChronicDiseases</th>\n",
              "      <th>FrequentFlyer</th>\n",
              "      <th>EverTravelledAbroad</th>\n",
              "      <th>Government Sector</th>\n",
              "      <th>Private Sector/Self Employed</th>\n",
              "      <th>2</th>\n",
              "      <th>3</th>\n",
              "      <th>4</th>\n",
              "      <th>5</th>\n",
              "      <th>6</th>\n",
              "      <th>7</th>\n",
              "      <th>8</th>\n",
              "      <th>9</th>\n",
              "    </tr>\n",
              "  </thead>\n",
              "  <tbody>\n",
              "    <tr>\n",
              "      <th>0</th>\n",
              "      <td>29</td>\n",
              "      <td>1100000</td>\n",
              "      <td>0</td>\n",
              "      <td>0</td>\n",
              "      <td>0</td>\n",
              "      <td>0.0</td>\n",
              "      <td>1.0</td>\n",
              "      <td>0.0</td>\n",
              "      <td>0.0</td>\n",
              "      <td>1.0</td>\n",
              "      <td>0.0</td>\n",
              "      <td>0.0</td>\n",
              "      <td>0.0</td>\n",
              "      <td>0.0</td>\n",
              "      <td>0.0</td>\n",
              "    </tr>\n",
              "    <tr>\n",
              "      <th>1</th>\n",
              "      <td>28</td>\n",
              "      <td>750000</td>\n",
              "      <td>1</td>\n",
              "      <td>1</td>\n",
              "      <td>0</td>\n",
              "      <td>0.0</td>\n",
              "      <td>1.0</td>\n",
              "      <td>0.0</td>\n",
              "      <td>0.0</td>\n",
              "      <td>0.0</td>\n",
              "      <td>1.0</td>\n",
              "      <td>0.0</td>\n",
              "      <td>0.0</td>\n",
              "      <td>0.0</td>\n",
              "      <td>0.0</td>\n",
              "    </tr>\n",
              "  </tbody>\n",
              "</table>\n",
              "</div>"
            ],
            "text/plain": [
              "   Age  AnnualIncome  ChronicDiseases  FrequentFlyer  ...    6    7    8    9\n",
              "0   29       1100000                0              0  ...  0.0  0.0  0.0  0.0\n",
              "1   28        750000                1              1  ...  0.0  0.0  0.0  0.0\n",
              "\n",
              "[2 rows x 15 columns]"
            ]
          },
          "metadata": {},
          "execution_count": 49
        }
      ]
    },
    {
      "cell_type": "code",
      "metadata": {
        "colab": {
          "base_uri": "https://localhost:8080/",
          "height": 350
        },
        "id": "-px36KtZGVJV",
        "outputId": "d92dff12-22f4-43db-af7f-1497ec507418"
      },
      "source": [
        "# Veamos ahora edad\n",
        "sns.boxplot(data_train['Age']) # Tampoco se ven outliers"
      ],
      "execution_count": null,
      "outputs": [
        {
          "output_type": "stream",
          "name": "stderr",
          "text": [
            "/usr/local/lib/python3.7/dist-packages/seaborn/_decorators.py:43: FutureWarning: Pass the following variable as a keyword arg: x. From version 0.12, the only valid positional argument will be `data`, and passing other arguments without an explicit keyword will result in an error or misinterpretation.\n",
            "  FutureWarning\n"
          ]
        },
        {
          "output_type": "execute_result",
          "data": {
            "text/plain": [
              "<matplotlib.axes._subplots.AxesSubplot at 0x7f8c84da6cd0>"
            ]
          },
          "metadata": {},
          "execution_count": 50
        },
        {
          "output_type": "display_data",
          "data": {
            "image/png": "[encoded data removed]",
            "text/plain": [
              "<Figure size 432x288 with 1 Axes>"
            ]
          },
          "metadata": {
            "needs_background": "light"
          }
        }
      ]
    },
    {
      "cell_type": "code",
      "metadata": {
        "colab": {
          "base_uri": "https://localhost:8080/",
          "height": 452
        },
        "id": "-687iAwTYwkw",
        "outputId": "1c2875c6-3480-4940-ec29-e3b62cbd198b"
      },
      "source": [
        "# Veamos como se relaciona edad con nuestra feature con otra tabla de contingencia:\n",
        "pd.crosstab(data_train.Age, data_train.TravelInsurance, margins=True, normalize=True)"
      ],
      "execution_count": null,
      "outputs": [
        {
          "output_type": "execute_result",
          "data": {
            "text/html": [
              "<div>\n",
              "<style scoped>\n",
              "    .dataframe tbody tr th:only-of-type {\n",
              "        vertical-align: middle;\n",
              "    }\n",
              "\n",
              "    .dataframe tbody tr th {\n",
              "        vertical-align: top;\n",
              "    }\n",
              "\n",
              "    .dataframe thead th {\n",
              "        text-align: right;\n",
              "    }\n",
              "</style>\n",
              "<table border=\"1\" class=\"dataframe\">\n",
              "  <thead>\n",
              "    <tr style=\"text-align: right;\">\n",
              "      <th>TravelInsurance</th>\n",
              "      <th>0</th>\n",
              "      <th>1</th>\n",
              "      <th>All</th>\n",
              "    </tr>\n",
              "    <tr>\n",
              "      <th>Age</th>\n",
              "      <th></th>\n",
              "      <th></th>\n",
              "      <th></th>\n",
              "    </tr>\n",
              "  </thead>\n",
              "  <tbody>\n",
              "    <tr>\n",
              "      <th>25</th>\n",
              "      <td>0.024832</td>\n",
              "      <td>0.044295</td>\n",
              "      <td>0.069128</td>\n",
              "    </tr>\n",
              "    <tr>\n",
              "      <th>26</th>\n",
              "      <td>0.038926</td>\n",
              "      <td>0.033557</td>\n",
              "      <td>0.072483</td>\n",
              "    </tr>\n",
              "    <tr>\n",
              "      <th>27</th>\n",
              "      <td>0.055034</td>\n",
              "      <td>0.015436</td>\n",
              "      <td>0.070470</td>\n",
              "    </tr>\n",
              "    <tr>\n",
              "      <th>28</th>\n",
              "      <td>0.196644</td>\n",
              "      <td>0.052349</td>\n",
              "      <td>0.248993</td>\n",
              "    </tr>\n",
              "    <tr>\n",
              "      <th>29</th>\n",
              "      <td>0.073154</td>\n",
              "      <td>0.026174</td>\n",
              "      <td>0.099329</td>\n",
              "    </tr>\n",
              "    <tr>\n",
              "      <th>30</th>\n",
              "      <td>0.018792</td>\n",
              "      <td>0.016107</td>\n",
              "      <td>0.034899</td>\n",
              "    </tr>\n",
              "    <tr>\n",
              "      <th>31</th>\n",
              "      <td>0.077852</td>\n",
              "      <td>0.040940</td>\n",
              "      <td>0.118792</td>\n",
              "    </tr>\n",
              "    <tr>\n",
              "      <th>32</th>\n",
              "      <td>0.040268</td>\n",
              "      <td>0.008725</td>\n",
              "      <td>0.048993</td>\n",
              "    </tr>\n",
              "    <tr>\n",
              "      <th>33</th>\n",
              "      <td>0.038255</td>\n",
              "      <td>0.041611</td>\n",
              "      <td>0.079866</td>\n",
              "    </tr>\n",
              "    <tr>\n",
              "      <th>34</th>\n",
              "      <td>0.065772</td>\n",
              "      <td>0.064430</td>\n",
              "      <td>0.130201</td>\n",
              "    </tr>\n",
              "    <tr>\n",
              "      <th>35</th>\n",
              "      <td>0.013423</td>\n",
              "      <td>0.013423</td>\n",
              "      <td>0.026846</td>\n",
              "    </tr>\n",
              "    <tr>\n",
              "      <th>All</th>\n",
              "      <td>0.642953</td>\n",
              "      <td>0.357047</td>\n",
              "      <td>1.000000</td>\n",
              "    </tr>\n",
              "  </tbody>\n",
              "</table>\n",
              "</div>"
            ],
            "text/plain": [
              "TravelInsurance         0         1       All\n",
              "Age                                          \n",
              "25               0.024832  0.044295  0.069128\n",
              "26               0.038926  0.033557  0.072483\n",
              "27               0.055034  0.015436  0.070470\n",
              "28               0.196644  0.052349  0.248993\n",
              "29               0.073154  0.026174  0.099329\n",
              "30               0.018792  0.016107  0.034899\n",
              "31               0.077852  0.040940  0.118792\n",
              "32               0.040268  0.008725  0.048993\n",
              "33               0.038255  0.041611  0.079866\n",
              "34               0.065772  0.064430  0.130201\n",
              "35               0.013423  0.013423  0.026846\n",
              "All              0.642953  0.357047  1.000000"
            ]
          },
          "metadata": {},
          "execution_count": 51
        }
      ]
    },
    {
      "cell_type": "code",
      "metadata": {
        "id": "6tun8BqvNzDV"
      },
      "source": [
        "# Creamos bandas de edad para ver mas facilmente la relacion con nuestro target\n",
        "#data_train['AgeBand'] = pd.cut(data_train['Age'], 6)\n",
        "#data_train[['AgeBand', 'TravelInsurance']].groupby(['AgeBand'], as_index = False).mean().sort_values(by = 'AgeBand', ascending = True)"
      ],
      "execution_count": null,
      "outputs": []
    },
    {
      "cell_type": "code",
      "metadata": {
        "id": "-K_R0H2WqaEr"
      },
      "source": [
        "#g = sns.FacetGrid(data_train, col='TravelInsurance') # Visualizamos un poco mejor\n",
        "#g.map(plt.hist, 'Age', bins=10)"
      ],
      "execution_count": null,
      "outputs": []
    },
    {
      "cell_type": "code",
      "metadata": {
        "id": "OovDIZ0EaHuG"
      },
      "source": [
        "# No hay una relacion muy clara... parece haber una tendencia en la que las personas con menos edad (entre 26 y 29), compren menos seguro...\n",
        "# Hagamos bins cada dos anios\n",
        "#data_train.loc[data_train['Age'] <= 29, 'Age'] = 1\n",
        "#data_train.loc[data_train['Age'] > 29, 'Age'] = 2\n",
        "\n",
        "#data_train[:2]\n"
      ],
      "execution_count": null,
      "outputs": []
    },
    {
      "cell_type": "code",
      "metadata": {
        "id": "ObbO1niWALCl"
      },
      "source": [
        "# Dropeamos AgeBand:\n",
        "#data_train = data_train.drop(['AgeBand'], axis=1)"
      ],
      "execution_count": null,
      "outputs": []
    },
    {
      "cell_type": "code",
      "metadata": {
        "id": "aJTt5NbfAa80",
        "colab": {
          "base_uri": "https://localhost:8080/",
          "height": 204
        },
        "outputId": "f2c17f5f-3a72-42ef-aaca-e3296d754a68"
      },
      "source": [
        "age = onehot_encoder.fit_transform(data_train[['Age']]).toarray()\n",
        "age = pd.DataFrame(age, columns = onehot_encoder.categories_[0])\n",
        "age.head()"
      ],
      "execution_count": null,
      "outputs": [
        {
          "output_type": "execute_result",
          "data": {
            "text/html": [
              "<div>\n",
              "<style scoped>\n",
              "    .dataframe tbody tr th:only-of-type {\n",
              "        vertical-align: middle;\n",
              "    }\n",
              "\n",
              "    .dataframe tbody tr th {\n",
              "        vertical-align: top;\n",
              "    }\n",
              "\n",
              "    .dataframe thead th {\n",
              "        text-align: right;\n",
              "    }\n",
              "</style>\n",
              "<table border=\"1\" class=\"dataframe\">\n",
              "  <thead>\n",
              "    <tr style=\"text-align: right;\">\n",
              "      <th></th>\n",
              "      <th>25</th>\n",
              "      <th>26</th>\n",
              "      <th>27</th>\n",
              "      <th>28</th>\n",
              "      <th>29</th>\n",
              "      <th>30</th>\n",
              "      <th>31</th>\n",
              "      <th>32</th>\n",
              "      <th>33</th>\n",
              "      <th>34</th>\n",
              "      <th>35</th>\n",
              "    </tr>\n",
              "  </thead>\n",
              "  <tbody>\n",
              "    <tr>\n",
              "      <th>0</th>\n",
              "      <td>0.0</td>\n",
              "      <td>0.0</td>\n",
              "      <td>0.0</td>\n",
              "      <td>0.0</td>\n",
              "      <td>0.0</td>\n",
              "      <td>0.0</td>\n",
              "      <td>0.0</td>\n",
              "      <td>0.0</td>\n",
              "      <td>1.0</td>\n",
              "      <td>0.0</td>\n",
              "      <td>0.0</td>\n",
              "    </tr>\n",
              "    <tr>\n",
              "      <th>1</th>\n",
              "      <td>0.0</td>\n",
              "      <td>0.0</td>\n",
              "      <td>0.0</td>\n",
              "      <td>1.0</td>\n",
              "      <td>0.0</td>\n",
              "      <td>0.0</td>\n",
              "      <td>0.0</td>\n",
              "      <td>0.0</td>\n",
              "      <td>0.0</td>\n",
              "      <td>0.0</td>\n",
              "      <td>0.0</td>\n",
              "    </tr>\n",
              "    <tr>\n",
              "      <th>2</th>\n",
              "      <td>0.0</td>\n",
              "      <td>0.0</td>\n",
              "      <td>0.0</td>\n",
              "      <td>0.0</td>\n",
              "      <td>0.0</td>\n",
              "      <td>0.0</td>\n",
              "      <td>1.0</td>\n",
              "      <td>0.0</td>\n",
              "      <td>0.0</td>\n",
              "      <td>0.0</td>\n",
              "      <td>0.0</td>\n",
              "    </tr>\n",
              "    <tr>\n",
              "      <th>3</th>\n",
              "      <td>0.0</td>\n",
              "      <td>0.0</td>\n",
              "      <td>0.0</td>\n",
              "      <td>0.0</td>\n",
              "      <td>0.0</td>\n",
              "      <td>0.0</td>\n",
              "      <td>1.0</td>\n",
              "      <td>0.0</td>\n",
              "      <td>0.0</td>\n",
              "      <td>0.0</td>\n",
              "      <td>0.0</td>\n",
              "    </tr>\n",
              "    <tr>\n",
              "      <th>4</th>\n",
              "      <td>0.0</td>\n",
              "      <td>0.0</td>\n",
              "      <td>0.0</td>\n",
              "      <td>1.0</td>\n",
              "      <td>0.0</td>\n",
              "      <td>0.0</td>\n",
              "      <td>0.0</td>\n",
              "      <td>0.0</td>\n",
              "      <td>0.0</td>\n",
              "      <td>0.0</td>\n",
              "      <td>0.0</td>\n",
              "    </tr>\n",
              "  </tbody>\n",
              "</table>\n",
              "</div>"
            ],
            "text/plain": [
              "    25   26   27   28   29   30   31   32   33   34   35\n",
              "0  0.0  0.0  0.0  0.0  0.0  0.0  0.0  0.0  1.0  0.0  0.0\n",
              "1  0.0  0.0  0.0  1.0  0.0  0.0  0.0  0.0  0.0  0.0  0.0\n",
              "2  0.0  0.0  0.0  0.0  0.0  0.0  1.0  0.0  0.0  0.0  0.0\n",
              "3  0.0  0.0  0.0  0.0  0.0  0.0  1.0  0.0  0.0  0.0  0.0\n",
              "4  0.0  0.0  0.0  1.0  0.0  0.0  0.0  0.0  0.0  0.0  0.0"
            ]
          },
          "metadata": {},
          "execution_count": 56
        }
      ]
    },
    {
      "cell_type": "code",
      "metadata": {
        "colab": {
          "base_uri": "https://localhost:8080/",
          "height": 258
        },
        "id": "8FaRptpNj-EU",
        "outputId": "1bcaed70-7f30-4808-9e8b-15018c02b0a1"
      },
      "source": [
        "data_train = data_train.drop(['Age'], axis = 1)\n",
        "data_train = data_train.join(age)\n",
        "data_train.head()\n"
      ],
      "execution_count": null,
      "outputs": [
        {
          "output_type": "execute_result",
          "data": {
            "text/html": [
              "<div>\n",
              "<style scoped>\n",
              "    .dataframe tbody tr th:only-of-type {\n",
              "        vertical-align: middle;\n",
              "    }\n",
              "\n",
              "    .dataframe tbody tr th {\n",
              "        vertical-align: top;\n",
              "    }\n",
              "\n",
              "    .dataframe thead th {\n",
              "        text-align: right;\n",
              "    }\n",
              "</style>\n",
              "<table border=\"1\" class=\"dataframe\">\n",
              "  <thead>\n",
              "    <tr style=\"text-align: right;\">\n",
              "      <th></th>\n",
              "      <th>AnnualIncome</th>\n",
              "      <th>ChronicDiseases</th>\n",
              "      <th>FrequentFlyer</th>\n",
              "      <th>EverTravelledAbroad</th>\n",
              "      <th>TravelInsurance</th>\n",
              "      <th>Government Sector</th>\n",
              "      <th>Private Sector/Self Employed</th>\n",
              "      <th>2</th>\n",
              "      <th>3</th>\n",
              "      <th>4</th>\n",
              "      <th>5</th>\n",
              "      <th>6</th>\n",
              "      <th>7</th>\n",
              "      <th>8</th>\n",
              "      <th>9</th>\n",
              "      <th>25</th>\n",
              "      <th>26</th>\n",
              "      <th>27</th>\n",
              "      <th>28</th>\n",
              "      <th>29</th>\n",
              "      <th>30</th>\n",
              "      <th>31</th>\n",
              "      <th>32</th>\n",
              "      <th>33</th>\n",
              "      <th>34</th>\n",
              "      <th>35</th>\n",
              "    </tr>\n",
              "  </thead>\n",
              "  <tbody>\n",
              "    <tr>\n",
              "      <th>0</th>\n",
              "      <td>550000</td>\n",
              "      <td>0</td>\n",
              "      <td>0</td>\n",
              "      <td>0</td>\n",
              "      <td>1</td>\n",
              "      <td>0.0</td>\n",
              "      <td>1.0</td>\n",
              "      <td>0.0</td>\n",
              "      <td>0.0</td>\n",
              "      <td>0.0</td>\n",
              "      <td>0.0</td>\n",
              "      <td>1.0</td>\n",
              "      <td>0.0</td>\n",
              "      <td>0.0</td>\n",
              "      <td>0.0</td>\n",
              "      <td>0.0</td>\n",
              "      <td>0.0</td>\n",
              "      <td>0.0</td>\n",
              "      <td>0.0</td>\n",
              "      <td>0.0</td>\n",
              "      <td>0.0</td>\n",
              "      <td>0.0</td>\n",
              "      <td>0.0</td>\n",
              "      <td>1.0</td>\n",
              "      <td>0.0</td>\n",
              "      <td>0.0</td>\n",
              "    </tr>\n",
              "    <tr>\n",
              "      <th>1</th>\n",
              "      <td>800000</td>\n",
              "      <td>0</td>\n",
              "      <td>1</td>\n",
              "      <td>0</td>\n",
              "      <td>0</td>\n",
              "      <td>0.0</td>\n",
              "      <td>1.0</td>\n",
              "      <td>0.0</td>\n",
              "      <td>0.0</td>\n",
              "      <td>0.0</td>\n",
              "      <td>0.0</td>\n",
              "      <td>0.0</td>\n",
              "      <td>1.0</td>\n",
              "      <td>0.0</td>\n",
              "      <td>0.0</td>\n",
              "      <td>0.0</td>\n",
              "      <td>0.0</td>\n",
              "      <td>0.0</td>\n",
              "      <td>1.0</td>\n",
              "      <td>0.0</td>\n",
              "      <td>0.0</td>\n",
              "      <td>0.0</td>\n",
              "      <td>0.0</td>\n",
              "      <td>0.0</td>\n",
              "      <td>0.0</td>\n",
              "      <td>0.0</td>\n",
              "    </tr>\n",
              "    <tr>\n",
              "      <th>2</th>\n",
              "      <td>1250000</td>\n",
              "      <td>0</td>\n",
              "      <td>0</td>\n",
              "      <td>0</td>\n",
              "      <td>0</td>\n",
              "      <td>0.0</td>\n",
              "      <td>1.0</td>\n",
              "      <td>0.0</td>\n",
              "      <td>0.0</td>\n",
              "      <td>1.0</td>\n",
              "      <td>0.0</td>\n",
              "      <td>0.0</td>\n",
              "      <td>0.0</td>\n",
              "      <td>0.0</td>\n",
              "      <td>0.0</td>\n",
              "      <td>0.0</td>\n",
              "      <td>0.0</td>\n",
              "      <td>0.0</td>\n",
              "      <td>0.0</td>\n",
              "      <td>0.0</td>\n",
              "      <td>0.0</td>\n",
              "      <td>1.0</td>\n",
              "      <td>0.0</td>\n",
              "      <td>0.0</td>\n",
              "      <td>0.0</td>\n",
              "      <td>0.0</td>\n",
              "    </tr>\n",
              "    <tr>\n",
              "      <th>3</th>\n",
              "      <td>300000</td>\n",
              "      <td>0</td>\n",
              "      <td>0</td>\n",
              "      <td>0</td>\n",
              "      <td>0</td>\n",
              "      <td>1.0</td>\n",
              "      <td>0.0</td>\n",
              "      <td>0.0</td>\n",
              "      <td>0.0</td>\n",
              "      <td>0.0</td>\n",
              "      <td>0.0</td>\n",
              "      <td>0.0</td>\n",
              "      <td>1.0</td>\n",
              "      <td>0.0</td>\n",
              "      <td>0.0</td>\n",
              "      <td>0.0</td>\n",
              "      <td>0.0</td>\n",
              "      <td>0.0</td>\n",
              "      <td>0.0</td>\n",
              "      <td>0.0</td>\n",
              "      <td>0.0</td>\n",
              "      <td>1.0</td>\n",
              "      <td>0.0</td>\n",
              "      <td>0.0</td>\n",
              "      <td>0.0</td>\n",
              "      <td>0.0</td>\n",
              "    </tr>\n",
              "    <tr>\n",
              "      <th>4</th>\n",
              "      <td>1250000</td>\n",
              "      <td>0</td>\n",
              "      <td>0</td>\n",
              "      <td>0</td>\n",
              "      <td>0</td>\n",
              "      <td>0.0</td>\n",
              "      <td>1.0</td>\n",
              "      <td>0.0</td>\n",
              "      <td>1.0</td>\n",
              "      <td>0.0</td>\n",
              "      <td>0.0</td>\n",
              "      <td>0.0</td>\n",
              "      <td>0.0</td>\n",
              "      <td>0.0</td>\n",
              "      <td>0.0</td>\n",
              "      <td>0.0</td>\n",
              "      <td>0.0</td>\n",
              "      <td>0.0</td>\n",
              "      <td>1.0</td>\n",
              "      <td>0.0</td>\n",
              "      <td>0.0</td>\n",
              "      <td>0.0</td>\n",
              "      <td>0.0</td>\n",
              "      <td>0.0</td>\n",
              "      <td>0.0</td>\n",
              "      <td>0.0</td>\n",
              "    </tr>\n",
              "  </tbody>\n",
              "</table>\n",
              "</div>"
            ],
            "text/plain": [
              "   AnnualIncome  ChronicDiseases  FrequentFlyer  ...   33   34   35\n",
              "0        550000                0              0  ...  1.0  0.0  0.0\n",
              "1        800000                0              1  ...  0.0  0.0  0.0\n",
              "2       1250000                0              0  ...  0.0  0.0  0.0\n",
              "3        300000                0              0  ...  0.0  0.0  0.0\n",
              "4       1250000                0              0  ...  0.0  0.0  0.0\n",
              "\n",
              "[5 rows x 26 columns]"
            ]
          },
          "metadata": {},
          "execution_count": 57
        }
      ]
    },
    {
      "cell_type": "code",
      "metadata": {
        "colab": {
          "base_uri": "https://localhost:8080/",
          "height": 165
        },
        "id": "TiutlLVqKSXe",
        "outputId": "f6bfe208-fe51-4441-fbf5-822d1cc67973"
      },
      "source": [
        "age = onehot_encoder.fit_transform(data_test[['Age']]).toarray()\n",
        "age = pd.DataFrame(age, columns = onehot_encoder.categories_[0])\n",
        "data_test = data_test.drop(['Age'], axis = 1)\n",
        "data_test = data_test.join(age)\n",
        "data_test[:2]"
      ],
      "execution_count": null,
      "outputs": [
        {
          "output_type": "execute_result",
          "data": {
            "text/html": [
              "<div>\n",
              "<style scoped>\n",
              "    .dataframe tbody tr th:only-of-type {\n",
              "        vertical-align: middle;\n",
              "    }\n",
              "\n",
              "    .dataframe tbody tr th {\n",
              "        vertical-align: top;\n",
              "    }\n",
              "\n",
              "    .dataframe thead th {\n",
              "        text-align: right;\n",
              "    }\n",
              "</style>\n",
              "<table border=\"1\" class=\"dataframe\">\n",
              "  <thead>\n",
              "    <tr style=\"text-align: right;\">\n",
              "      <th></th>\n",
              "      <th>AnnualIncome</th>\n",
              "      <th>ChronicDiseases</th>\n",
              "      <th>FrequentFlyer</th>\n",
              "      <th>EverTravelledAbroad</th>\n",
              "      <th>Government Sector</th>\n",
              "      <th>Private Sector/Self Employed</th>\n",
              "      <th>2</th>\n",
              "      <th>3</th>\n",
              "      <th>4</th>\n",
              "      <th>5</th>\n",
              "      <th>6</th>\n",
              "      <th>7</th>\n",
              "      <th>8</th>\n",
              "      <th>9</th>\n",
              "      <th>25</th>\n",
              "      <th>26</th>\n",
              "      <th>27</th>\n",
              "      <th>28</th>\n",
              "      <th>29</th>\n",
              "      <th>30</th>\n",
              "      <th>31</th>\n",
              "      <th>32</th>\n",
              "      <th>33</th>\n",
              "      <th>34</th>\n",
              "      <th>35</th>\n",
              "    </tr>\n",
              "  </thead>\n",
              "  <tbody>\n",
              "    <tr>\n",
              "      <th>0</th>\n",
              "      <td>1100000</td>\n",
              "      <td>0</td>\n",
              "      <td>0</td>\n",
              "      <td>0</td>\n",
              "      <td>0.0</td>\n",
              "      <td>1.0</td>\n",
              "      <td>0.0</td>\n",
              "      <td>0.0</td>\n",
              "      <td>1.0</td>\n",
              "      <td>0.0</td>\n",
              "      <td>0.0</td>\n",
              "      <td>0.0</td>\n",
              "      <td>0.0</td>\n",
              "      <td>0.0</td>\n",
              "      <td>0.0</td>\n",
              "      <td>0.0</td>\n",
              "      <td>0.0</td>\n",
              "      <td>0.0</td>\n",
              "      <td>1.0</td>\n",
              "      <td>0.0</td>\n",
              "      <td>0.0</td>\n",
              "      <td>0.0</td>\n",
              "      <td>0.0</td>\n",
              "      <td>0.0</td>\n",
              "      <td>0.0</td>\n",
              "    </tr>\n",
              "    <tr>\n",
              "      <th>1</th>\n",
              "      <td>750000</td>\n",
              "      <td>1</td>\n",
              "      <td>1</td>\n",
              "      <td>0</td>\n",
              "      <td>0.0</td>\n",
              "      <td>1.0</td>\n",
              "      <td>0.0</td>\n",
              "      <td>0.0</td>\n",
              "      <td>0.0</td>\n",
              "      <td>1.0</td>\n",
              "      <td>0.0</td>\n",
              "      <td>0.0</td>\n",
              "      <td>0.0</td>\n",
              "      <td>0.0</td>\n",
              "      <td>0.0</td>\n",
              "      <td>0.0</td>\n",
              "      <td>0.0</td>\n",
              "      <td>1.0</td>\n",
              "      <td>0.0</td>\n",
              "      <td>0.0</td>\n",
              "      <td>0.0</td>\n",
              "      <td>0.0</td>\n",
              "      <td>0.0</td>\n",
              "      <td>0.0</td>\n",
              "      <td>0.0</td>\n",
              "    </tr>\n",
              "  </tbody>\n",
              "</table>\n",
              "</div>"
            ],
            "text/plain": [
              "   AnnualIncome  ChronicDiseases  FrequentFlyer  ...   33   34   35\n",
              "0       1100000                0              0  ...  0.0  0.0  0.0\n",
              "1        750000                1              1  ...  0.0  0.0  0.0\n",
              "\n",
              "[2 rows x 25 columns]"
            ]
          },
          "metadata": {},
          "execution_count": 58
        }
      ]
    },
    {
      "cell_type": "code",
      "metadata": {
        "colab": {
          "base_uri": "https://localhost:8080/",
          "height": 295
        },
        "id": "HxtKjjwpiYFq",
        "outputId": "35c59657-7e2b-498d-9f0c-2bc6e4605b0c"
      },
      "source": [
        "# Vamos con Annual Income:\n",
        "data_train['AnnualIncome'].hist() # Si bien hay menos gente que cobra los sueldos mas altos... la distribucion hasta 1.5 es mas o menos pareja\n",
        "# Pero ojo, no hay distribucion normal!"
      ],
      "execution_count": null,
      "outputs": [
        {
          "output_type": "execute_result",
          "data": {
            "text/plain": [
              "<matplotlib.axes._subplots.AxesSubplot at 0x7f8c84c2f6d0>"
            ]
          },
          "metadata": {},
          "execution_count": 59
        },
        {
          "output_type": "display_data",
          "data": {
            "image/png": "[encoded data removed]",
            "text/plain": [
              "<Figure size 432x288 with 1 Axes>"
            ]
          },
          "metadata": {
            "needs_background": "light"
          }
        }
      ]
    },
    {
      "cell_type": "code",
      "metadata": {
        "colab": {
          "base_uri": "https://localhost:8080/",
          "height": 350
        },
        "id": "R2JIrGCOGjLH",
        "outputId": "b040c2a7-2894-47d5-f915-b6d6b8de7993"
      },
      "source": [
        "# Finalmente, pasemos a la feature que aparentemente mas influye en el target:\n",
        "sns.boxplot(data_train['AnnualIncome']) # Tampoco vemos outliers"
      ],
      "execution_count": null,
      "outputs": [
        {
          "output_type": "stream",
          "name": "stderr",
          "text": [
            "/usr/local/lib/python3.7/dist-packages/seaborn/_decorators.py:43: FutureWarning: Pass the following variable as a keyword arg: x. From version 0.12, the only valid positional argument will be `data`, and passing other arguments without an explicit keyword will result in an error or misinterpretation.\n",
            "  FutureWarning\n"
          ]
        },
        {
          "output_type": "execute_result",
          "data": {
            "text/plain": [
              "<matplotlib.axes._subplots.AxesSubplot at 0x7f8c84c66a50>"
            ]
          },
          "metadata": {},
          "execution_count": 60
        },
        {
          "output_type": "display_data",
          "data": {
            "image/png": "[encoded data removed]",
            "text/plain": [
              "<Figure size 432x288 with 1 Axes>"
            ]
          },
          "metadata": {
            "needs_background": "light"
          }
        }
      ]
    },
    {
      "cell_type": "code",
      "metadata": {
        "colab": {
          "base_uri": "https://localhost:8080/",
          "height": 242
        },
        "id": "A9irTJAptzJK",
        "outputId": "b3fd4eea-92a6-4ce6-90d3-96809c0fa3c8"
      },
      "source": [
        "g = sns.FacetGrid(data_train, col='TravelInsurance') # Visualizamos relacion con target\n",
        "g.map(plt.hist, 'AnnualIncome', bins=10)\n",
        "# Si bien hay menos gente que tiene ingresos mas altos, estos son los que suelen adquirir mas el seguro:"
      ],
      "execution_count": null,
      "outputs": [
        {
          "output_type": "execute_result",
          "data": {
            "text/plain": [
              "<seaborn.axisgrid.FacetGrid at 0x7f8c84b3d550>"
            ]
          },
          "metadata": {},
          "execution_count": 61
        },
        {
          "output_type": "display_data",
          "data": {
            "image/png": "[encoded data removed]",
            "text/plain": [
              "<Figure size 432x216 with 2 Axes>"
            ]
          },
          "metadata": {
            "needs_background": "light"
          }
        }
      ]
    },
    {
      "cell_type": "code",
      "metadata": {
        "colab": {
          "base_uri": "https://localhost:8080/",
          "height": 1000
        },
        "id": "D6BGARiptpLE",
        "outputId": "59d5ee95-cfff-4758-d4fa-10afd4a4831b"
      },
      "source": [
        "pd.crosstab(data_train.AnnualIncome, data_train.TravelInsurance, margins=True, normalize=True) # El quiebre parece darse en 1.35\n",
        "# Sin embargo, hay altibajos en toda la franja de sueldos.... "
      ],
      "execution_count": null,
      "outputs": [
        {
          "output_type": "execute_result",
          "data": {
            "text/html": [
              "<div>\n",
              "<style scoped>\n",
              "    .dataframe tbody tr th:only-of-type {\n",
              "        vertical-align: middle;\n",
              "    }\n",
              "\n",
              "    .dataframe tbody tr th {\n",
              "        vertical-align: top;\n",
              "    }\n",
              "\n",
              "    .dataframe thead th {\n",
              "        text-align: right;\n",
              "    }\n",
              "</style>\n",
              "<table border=\"1\" class=\"dataframe\">\n",
              "  <thead>\n",
              "    <tr style=\"text-align: right;\">\n",
              "      <th>TravelInsurance</th>\n",
              "      <th>0</th>\n",
              "      <th>1</th>\n",
              "      <th>All</th>\n",
              "    </tr>\n",
              "    <tr>\n",
              "      <th>AnnualIncome</th>\n",
              "      <th></th>\n",
              "      <th></th>\n",
              "      <th></th>\n",
              "    </tr>\n",
              "  </thead>\n",
              "  <tbody>\n",
              "    <tr>\n",
              "      <th>300000</th>\n",
              "      <td>0.042953</td>\n",
              "      <td>0.002685</td>\n",
              "      <td>0.045638</td>\n",
              "    </tr>\n",
              "    <tr>\n",
              "      <th>350000</th>\n",
              "      <td>0.030201</td>\n",
              "      <td>0.002013</td>\n",
              "      <td>0.032215</td>\n",
              "    </tr>\n",
              "    <tr>\n",
              "      <th>400000</th>\n",
              "      <td>0.029530</td>\n",
              "      <td>0.006040</td>\n",
              "      <td>0.035570</td>\n",
              "    </tr>\n",
              "    <tr>\n",
              "      <th>450000</th>\n",
              "      <td>0.005369</td>\n",
              "      <td>0.002013</td>\n",
              "      <td>0.007383</td>\n",
              "    </tr>\n",
              "    <tr>\n",
              "      <th>500000</th>\n",
              "      <td>0.055705</td>\n",
              "      <td>0.015436</td>\n",
              "      <td>0.071141</td>\n",
              "    </tr>\n",
              "    <tr>\n",
              "      <th>550000</th>\n",
              "      <td>0.026174</td>\n",
              "      <td>0.014094</td>\n",
              "      <td>0.040268</td>\n",
              "    </tr>\n",
              "    <tr>\n",
              "      <th>600000</th>\n",
              "      <td>0.040268</td>\n",
              "      <td>0.010738</td>\n",
              "      <td>0.051007</td>\n",
              "    </tr>\n",
              "    <tr>\n",
              "      <th>650000</th>\n",
              "      <td>0.009396</td>\n",
              "      <td>0.005369</td>\n",
              "      <td>0.014765</td>\n",
              "    </tr>\n",
              "    <tr>\n",
              "      <th>700000</th>\n",
              "      <td>0.034228</td>\n",
              "      <td>0.013423</td>\n",
              "      <td>0.047651</td>\n",
              "    </tr>\n",
              "    <tr>\n",
              "      <th>750000</th>\n",
              "      <td>0.026846</td>\n",
              "      <td>0.006711</td>\n",
              "      <td>0.033557</td>\n",
              "    </tr>\n",
              "    <tr>\n",
              "      <th>800000</th>\n",
              "      <td>0.051007</td>\n",
              "      <td>0.022148</td>\n",
              "      <td>0.073154</td>\n",
              "    </tr>\n",
              "    <tr>\n",
              "      <th>850000</th>\n",
              "      <td>0.020805</td>\n",
              "      <td>0.008054</td>\n",
              "      <td>0.028859</td>\n",
              "    </tr>\n",
              "    <tr>\n",
              "      <th>900000</th>\n",
              "      <td>0.025503</td>\n",
              "      <td>0.008054</td>\n",
              "      <td>0.033557</td>\n",
              "    </tr>\n",
              "    <tr>\n",
              "      <th>950000</th>\n",
              "      <td>0.006711</td>\n",
              "      <td>0.002685</td>\n",
              "      <td>0.009396</td>\n",
              "    </tr>\n",
              "    <tr>\n",
              "      <th>1000000</th>\n",
              "      <td>0.024161</td>\n",
              "      <td>0.009396</td>\n",
              "      <td>0.033557</td>\n",
              "    </tr>\n",
              "    <tr>\n",
              "      <th>1050000</th>\n",
              "      <td>0.027517</td>\n",
              "      <td>0.013423</td>\n",
              "      <td>0.040940</td>\n",
              "    </tr>\n",
              "    <tr>\n",
              "      <th>1100000</th>\n",
              "      <td>0.039597</td>\n",
              "      <td>0.013423</td>\n",
              "      <td>0.053020</td>\n",
              "    </tr>\n",
              "    <tr>\n",
              "      <th>1150000</th>\n",
              "      <td>0.032215</td>\n",
              "      <td>0.006711</td>\n",
              "      <td>0.038926</td>\n",
              "    </tr>\n",
              "    <tr>\n",
              "      <th>1200000</th>\n",
              "      <td>0.040940</td>\n",
              "      <td>0.012081</td>\n",
              "      <td>0.053020</td>\n",
              "    </tr>\n",
              "    <tr>\n",
              "      <th>1250000</th>\n",
              "      <td>0.028859</td>\n",
              "      <td>0.007383</td>\n",
              "      <td>0.036242</td>\n",
              "    </tr>\n",
              "    <tr>\n",
              "      <th>1300000</th>\n",
              "      <td>0.026846</td>\n",
              "      <td>0.014094</td>\n",
              "      <td>0.040940</td>\n",
              "    </tr>\n",
              "    <tr>\n",
              "      <th>1350000</th>\n",
              "      <td>0.001342</td>\n",
              "      <td>0.020805</td>\n",
              "      <td>0.022148</td>\n",
              "    </tr>\n",
              "    <tr>\n",
              "      <th>1400000</th>\n",
              "      <td>0.006040</td>\n",
              "      <td>0.058389</td>\n",
              "      <td>0.064430</td>\n",
              "    </tr>\n",
              "    <tr>\n",
              "      <th>1450000</th>\n",
              "      <td>0.000000</td>\n",
              "      <td>0.016779</td>\n",
              "      <td>0.016779</td>\n",
              "    </tr>\n",
              "    <tr>\n",
              "      <th>1500000</th>\n",
              "      <td>0.002013</td>\n",
              "      <td>0.040940</td>\n",
              "      <td>0.042953</td>\n",
              "    </tr>\n",
              "    <tr>\n",
              "      <th>1550000</th>\n",
              "      <td>0.000000</td>\n",
              "      <td>0.003356</td>\n",
              "      <td>0.003356</td>\n",
              "    </tr>\n",
              "    <tr>\n",
              "      <th>1650000</th>\n",
              "      <td>0.000000</td>\n",
              "      <td>0.000671</td>\n",
              "      <td>0.000671</td>\n",
              "    </tr>\n",
              "    <tr>\n",
              "      <th>1700000</th>\n",
              "      <td>0.002013</td>\n",
              "      <td>0.016107</td>\n",
              "      <td>0.018121</td>\n",
              "    </tr>\n",
              "    <tr>\n",
              "      <th>1750000</th>\n",
              "      <td>0.006711</td>\n",
              "      <td>0.001342</td>\n",
              "      <td>0.008054</td>\n",
              "    </tr>\n",
              "    <tr>\n",
              "      <th>1800000</th>\n",
              "      <td>0.000000</td>\n",
              "      <td>0.002685</td>\n",
              "      <td>0.002685</td>\n",
              "    </tr>\n",
              "    <tr>\n",
              "      <th>All</th>\n",
              "      <td>0.642953</td>\n",
              "      <td>0.357047</td>\n",
              "      <td>1.000000</td>\n",
              "    </tr>\n",
              "  </tbody>\n",
              "</table>\n",
              "</div>"
            ],
            "text/plain": [
              "TravelInsurance         0         1       All\n",
              "AnnualIncome                                 \n",
              "300000           0.042953  0.002685  0.045638\n",
              "350000           0.030201  0.002013  0.032215\n",
              "400000           0.029530  0.006040  0.035570\n",
              "450000           0.005369  0.002013  0.007383\n",
              "500000           0.055705  0.015436  0.071141\n",
              "550000           0.026174  0.014094  0.040268\n",
              "600000           0.040268  0.010738  0.051007\n",
              "650000           0.009396  0.005369  0.014765\n",
              "700000           0.034228  0.013423  0.047651\n",
              "750000           0.026846  0.006711  0.033557\n",
              "800000           0.051007  0.022148  0.073154\n",
              "850000           0.020805  0.008054  0.028859\n",
              "900000           0.025503  0.008054  0.033557\n",
              "950000           0.006711  0.002685  0.009396\n",
              "1000000          0.024161  0.009396  0.033557\n",
              "1050000          0.027517  0.013423  0.040940\n",
              "1100000          0.039597  0.013423  0.053020\n",
              "1150000          0.032215  0.006711  0.038926\n",
              "1200000          0.040940  0.012081  0.053020\n",
              "1250000          0.028859  0.007383  0.036242\n",
              "1300000          0.026846  0.014094  0.040940\n",
              "1350000          0.001342  0.020805  0.022148\n",
              "1400000          0.006040  0.058389  0.064430\n",
              "1450000          0.000000  0.016779  0.016779\n",
              "1500000          0.002013  0.040940  0.042953\n",
              "1550000          0.000000  0.003356  0.003356\n",
              "1650000          0.000000  0.000671  0.000671\n",
              "1700000          0.002013  0.016107  0.018121\n",
              "1750000          0.006711  0.001342  0.008054\n",
              "1800000          0.000000  0.002685  0.002685\n",
              "All              0.642953  0.357047  1.000000"
            ]
          },
          "metadata": {},
          "execution_count": 62
        }
      ]
    },
    {
      "cell_type": "code",
      "metadata": {
        "colab": {
          "base_uri": "https://localhost:8080/",
          "height": 224
        },
        "id": "uhnYvKIGwIPd",
        "outputId": "a46008e0-e42d-43a6-dcae-7733a6f75a05"
      },
      "source": [
        "ingreso_anual = onehot_encoder.fit_transform(data_train[['AnnualIncome']]).toarray()\n",
        "ingreso_anual = pd.DataFrame(ingreso_anual, columns = onehot_encoder.categories_[0])\n",
        "ingreso_anual.head()"
      ],
      "execution_count": null,
      "outputs": [
        {
          "output_type": "execute_result",
          "data": {
            "text/html": [
              "<div>\n",
              "<style scoped>\n",
              "    .dataframe tbody tr th:only-of-type {\n",
              "        vertical-align: middle;\n",
              "    }\n",
              "\n",
              "    .dataframe tbody tr th {\n",
              "        vertical-align: top;\n",
              "    }\n",
              "\n",
              "    .dataframe thead th {\n",
              "        text-align: right;\n",
              "    }\n",
              "</style>\n",
              "<table border=\"1\" class=\"dataframe\">\n",
              "  <thead>\n",
              "    <tr style=\"text-align: right;\">\n",
              "      <th></th>\n",
              "      <th>300000</th>\n",
              "      <th>350000</th>\n",
              "      <th>400000</th>\n",
              "      <th>450000</th>\n",
              "      <th>500000</th>\n",
              "      <th>550000</th>\n",
              "      <th>600000</th>\n",
              "      <th>650000</th>\n",
              "      <th>700000</th>\n",
              "      <th>750000</th>\n",
              "      <th>800000</th>\n",
              "      <th>850000</th>\n",
              "      <th>900000</th>\n",
              "      <th>950000</th>\n",
              "      <th>1000000</th>\n",
              "      <th>1050000</th>\n",
              "      <th>1100000</th>\n",
              "      <th>1150000</th>\n",
              "      <th>1200000</th>\n",
              "      <th>1250000</th>\n",
              "      <th>1300000</th>\n",
              "      <th>1350000</th>\n",
              "      <th>1400000</th>\n",
              "      <th>1450000</th>\n",
              "      <th>1500000</th>\n",
              "      <th>1550000</th>\n",
              "      <th>1650000</th>\n",
              "      <th>1700000</th>\n",
              "      <th>1750000</th>\n",
              "      <th>1800000</th>\n",
              "    </tr>\n",
              "  </thead>\n",
              "  <tbody>\n",
              "    <tr>\n",
              "      <th>0</th>\n",
              "      <td>0.0</td>\n",
              "      <td>0.0</td>\n",
              "      <td>0.0</td>\n",
              "      <td>0.0</td>\n",
              "      <td>0.0</td>\n",
              "      <td>1.0</td>\n",
              "      <td>0.0</td>\n",
              "      <td>0.0</td>\n",
              "      <td>0.0</td>\n",
              "      <td>0.0</td>\n",
              "      <td>0.0</td>\n",
              "      <td>0.0</td>\n",
              "      <td>0.0</td>\n",
              "      <td>0.0</td>\n",
              "      <td>0.0</td>\n",
              "      <td>0.0</td>\n",
              "      <td>0.0</td>\n",
              "      <td>0.0</td>\n",
              "      <td>0.0</td>\n",
              "      <td>0.0</td>\n",
              "      <td>0.0</td>\n",
              "      <td>0.0</td>\n",
              "      <td>0.0</td>\n",
              "      <td>0.0</td>\n",
              "      <td>0.0</td>\n",
              "      <td>0.0</td>\n",
              "      <td>0.0</td>\n",
              "      <td>0.0</td>\n",
              "      <td>0.0</td>\n",
              "      <td>0.0</td>\n",
              "    </tr>\n",
              "    <tr>\n",
              "      <th>1</th>\n",
              "      <td>0.0</td>\n",
              "      <td>0.0</td>\n",
              "      <td>0.0</td>\n",
              "      <td>0.0</td>\n",
              "      <td>0.0</td>\n",
              "      <td>0.0</td>\n",
              "      <td>0.0</td>\n",
              "      <td>0.0</td>\n",
              "      <td>0.0</td>\n",
              "      <td>0.0</td>\n",
              "      <td>1.0</td>\n",
              "      <td>0.0</td>\n",
              "      <td>0.0</td>\n",
              "      <td>0.0</td>\n",
              "      <td>0.0</td>\n",
              "      <td>0.0</td>\n",
              "      <td>0.0</td>\n",
              "      <td>0.0</td>\n",
              "      <td>0.0</td>\n",
              "      <td>0.0</td>\n",
              "      <td>0.0</td>\n",
              "      <td>0.0</td>\n",
              "      <td>0.0</td>\n",
              "      <td>0.0</td>\n",
              "      <td>0.0</td>\n",
              "      <td>0.0</td>\n",
              "      <td>0.0</td>\n",
              "      <td>0.0</td>\n",
              "      <td>0.0</td>\n",
              "      <td>0.0</td>\n",
              "    </tr>\n",
              "    <tr>\n",
              "      <th>2</th>\n",
              "      <td>0.0</td>\n",
              "      <td>0.0</td>\n",
              "      <td>0.0</td>\n",
              "      <td>0.0</td>\n",
              "      <td>0.0</td>\n",
              "      <td>0.0</td>\n",
              "      <td>0.0</td>\n",
              "      <td>0.0</td>\n",
              "      <td>0.0</td>\n",
              "      <td>0.0</td>\n",
              "      <td>0.0</td>\n",
              "      <td>0.0</td>\n",
              "      <td>0.0</td>\n",
              "      <td>0.0</td>\n",
              "      <td>0.0</td>\n",
              "      <td>0.0</td>\n",
              "      <td>0.0</td>\n",
              "      <td>0.0</td>\n",
              "      <td>0.0</td>\n",
              "      <td>1.0</td>\n",
              "      <td>0.0</td>\n",
              "      <td>0.0</td>\n",
              "      <td>0.0</td>\n",
              "      <td>0.0</td>\n",
              "      <td>0.0</td>\n",
              "      <td>0.0</td>\n",
              "      <td>0.0</td>\n",
              "      <td>0.0</td>\n",
              "      <td>0.0</td>\n",
              "      <td>0.0</td>\n",
              "    </tr>\n",
              "    <tr>\n",
              "      <th>3</th>\n",
              "      <td>1.0</td>\n",
              "      <td>0.0</td>\n",
              "      <td>0.0</td>\n",
              "      <td>0.0</td>\n",
              "      <td>0.0</td>\n",
              "      <td>0.0</td>\n",
              "      <td>0.0</td>\n",
              "      <td>0.0</td>\n",
              "      <td>0.0</td>\n",
              "      <td>0.0</td>\n",
              "      <td>0.0</td>\n",
              "      <td>0.0</td>\n",
              "      <td>0.0</td>\n",
              "      <td>0.0</td>\n",
              "      <td>0.0</td>\n",
              "      <td>0.0</td>\n",
              "      <td>0.0</td>\n",
              "      <td>0.0</td>\n",
              "      <td>0.0</td>\n",
              "      <td>0.0</td>\n",
              "      <td>0.0</td>\n",
              "      <td>0.0</td>\n",
              "      <td>0.0</td>\n",
              "      <td>0.0</td>\n",
              "      <td>0.0</td>\n",
              "      <td>0.0</td>\n",
              "      <td>0.0</td>\n",
              "      <td>0.0</td>\n",
              "      <td>0.0</td>\n",
              "      <td>0.0</td>\n",
              "    </tr>\n",
              "    <tr>\n",
              "      <th>4</th>\n",
              "      <td>0.0</td>\n",
              "      <td>0.0</td>\n",
              "      <td>0.0</td>\n",
              "      <td>0.0</td>\n",
              "      <td>0.0</td>\n",
              "      <td>0.0</td>\n",
              "      <td>0.0</td>\n",
              "      <td>0.0</td>\n",
              "      <td>0.0</td>\n",
              "      <td>0.0</td>\n",
              "      <td>0.0</td>\n",
              "      <td>0.0</td>\n",
              "      <td>0.0</td>\n",
              "      <td>0.0</td>\n",
              "      <td>0.0</td>\n",
              "      <td>0.0</td>\n",
              "      <td>0.0</td>\n",
              "      <td>0.0</td>\n",
              "      <td>0.0</td>\n",
              "      <td>1.0</td>\n",
              "      <td>0.0</td>\n",
              "      <td>0.0</td>\n",
              "      <td>0.0</td>\n",
              "      <td>0.0</td>\n",
              "      <td>0.0</td>\n",
              "      <td>0.0</td>\n",
              "      <td>0.0</td>\n",
              "      <td>0.0</td>\n",
              "      <td>0.0</td>\n",
              "      <td>0.0</td>\n",
              "    </tr>\n",
              "  </tbody>\n",
              "</table>\n",
              "</div>"
            ],
            "text/plain": [
              "   300000   350000   400000   450000   ...  1650000  1700000  1750000  1800000\n",
              "0      0.0      0.0      0.0      0.0  ...      0.0      0.0      0.0      0.0\n",
              "1      0.0      0.0      0.0      0.0  ...      0.0      0.0      0.0      0.0\n",
              "2      0.0      0.0      0.0      0.0  ...      0.0      0.0      0.0      0.0\n",
              "3      1.0      0.0      0.0      0.0  ...      0.0      0.0      0.0      0.0\n",
              "4      0.0      0.0      0.0      0.0  ...      0.0      0.0      0.0      0.0\n",
              "\n",
              "[5 rows x 30 columns]"
            ]
          },
          "metadata": {},
          "execution_count": 63
        }
      ]
    },
    {
      "cell_type": "code",
      "metadata": {
        "id": "6tEOj4Gqdf67"
      },
      "source": [
        "data_train = data_train.drop(['AnnualIncome'], axis=1)\n",
        "data_train = data_train.join(ingreso_anual)"
      ],
      "execution_count": null,
      "outputs": []
    },
    {
      "cell_type": "code",
      "metadata": {
        "id": "bVdMn25fK6M6"
      },
      "source": [
        "ingreso_anual = onehot_encoder.transform(data_test[['AnnualIncome']]).toarray()\n",
        "ingreso_anual = pd.DataFrame(ingreso_anual, columns = onehot_encoder.categories_[0])\n",
        "data_test = data_test.drop(['AnnualIncome'], axis = 1)\n",
        "data_test = data_test.join(ingreso_anual)"
      ],
      "execution_count": null,
      "outputs": []
    },
    {
      "cell_type": "code",
      "metadata": {
        "colab": {
          "base_uri": "https://localhost:8080/",
          "height": 165
        },
        "id": "Son_1nlPwnWi",
        "outputId": "479146ac-cd2c-426a-e1df-e597f47ff1dd"
      },
      "source": [
        "data_train[:2]"
      ],
      "execution_count": null,
      "outputs": [
        {
          "output_type": "execute_result",
          "data": {
            "text/html": [
              "<div>\n",
              "<style scoped>\n",
              "    .dataframe tbody tr th:only-of-type {\n",
              "        vertical-align: middle;\n",
              "    }\n",
              "\n",
              "    .dataframe tbody tr th {\n",
              "        vertical-align: top;\n",
              "    }\n",
              "\n",
              "    .dataframe thead th {\n",
              "        text-align: right;\n",
              "    }\n",
              "</style>\n",
              "<table border=\"1\" class=\"dataframe\">\n",
              "  <thead>\n",
              "    <tr style=\"text-align: right;\">\n",
              "      <th></th>\n",
              "      <th>ChronicDiseases</th>\n",
              "      <th>FrequentFlyer</th>\n",
              "      <th>EverTravelledAbroad</th>\n",
              "      <th>TravelInsurance</th>\n",
              "      <th>Government Sector</th>\n",
              "      <th>Private Sector/Self Employed</th>\n",
              "      <th>2</th>\n",
              "      <th>3</th>\n",
              "      <th>4</th>\n",
              "      <th>5</th>\n",
              "      <th>6</th>\n",
              "      <th>7</th>\n",
              "      <th>8</th>\n",
              "      <th>9</th>\n",
              "      <th>25</th>\n",
              "      <th>26</th>\n",
              "      <th>27</th>\n",
              "      <th>28</th>\n",
              "      <th>29</th>\n",
              "      <th>30</th>\n",
              "      <th>31</th>\n",
              "      <th>32</th>\n",
              "      <th>33</th>\n",
              "      <th>34</th>\n",
              "      <th>35</th>\n",
              "      <th>300000</th>\n",
              "      <th>350000</th>\n",
              "      <th>400000</th>\n",
              "      <th>450000</th>\n",
              "      <th>500000</th>\n",
              "      <th>550000</th>\n",
              "      <th>600000</th>\n",
              "      <th>650000</th>\n",
              "      <th>700000</th>\n",
              "      <th>750000</th>\n",
              "      <th>800000</th>\n",
              "      <th>850000</th>\n",
              "      <th>900000</th>\n",
              "      <th>950000</th>\n",
              "      <th>1000000</th>\n",
              "      <th>1050000</th>\n",
              "      <th>1100000</th>\n",
              "      <th>1150000</th>\n",
              "      <th>1200000</th>\n",
              "      <th>1250000</th>\n",
              "      <th>1300000</th>\n",
              "      <th>1350000</th>\n",
              "      <th>1400000</th>\n",
              "      <th>1450000</th>\n",
              "      <th>1500000</th>\n",
              "      <th>1550000</th>\n",
              "      <th>1650000</th>\n",
              "      <th>1700000</th>\n",
              "      <th>1750000</th>\n",
              "      <th>1800000</th>\n",
              "    </tr>\n",
              "  </thead>\n",
              "  <tbody>\n",
              "    <tr>\n",
              "      <th>0</th>\n",
              "      <td>0</td>\n",
              "      <td>0</td>\n",
              "      <td>0</td>\n",
              "      <td>1</td>\n",
              "      <td>0.0</td>\n",
              "      <td>1.0</td>\n",
              "      <td>0.0</td>\n",
              "      <td>0.0</td>\n",
              "      <td>0.0</td>\n",
              "      <td>0.0</td>\n",
              "      <td>1.0</td>\n",
              "      <td>0.0</td>\n",
              "      <td>0.0</td>\n",
              "      <td>0.0</td>\n",
              "      <td>0.0</td>\n",
              "      <td>0.0</td>\n",
              "      <td>0.0</td>\n",
              "      <td>0.0</td>\n",
              "      <td>0.0</td>\n",
              "      <td>0.0</td>\n",
              "      <td>0.0</td>\n",
              "      <td>0.0</td>\n",
              "      <td>1.0</td>\n",
              "      <td>0.0</td>\n",
              "      <td>0.0</td>\n",
              "      <td>0.0</td>\n",
              "      <td>0.0</td>\n",
              "      <td>0.0</td>\n",
              "      <td>0.0</td>\n",
              "      <td>0.0</td>\n",
              "      <td>1.0</td>\n",
              "      <td>0.0</td>\n",
              "      <td>0.0</td>\n",
              "      <td>0.0</td>\n",
              "      <td>0.0</td>\n",
              "      <td>0.0</td>\n",
              "      <td>0.0</td>\n",
              "      <td>0.0</td>\n",
              "      <td>0.0</td>\n",
              "      <td>0.0</td>\n",
              "      <td>0.0</td>\n",
              "      <td>0.0</td>\n",
              "      <td>0.0</td>\n",
              "      <td>0.0</td>\n",
              "      <td>0.0</td>\n",
              "      <td>0.0</td>\n",
              "      <td>0.0</td>\n",
              "      <td>0.0</td>\n",
              "      <td>0.0</td>\n",
              "      <td>0.0</td>\n",
              "      <td>0.0</td>\n",
              "      <td>0.0</td>\n",
              "      <td>0.0</td>\n",
              "      <td>0.0</td>\n",
              "      <td>0.0</td>\n",
              "    </tr>\n",
              "    <tr>\n",
              "      <th>1</th>\n",
              "      <td>0</td>\n",
              "      <td>1</td>\n",
              "      <td>0</td>\n",
              "      <td>0</td>\n",
              "      <td>0.0</td>\n",
              "      <td>1.0</td>\n",
              "      <td>0.0</td>\n",
              "      <td>0.0</td>\n",
              "      <td>0.0</td>\n",
              "      <td>0.0</td>\n",
              "      <td>0.0</td>\n",
              "      <td>1.0</td>\n",
              "      <td>0.0</td>\n",
              "      <td>0.0</td>\n",
              "      <td>0.0</td>\n",
              "      <td>0.0</td>\n",
              "      <td>0.0</td>\n",
              "      <td>1.0</td>\n",
              "      <td>0.0</td>\n",
              "      <td>0.0</td>\n",
              "      <td>0.0</td>\n",
              "      <td>0.0</td>\n",
              "      <td>0.0</td>\n",
              "      <td>0.0</td>\n",
              "      <td>0.0</td>\n",
              "      <td>0.0</td>\n",
              "      <td>0.0</td>\n",
              "      <td>0.0</td>\n",
              "      <td>0.0</td>\n",
              "      <td>0.0</td>\n",
              "      <td>0.0</td>\n",
              "      <td>0.0</td>\n",
              "      <td>0.0</td>\n",
              "      <td>0.0</td>\n",
              "      <td>0.0</td>\n",
              "      <td>1.0</td>\n",
              "      <td>0.0</td>\n",
              "      <td>0.0</td>\n",
              "      <td>0.0</td>\n",
              "      <td>0.0</td>\n",
              "      <td>0.0</td>\n",
              "      <td>0.0</td>\n",
              "      <td>0.0</td>\n",
              "      <td>0.0</td>\n",
              "      <td>0.0</td>\n",
              "      <td>0.0</td>\n",
              "      <td>0.0</td>\n",
              "      <td>0.0</td>\n",
              "      <td>0.0</td>\n",
              "      <td>0.0</td>\n",
              "      <td>0.0</td>\n",
              "      <td>0.0</td>\n",
              "      <td>0.0</td>\n",
              "      <td>0.0</td>\n",
              "      <td>0.0</td>\n",
              "    </tr>\n",
              "  </tbody>\n",
              "</table>\n",
              "</div>"
            ],
            "text/plain": [
              "   ChronicDiseases  FrequentFlyer  ...  1750000  1800000\n",
              "0                0              0  ...      0.0      0.0\n",
              "1                0              1  ...      0.0      0.0\n",
              "\n",
              "[2 rows x 55 columns]"
            ]
          },
          "metadata": {},
          "execution_count": 66
        }
      ]
    },
    {
      "cell_type": "code",
      "metadata": {
        "colab": {
          "base_uri": "https://localhost:8080/",
          "height": 165
        },
        "id": "7gTqE_BJwql7",
        "outputId": "609d6c7e-3e93-4485-853f-d1faadd2ebb9"
      },
      "source": [
        "data_test[:2]"
      ],
      "execution_count": null,
      "outputs": [
        {
          "output_type": "execute_result",
          "data": {
            "text/html": [
              "<div>\n",
              "<style scoped>\n",
              "    .dataframe tbody tr th:only-of-type {\n",
              "        vertical-align: middle;\n",
              "    }\n",
              "\n",
              "    .dataframe tbody tr th {\n",
              "        vertical-align: top;\n",
              "    }\n",
              "\n",
              "    .dataframe thead th {\n",
              "        text-align: right;\n",
              "    }\n",
              "</style>\n",
              "<table border=\"1\" class=\"dataframe\">\n",
              "  <thead>\n",
              "    <tr style=\"text-align: right;\">\n",
              "      <th></th>\n",
              "      <th>ChronicDiseases</th>\n",
              "      <th>FrequentFlyer</th>\n",
              "      <th>EverTravelledAbroad</th>\n",
              "      <th>Government Sector</th>\n",
              "      <th>Private Sector/Self Employed</th>\n",
              "      <th>2</th>\n",
              "      <th>3</th>\n",
              "      <th>4</th>\n",
              "      <th>5</th>\n",
              "      <th>6</th>\n",
              "      <th>7</th>\n",
              "      <th>8</th>\n",
              "      <th>9</th>\n",
              "      <th>25</th>\n",
              "      <th>26</th>\n",
              "      <th>27</th>\n",
              "      <th>28</th>\n",
              "      <th>29</th>\n",
              "      <th>30</th>\n",
              "      <th>31</th>\n",
              "      <th>32</th>\n",
              "      <th>33</th>\n",
              "      <th>34</th>\n",
              "      <th>35</th>\n",
              "      <th>300000</th>\n",
              "      <th>350000</th>\n",
              "      <th>400000</th>\n",
              "      <th>450000</th>\n",
              "      <th>500000</th>\n",
              "      <th>550000</th>\n",
              "      <th>600000</th>\n",
              "      <th>650000</th>\n",
              "      <th>700000</th>\n",
              "      <th>750000</th>\n",
              "      <th>800000</th>\n",
              "      <th>850000</th>\n",
              "      <th>900000</th>\n",
              "      <th>950000</th>\n",
              "      <th>1000000</th>\n",
              "      <th>1050000</th>\n",
              "      <th>1100000</th>\n",
              "      <th>1150000</th>\n",
              "      <th>1200000</th>\n",
              "      <th>1250000</th>\n",
              "      <th>1300000</th>\n",
              "      <th>1350000</th>\n",
              "      <th>1400000</th>\n",
              "      <th>1450000</th>\n",
              "      <th>1500000</th>\n",
              "      <th>1550000</th>\n",
              "      <th>1650000</th>\n",
              "      <th>1700000</th>\n",
              "      <th>1750000</th>\n",
              "      <th>1800000</th>\n",
              "    </tr>\n",
              "  </thead>\n",
              "  <tbody>\n",
              "    <tr>\n",
              "      <th>0</th>\n",
              "      <td>0</td>\n",
              "      <td>0</td>\n",
              "      <td>0</td>\n",
              "      <td>0.0</td>\n",
              "      <td>1.0</td>\n",
              "      <td>0.0</td>\n",
              "      <td>0.0</td>\n",
              "      <td>1.0</td>\n",
              "      <td>0.0</td>\n",
              "      <td>0.0</td>\n",
              "      <td>0.0</td>\n",
              "      <td>0.0</td>\n",
              "      <td>0.0</td>\n",
              "      <td>0.0</td>\n",
              "      <td>0.0</td>\n",
              "      <td>0.0</td>\n",
              "      <td>0.0</td>\n",
              "      <td>1.0</td>\n",
              "      <td>0.0</td>\n",
              "      <td>0.0</td>\n",
              "      <td>0.0</td>\n",
              "      <td>0.0</td>\n",
              "      <td>0.0</td>\n",
              "      <td>0.0</td>\n",
              "      <td>0.0</td>\n",
              "      <td>0.0</td>\n",
              "      <td>0.0</td>\n",
              "      <td>0.0</td>\n",
              "      <td>0.0</td>\n",
              "      <td>0.0</td>\n",
              "      <td>0.0</td>\n",
              "      <td>0.0</td>\n",
              "      <td>0.0</td>\n",
              "      <td>0.0</td>\n",
              "      <td>0.0</td>\n",
              "      <td>0.0</td>\n",
              "      <td>0.0</td>\n",
              "      <td>0.0</td>\n",
              "      <td>0.0</td>\n",
              "      <td>0.0</td>\n",
              "      <td>1.0</td>\n",
              "      <td>0.0</td>\n",
              "      <td>0.0</td>\n",
              "      <td>0.0</td>\n",
              "      <td>0.0</td>\n",
              "      <td>0.0</td>\n",
              "      <td>0.0</td>\n",
              "      <td>0.0</td>\n",
              "      <td>0.0</td>\n",
              "      <td>0.0</td>\n",
              "      <td>0.0</td>\n",
              "      <td>0.0</td>\n",
              "      <td>0.0</td>\n",
              "      <td>0.0</td>\n",
              "    </tr>\n",
              "    <tr>\n",
              "      <th>1</th>\n",
              "      <td>1</td>\n",
              "      <td>1</td>\n",
              "      <td>0</td>\n",
              "      <td>0.0</td>\n",
              "      <td>1.0</td>\n",
              "      <td>0.0</td>\n",
              "      <td>0.0</td>\n",
              "      <td>0.0</td>\n",
              "      <td>1.0</td>\n",
              "      <td>0.0</td>\n",
              "      <td>0.0</td>\n",
              "      <td>0.0</td>\n",
              "      <td>0.0</td>\n",
              "      <td>0.0</td>\n",
              "      <td>0.0</td>\n",
              "      <td>0.0</td>\n",
              "      <td>1.0</td>\n",
              "      <td>0.0</td>\n",
              "      <td>0.0</td>\n",
              "      <td>0.0</td>\n",
              "      <td>0.0</td>\n",
              "      <td>0.0</td>\n",
              "      <td>0.0</td>\n",
              "      <td>0.0</td>\n",
              "      <td>0.0</td>\n",
              "      <td>0.0</td>\n",
              "      <td>0.0</td>\n",
              "      <td>0.0</td>\n",
              "      <td>0.0</td>\n",
              "      <td>0.0</td>\n",
              "      <td>0.0</td>\n",
              "      <td>0.0</td>\n",
              "      <td>0.0</td>\n",
              "      <td>1.0</td>\n",
              "      <td>0.0</td>\n",
              "      <td>0.0</td>\n",
              "      <td>0.0</td>\n",
              "      <td>0.0</td>\n",
              "      <td>0.0</td>\n",
              "      <td>0.0</td>\n",
              "      <td>0.0</td>\n",
              "      <td>0.0</td>\n",
              "      <td>0.0</td>\n",
              "      <td>0.0</td>\n",
              "      <td>0.0</td>\n",
              "      <td>0.0</td>\n",
              "      <td>0.0</td>\n",
              "      <td>0.0</td>\n",
              "      <td>0.0</td>\n",
              "      <td>0.0</td>\n",
              "      <td>0.0</td>\n",
              "      <td>0.0</td>\n",
              "      <td>0.0</td>\n",
              "      <td>0.0</td>\n",
              "    </tr>\n",
              "  </tbody>\n",
              "</table>\n",
              "</div>"
            ],
            "text/plain": [
              "   ChronicDiseases  FrequentFlyer  ...  1750000  1800000\n",
              "0                0              0  ...      0.0      0.0\n",
              "1                1              1  ...      0.0      0.0\n",
              "\n",
              "[2 rows x 54 columns]"
            ]
          },
          "metadata": {},
          "execution_count": 67
        }
      ]
    },
    {
      "cell_type": "code",
      "metadata": {
        "id": "N8RbQ2xBCuMA"
      },
      "source": [
        "data_train2 = data_train.drop(['ChronicDiseases'], axis = 1)\n",
        "data_test2 = data_test.drop(['ChronicDiseases'], axis = 1)"
      ],
      "execution_count": null,
      "outputs": []
    },
    {
      "cell_type": "markdown",
      "metadata": {
        "id": "_mMxb2LPw6sR"
      },
      "source": [
        "## **A probar modelos!**"
      ]
    },
    {
      "cell_type": "code",
      "metadata": {
        "id": "9cfSBalow_XS"
      },
      "source": [
        "X = data_train.drop(['TravelInsurance'], axis=1)\n",
        "y = data_train['TravelInsurance']"
      ],
      "execution_count": null,
      "outputs": []
    },
    {
      "cell_type": "code",
      "metadata": {
        "id": "3yQKwPU3DWa7"
      },
      "source": [
        "X2 = data_train2.drop(['TravelInsurance'], axis = 1)\n",
        "y2 = data_train2['TravelInsurance']"
      ],
      "execution_count": null,
      "outputs": []
    },
    {
      "cell_type": "code",
      "metadata": {
        "colab": {
          "base_uri": "https://localhost:8080/"
        },
        "id": "lmxmAK1OjN0n",
        "outputId": "a57fd617-c968-4044-f4b6-8d75b2369ed9"
      },
      "source": [
        "print(X.shape)\n",
        "print(y.shape)"
      ],
      "execution_count": null,
      "outputs": [
        {
          "output_type": "stream",
          "name": "stdout",
          "text": [
            "(1490, 54)\n",
            "(1490,)\n"
          ]
        }
      ]
    },
    {
      "cell_type": "code",
      "metadata": {
        "id": "jKXD0JyDDltZ",
        "colab": {
          "base_uri": "https://localhost:8080/"
        },
        "outputId": "3e3d4321-5151-4942-c7d8-e66e1f022717"
      },
      "source": [
        "print(X2.shape)\n",
        "print(y2.shape)"
      ],
      "execution_count": null,
      "outputs": [
        {
          "output_type": "stream",
          "name": "stdout",
          "text": [
            "(1490, 53)\n",
            "(1490,)\n"
          ]
        }
      ]
    },
    {
      "cell_type": "code",
      "metadata": {
        "id": "KThK3vVS8kdo"
      },
      "source": [
        "from sklearn.model_selection import train_test_split\n",
        "X_train, X_val, y_train, y_val = train_test_split(X, y, test_size=0.15, random_state=0)"
      ],
      "execution_count": null,
      "outputs": []
    },
    {
      "cell_type": "code",
      "metadata": {
        "id": "FmWz0W-WFDti"
      },
      "source": [
        "X2_train, X2_val, y2_train, y2_val = train_test_split(X2, y2, test_size = 0.15, random_state=0)"
      ],
      "execution_count": null,
      "outputs": []
    },
    {
      "cell_type": "code",
      "metadata": {
        "colab": {
          "base_uri": "https://localhost:8080/"
        },
        "id": "ZfXfq_7Oua49",
        "outputId": "2dd582ec-221a-4fdc-c1b9-09770f72402d"
      },
      "source": [
        "print('Dimensiones del set de entrenamiento', X_train.shape)\n",
        "print('Dimensiones del set de validacion', X_val.shape)"
      ],
      "execution_count": null,
      "outputs": [
        {
          "output_type": "stream",
          "name": "stdout",
          "text": [
            "Dimensiones del set de entrenamiento (1266, 54)\n",
            "Dimensiones del set de validacion (224, 54)\n"
          ]
        }
      ]
    },
    {
      "cell_type": "code",
      "metadata": {
        "id": "RmWGjzrbFSeO",
        "colab": {
          "base_uri": "https://localhost:8080/"
        },
        "outputId": "f49e7069-1fc5-4549-d7b7-b9d7b3e0a5e6"
      },
      "source": [
        "print('Dimensiones del set de entrenamiento', X2_train.shape)\n",
        "print('Dimensiones del set de validacion', X2_val.shape)"
      ],
      "execution_count": null,
      "outputs": [
        {
          "output_type": "stream",
          "name": "stdout",
          "text": [
            "Dimensiones del set de entrenamiento (1266, 53)\n",
            "Dimensiones del set de validacion (224, 53)\n"
          ]
        }
      ]
    },
    {
      "cell_type": "code",
      "metadata": {
        "colab": {
          "base_uri": "https://localhost:8080/"
        },
        "id": "lqnxzaETy2G0",
        "outputId": "0be08cff-ebe3-4fb9-e3fa-41e17e57dc7c"
      },
      "source": [
        "from sklearn.linear_model import LogisticRegression\n",
        "logreg = LogisticRegression()\n",
        "logreg.fit(X_train, y_train)\n",
        "y_pred = logreg.predict(X_val)\n",
        "acc_log = round(logreg.score(X_train, y_train) * 100, 2)\n",
        "acc_log"
      ],
      "execution_count": null,
      "outputs": [
        {
          "output_type": "execute_result",
          "data": {
            "text/plain": [
              "81.2"
            ]
          },
          "metadata": {},
          "execution_count": 77
        }
      ]
    },
    {
      "cell_type": "code",
      "metadata": {
        "colab": {
          "base_uri": "https://localhost:8080/"
        },
        "id": "-2JoP6E_NTvs",
        "outputId": "75e2884f-190d-434c-9846-fb3a048a9c3d"
      },
      "source": [
        "from sklearn.tree import DecisionTreeClassifier\n",
        "\n",
        "decision_tree = DecisionTreeClassifier()\n",
        "decision_tree.fit(X_train, y_train)\n",
        "y_pred = decision_tree.predict(X_val)\n",
        "acc_decision_tree = round(decision_tree.score(X_train, y_train) * 100, 2)\n",
        "acc_decision_tree"
      ],
      "execution_count": null,
      "outputs": [
        {
          "output_type": "execute_result",
          "data": {
            "text/plain": [
              "93.29"
            ]
          },
          "metadata": {},
          "execution_count": 78
        }
      ]
    },
    {
      "cell_type": "code",
      "metadata": {
        "id": "05frlI35FYvp",
        "colab": {
          "base_uri": "https://localhost:8080/"
        },
        "outputId": "a583d29b-7003-496a-eef4-ec906476df97"
      },
      "source": [
        "decision_tree = DecisionTreeClassifier()\n",
        "decision_tree.fit(X2_train, y2_train)\n",
        "y_pred = decision_tree.predict(X2_val)\n",
        "acc_decision_tree = round(decision_tree.score(X2_train, y2_train) * 100, 2)\n",
        "acc_decision_tree"
      ],
      "execution_count": null,
      "outputs": [
        {
          "output_type": "execute_result",
          "data": {
            "text/plain": [
              "90.92"
            ]
          },
          "metadata": {},
          "execution_count": 79
        }
      ]
    },
    {
      "cell_type": "code",
      "metadata": {
        "colab": {
          "base_uri": "https://localhost:8080/"
        },
        "id": "ZWcKeDYXyRW3",
        "outputId": "3696d384-c4e4-463e-ce2a-920f047adda8"
      },
      "source": [
        "from sklearn.neighbors import KNeighborsClassifier\n",
        "knn = KNeighborsClassifier(n_neighbors = 3)\n",
        "knn.fit(X_train, y_train)\n",
        "y_pred = knn.predict(X_val)\n",
        "acc_knn = round(knn.score(X_train, y_train) * 100, 2)\n",
        "acc_knn"
      ],
      "execution_count": null,
      "outputs": [
        {
          "output_type": "execute_result",
          "data": {
            "text/plain": [
              "86.81"
            ]
          },
          "metadata": {},
          "execution_count": 80
        }
      ]
    },
    {
      "cell_type": "code",
      "metadata": {
        "colab": {
          "base_uri": "https://localhost:8080/"
        },
        "id": "AzOi9yXJymrI",
        "outputId": "72e4d3c5-afa3-4155-eb2b-7c56d6cd85d6"
      },
      "source": [
        "from sklearn.ensemble import RandomForestClassifier \n",
        "random_forest = RandomForestClassifier(n_estimators=550)\n",
        "random_forest.fit(X_train, y_train)\n",
        "y_pred = random_forest.predict(X_val)\n",
        "random_forest.score(X_train, y_train)\n",
        "acc_random_forest = round(random_forest.score(X_train, y_train) * 100, 2)\n",
        "acc_random_forest"
      ],
      "execution_count": null,
      "outputs": [
        {
          "output_type": "execute_result",
          "data": {
            "text/plain": [
              "93.29"
            ]
          },
          "metadata": {},
          "execution_count": 81
        }
      ]
    },
    {
      "cell_type": "code",
      "metadata": {
        "id": "SL1xMSZDFkl6",
        "colab": {
          "base_uri": "https://localhost:8080/"
        },
        "outputId": "cb61e423-08e1-418e-8f92-35f299e50891"
      },
      "source": [
        "random_forest = RandomForestClassifier(n_estimators=550)\n",
        "random_forest.fit(X2_train, y2_train)\n",
        "y_pred = random_forest.predict(X2_val)\n",
        "random_forest.score(X2_train, y2_train)\n",
        "acc_random_forest = round(random_forest.score(X2_train, y2_train) * 100, 2)\n",
        "acc_random_forest"
      ],
      "execution_count": null,
      "outputs": [
        {
          "output_type": "execute_result",
          "data": {
            "text/plain": [
              "90.92"
            ]
          },
          "metadata": {},
          "execution_count": 82
        }
      ]
    },
    {
      "cell_type": "code",
      "metadata": {
        "colab": {
          "base_uri": "https://localhost:8080/"
        },
        "id": "uvsHPYNOyqU7",
        "outputId": "5bc32646-255b-48df-a69c-0a31484ca03f"
      },
      "source": [
        "from sklearn.naive_bayes import GaussianNB\n",
        "gaussian = GaussianNB()\n",
        "gaussian.fit(X_train, y_train)\n",
        "y_pred = gaussian.predict(X_val)\n",
        "acc_gaussian = round(gaussian.score(X_train, y_train) * 100, 2)\n",
        "acc_gaussian"
      ],
      "execution_count": null,
      "outputs": [
        {
          "output_type": "execute_result",
          "data": {
            "text/plain": [
              "79.38"
            ]
          },
          "metadata": {},
          "execution_count": 83
        }
      ]
    },
    {
      "cell_type": "code",
      "metadata": {
        "colab": {
          "base_uri": "https://localhost:8080/"
        },
        "id": "GRb8R25dyuWu",
        "outputId": "9b3885cd-4c01-4bb4-dfb7-fdc9ff7aa1e2"
      },
      "source": [
        "from sklearn.svm import SVC, LinearSVC\n",
        "linear_svc = LinearSVC()\n",
        "linear_svc.fit(X_train, y_train)\n",
        "y_pred = linear_svc.predict(X_val)\n",
        "acc_linear_svc = round(linear_svc.score(X_train, y_train) * 100, 2)\n",
        "acc_linear_svc"
      ],
      "execution_count": null,
      "outputs": [
        {
          "output_type": "execute_result",
          "data": {
            "text/plain": [
              "81.2"
            ]
          },
          "metadata": {},
          "execution_count": 84
        }
      ]
    },
    {
      "cell_type": "code",
      "metadata": {
        "id": "EogGAnKfFw9b",
        "colab": {
          "base_uri": "https://localhost:8080/"
        },
        "outputId": "790cf299-7175-458a-c38b-406ab4e7b294"
      },
      "source": [
        "linear_svc = LinearSVC()\n",
        "linear_svc.fit(X2_train, y2_train)\n",
        "y_pred = linear_svc.predict(X2_val)\n",
        "acc_linear_svc = round(linear_svc.score(X2_train, y2_train) * 100, 2)\n",
        "acc_linear_svc"
      ],
      "execution_count": null,
      "outputs": [
        {
          "output_type": "execute_result",
          "data": {
            "text/plain": [
              "81.28"
            ]
          },
          "metadata": {},
          "execution_count": 85
        }
      ]
    },
    {
      "cell_type": "markdown",
      "metadata": {
        "id": "J2XT2uM6KGLP"
      },
      "source": [
        "##Regresion logistica"
      ]
    },
    {
      "cell_type": "code",
      "metadata": {
        "colab": {
          "base_uri": "https://localhost:8080/"
        },
        "id": "n7MoYyrdJ0VH",
        "outputId": "1dbd80a5-d00e-497e-904a-8d61bc9ce6ff"
      },
      "source": [
        "from sklearn.linear_model import LogisticRegression\n",
        "logreg = LogisticRegression(random_state=0)\n",
        "logreg.fit(X_train, y_train) "
      ],
      "execution_count": null,
      "outputs": [
        {
          "output_type": "execute_result",
          "data": {
            "text/plain": [
              "LogisticRegression(C=1.0, class_weight=None, dual=False, fit_intercept=True,\n",
              "                   intercept_scaling=1, l1_ratio=None, max_iter=100,\n",
              "                   multi_class='auto', n_jobs=None, penalty='l2',\n",
              "                   random_state=0, solver='lbfgs', tol=0.0001, verbose=0,\n",
              "                   warm_start=False)"
            ]
          },
          "metadata": {},
          "execution_count": 86
        }
      ]
    },
    {
      "cell_type": "code",
      "metadata": {
        "id": "KEahG2i9KJDA"
      },
      "source": [
        "y_train_pred = logreg.predict(X_train) # Predigo con datos de entrenamiento\n",
        "y_val_pred = logreg.predict(X_val) # Predigo con datos de val"
      ],
      "execution_count": null,
      "outputs": []
    },
    {
      "cell_type": "code",
      "metadata": {
        "id": "LvhPn3qbKVXq"
      },
      "source": [
        "from sklearn.metrics import f1_score\n",
        "\n",
        "f1_score_train = f1_score(y_train, y_train_pred)\n",
        "f1_score_val = f1_score(y_val, y_val_pred)"
      ],
      "execution_count": null,
      "outputs": []
    },
    {
      "cell_type": "code",
      "metadata": {
        "colab": {
          "base_uri": "https://localhost:8080/"
        },
        "id": "WpQGGxOwKZDU",
        "outputId": "695d6049-7b41-4920-af8d-f499992787a4"
      },
      "source": [
        "print(f1_score_train)\n",
        "print(f1_score_val)"
      ],
      "execution_count": null,
      "outputs": [
        {
          "output_type": "stream",
          "name": "stdout",
          "text": [
            "0.6730769230769231\n",
            "0.6466165413533834\n"
          ]
        }
      ]
    },
    {
      "cell_type": "code",
      "metadata": {
        "id": "KkdVsHM8Kqd0"
      },
      "source": [
        "param_grid_lr = {\n",
        "    'penalty': ['l1','l2','elasticnet'],\n",
        "    'C': [1, 10, 100, 1000000],\n",
        "    'solver': ['saga','newton-cg','lbfgs'],\n",
        "    'tol': [1e-3, 1e-4, 1e-2],\n",
        "    #'max_iter': [100, 1000, 500]\n",
        "    }"
      ],
      "execution_count": null,
      "outputs": []
    },
    {
      "cell_type": "code",
      "metadata": {
        "colab": {
          "base_uri": "https://localhost:8080/"
        },
        "id": "dzUz0UHmKuzb",
        "outputId": "424934e7-0dc4-4189-a014-9bde86c4e063"
      },
      "source": [
        "from sklearn.model_selection import GridSearchCV, RandomizedSearchCV\n",
        "model_lr = LogisticRegression(random_state=0)\n",
        "cv_lr = GridSearchCV(model_lr, param_grid_lr, scoring='f1', n_jobs=-1)\n",
        "cv_lr.fit(X_train, y_train)"
      ],
      "execution_count": null,
      "outputs": [
        {
          "output_type": "stream",
          "name": "stderr",
          "text": [
            "/usr/local/lib/python3.7/dist-packages/sklearn/linear_model/_sag.py:330: ConvergenceWarning: The max_iter was reached which means the coef_ did not converge\n",
            "  \"the coef_ did not converge\", ConvergenceWarning)\n"
          ]
        },
        {
          "output_type": "execute_result",
          "data": {
            "text/plain": [
              "GridSearchCV(cv=None, error_score=nan,\n",
              "             estimator=LogisticRegression(C=1.0, class_weight=None, dual=False,\n",
              "                                          fit_intercept=True,\n",
              "                                          intercept_scaling=1, l1_ratio=None,\n",
              "                                          max_iter=100, multi_class='auto',\n",
              "                                          n_jobs=None, penalty='l2',\n",
              "                                          random_state=0, solver='lbfgs',\n",
              "                                          tol=0.0001, verbose=0,\n",
              "                                          warm_start=False),\n",
              "             iid='deprecated', n_jobs=-1,\n",
              "             param_grid={'C': [1, 10, 100, 1000000],\n",
              "                         'penalty': ['l1', 'l2', 'elasticnet'],\n",
              "                         'solver': ['saga', 'newton-cg', 'lbfgs'],\n",
              "                         'tol': [0.001, 0.0001, 0.01]},\n",
              "             pre_dispatch='2*n_jobs', refit=True, return_train_score=False,\n",
              "             scoring='f1', verbose=0)"
            ]
          },
          "metadata": {},
          "execution_count": 91
        }
      ]
    },
    {
      "cell_type": "code",
      "metadata": {
        "id": "t7aWpFmELdPt"
      },
      "source": [
        "results_lr = cv_lr.cv_results_\n",
        "\n",
        "df_lr = pd.DataFrame(results_lr)\n"
      ],
      "execution_count": null,
      "outputs": []
    },
    {
      "cell_type": "code",
      "metadata": {
        "colab": {
          "base_uri": "https://localhost:8080/"
        },
        "id": "QF5k69-HLkZ3",
        "outputId": "d5deac79-3e90-4d6e-f04e-22db06038206"
      },
      "source": [
        "cv_lr.best_params_"
      ],
      "execution_count": null,
      "outputs": [
        {
          "output_type": "execute_result",
          "data": {
            "text/plain": [
              "{'C': 10, 'penalty': 'l1', 'solver': 'saga', 'tol': 0.001}"
            ]
          },
          "metadata": {},
          "execution_count": 93
        }
      ]
    },
    {
      "cell_type": "code",
      "metadata": {
        "id": "O8yzAXJ7LoOM"
      },
      "source": [
        "lr_chosen = LogisticRegression(random_state=0, penalty='l2', C=1)"
      ],
      "execution_count": null,
      "outputs": []
    },
    {
      "cell_type": "code",
      "metadata": {
        "id": "NU5FYjKPLrvp"
      },
      "source": [
        "lr_chosen.fit(X_train, y_train)\n",
        "\n",
        "y_train_pred_lr = lr_chosen.predict(X_train)\n",
        "y_val_pred_lr = lr_chosen.predict(X_val)"
      ],
      "execution_count": null,
      "outputs": []
    },
    {
      "cell_type": "code",
      "metadata": {
        "id": "yKBGSU4pL6J-"
      },
      "source": [
        "f1_score_train = f1_score(y_train, y_train_pred_lr)\n",
        "f1_score_val = f1_score(y_val, y_val_pred_lr)"
      ],
      "execution_count": null,
      "outputs": []
    },
    {
      "cell_type": "code",
      "metadata": {
        "colab": {
          "base_uri": "https://localhost:8080/"
        },
        "id": "HQ3Tch6IMQ8l",
        "outputId": "206b0580-3b5d-4360-b6bc-79f9b2aacc98"
      },
      "source": [
        "print(f1_score_train)\n",
        "print(f1_score_val)"
      ],
      "execution_count": null,
      "outputs": [
        {
          "output_type": "stream",
          "name": "stdout",
          "text": [
            "0.6730769230769231\n",
            "0.6466165413533834\n"
          ]
        }
      ]
    },
    {
      "cell_type": "markdown",
      "metadata": {
        "id": "_MvKB2UqhWqH"
      },
      "source": [
        "##Arbol de desicion"
      ]
    },
    {
      "cell_type": "code",
      "metadata": {
        "colab": {
          "base_uri": "https://localhost:8080/"
        },
        "id": "DqpHLUmz7UuG",
        "outputId": "91d6730c-4e11-4c71-e666-335ac89d339b"
      },
      "source": [
        "from sklearn.tree import DecisionTreeClassifier\n",
        "clf = DecisionTreeClassifier(random_state=0)\n",
        "clf.fit(X_train, y_train)"
      ],
      "execution_count": null,
      "outputs": [
        {
          "output_type": "execute_result",
          "data": {
            "text/plain": [
              "DecisionTreeClassifier(ccp_alpha=0.0, class_weight=None, criterion='gini',\n",
              "                       max_depth=None, max_features=None, max_leaf_nodes=None,\n",
              "                       min_impurity_decrease=0.0, min_impurity_split=None,\n",
              "                       min_samples_leaf=1, min_samples_split=2,\n",
              "                       min_weight_fraction_leaf=0.0, presort='deprecated',\n",
              "                       random_state=0, splitter='best')"
            ]
          },
          "metadata": {},
          "execution_count": 98
        }
      ]
    },
    {
      "cell_type": "code",
      "metadata": {
        "id": "DDcvCzN77fZQ"
      },
      "source": [
        "y_train_pred= clf.predict(X_train)"
      ],
      "execution_count": null,
      "outputs": []
    },
    {
      "cell_type": "code",
      "metadata": {
        "id": "fGtfeyee7uPf"
      },
      "source": [
        "y_val_pred= clf.predict(X_val)"
      ],
      "execution_count": null,
      "outputs": []
    },
    {
      "cell_type": "code",
      "metadata": {
        "id": "YRwHb2QF8DNJ"
      },
      "source": [
        "from sklearn.metrics import f1_score\n",
        "\n",
        "f1_score_train = f1_score(y_train, y_train_pred)\n",
        "f1_score_val = f1_score(y_val, y_val_pred)"
      ],
      "execution_count": null,
      "outputs": []
    },
    {
      "cell_type": "code",
      "metadata": {
        "colab": {
          "base_uri": "https://localhost:8080/"
        },
        "id": "h5AvlM18vFXW",
        "outputId": "626aaaf3-4a9c-4b54-fda5-011aaec327bb"
      },
      "source": [
        "print(f1_score_train)\n",
        "print(f1_score_val)"
      ],
      "execution_count": null,
      "outputs": [
        {
          "output_type": "stream",
          "name": "stdout",
          "text": [
            "0.8972188633615478\n",
            "0.6753246753246754\n"
          ]
        }
      ]
    },
    {
      "cell_type": "code",
      "metadata": {
        "id": "D6aBWVCMwqMI"
      },
      "source": [
        "from sklearn.model_selection import GridSearchCV, RandomizedSearchCV\n",
        "param_grid_dt = {\n",
        "    'criterion': ['gini','entropy'],\n",
        "    'max_depth': [5,10,15,20,30,40,50,80],\n",
        "    'min_samples_leaf': [1,2,5,10]\n",
        "}\n",
        "\n",
        "dtree = DecisionTreeClassifier(random_state=0)\n",
        "\n",
        "cv_dt = GridSearchCV(dtree, param_grid_dt, scoring='f1')\n",
        "cv_dt.fit(X_train, y_train);"
      ],
      "execution_count": null,
      "outputs": []
    },
    {
      "cell_type": "code",
      "metadata": {
        "id": "rYFFLrbwEjNE"
      },
      "source": [
        "cv_dt2 = GridSearchCV(dtree, param_grid_dt, scoring='f1')\n",
        "cv_dt2.fit(X2_train, y2_train);"
      ],
      "execution_count": null,
      "outputs": []
    },
    {
      "cell_type": "code",
      "metadata": {
        "colab": {
          "base_uri": "https://localhost:8080/",
          "height": 204
        },
        "id": "WqNadC9UN7BL",
        "outputId": "bd825b1b-97d3-4ba5-d101-4f6f353b0805"
      },
      "source": [
        "results_dt = cv_dt.cv_results_\n",
        "\n",
        "df_dt = pd.DataFrame(results_dt)\n",
        "#df.sort_values(by='rank_test_score').head()\n",
        "df_dt[['param_criterion', 'param_max_depth', 'param_min_samples_leaf', 'mean_test_score', 'std_test_score', 'rank_test_score']].sort_values(by='rank_test_score').head()"
      ],
      "execution_count": null,
      "outputs": [
        {
          "output_type": "execute_result",
          "data": {
            "text/html": [
              "<div>\n",
              "<style scoped>\n",
              "    .dataframe tbody tr th:only-of-type {\n",
              "        vertical-align: middle;\n",
              "    }\n",
              "\n",
              "    .dataframe tbody tr th {\n",
              "        vertical-align: top;\n",
              "    }\n",
              "\n",
              "    .dataframe thead th {\n",
              "        text-align: right;\n",
              "    }\n",
              "</style>\n",
              "<table border=\"1\" class=\"dataframe\">\n",
              "  <thead>\n",
              "    <tr style=\"text-align: right;\">\n",
              "      <th></th>\n",
              "      <th>param_criterion</th>\n",
              "      <th>param_max_depth</th>\n",
              "      <th>param_min_samples_leaf</th>\n",
              "      <th>mean_test_score</th>\n",
              "      <th>std_test_score</th>\n",
              "      <th>rank_test_score</th>\n",
              "    </tr>\n",
              "  </thead>\n",
              "  <tbody>\n",
              "    <tr>\n",
              "      <th>50</th>\n",
              "      <td>entropy</td>\n",
              "      <td>30</td>\n",
              "      <td>5</td>\n",
              "      <td>0.668888</td>\n",
              "      <td>0.032903</td>\n",
              "      <td>1</td>\n",
              "    </tr>\n",
              "    <tr>\n",
              "      <th>58</th>\n",
              "      <td>entropy</td>\n",
              "      <td>50</td>\n",
              "      <td>5</td>\n",
              "      <td>0.668888</td>\n",
              "      <td>0.032903</td>\n",
              "      <td>1</td>\n",
              "    </tr>\n",
              "    <tr>\n",
              "      <th>62</th>\n",
              "      <td>entropy</td>\n",
              "      <td>80</td>\n",
              "      <td>5</td>\n",
              "      <td>0.668888</td>\n",
              "      <td>0.032903</td>\n",
              "      <td>1</td>\n",
              "    </tr>\n",
              "    <tr>\n",
              "      <th>54</th>\n",
              "      <td>entropy</td>\n",
              "      <td>40</td>\n",
              "      <td>5</td>\n",
              "      <td>0.668888</td>\n",
              "      <td>0.032903</td>\n",
              "      <td>1</td>\n",
              "    </tr>\n",
              "    <tr>\n",
              "      <th>46</th>\n",
              "      <td>entropy</td>\n",
              "      <td>20</td>\n",
              "      <td>5</td>\n",
              "      <td>0.668648</td>\n",
              "      <td>0.028088</td>\n",
              "      <td>5</td>\n",
              "    </tr>\n",
              "  </tbody>\n",
              "</table>\n",
              "</div>"
            ],
            "text/plain": [
              "   param_criterion param_max_depth  ... std_test_score  rank_test_score\n",
              "50         entropy              30  ...       0.032903                1\n",
              "58         entropy              50  ...       0.032903                1\n",
              "62         entropy              80  ...       0.032903                1\n",
              "54         entropy              40  ...       0.032903                1\n",
              "46         entropy              20  ...       0.028088                5\n",
              "\n",
              "[5 rows x 6 columns]"
            ]
          },
          "metadata": {},
          "execution_count": 105
        }
      ]
    },
    {
      "cell_type": "code",
      "metadata": {
        "id": "MzNCIzUWGZeA",
        "colab": {
          "base_uri": "https://localhost:8080/",
          "height": 204
        },
        "outputId": "4c003f79-4092-46a0-e3c3-00f6202aaa01"
      },
      "source": [
        "results_dt2 = cv_dt2.cv_results_\n",
        "\n",
        "df_dt2 = pd.DataFrame(results_dt2)\n",
        "#df.sort_values(by='rank_test_score').head()\n",
        "df_dt2[['param_criterion', 'param_max_depth', 'param_min_samples_leaf', 'mean_test_score', 'std_test_score', 'rank_test_score']].sort_values(by='rank_test_score').head()"
      ],
      "execution_count": null,
      "outputs": [
        {
          "output_type": "execute_result",
          "data": {
            "text/html": [
              "<div>\n",
              "<style scoped>\n",
              "    .dataframe tbody tr th:only-of-type {\n",
              "        vertical-align: middle;\n",
              "    }\n",
              "\n",
              "    .dataframe tbody tr th {\n",
              "        vertical-align: top;\n",
              "    }\n",
              "\n",
              "    .dataframe thead th {\n",
              "        text-align: right;\n",
              "    }\n",
              "</style>\n",
              "<table border=\"1\" class=\"dataframe\">\n",
              "  <thead>\n",
              "    <tr style=\"text-align: right;\">\n",
              "      <th></th>\n",
              "      <th>param_criterion</th>\n",
              "      <th>param_max_depth</th>\n",
              "      <th>param_min_samples_leaf</th>\n",
              "      <th>mean_test_score</th>\n",
              "      <th>std_test_score</th>\n",
              "      <th>rank_test_score</th>\n",
              "    </tr>\n",
              "  </thead>\n",
              "  <tbody>\n",
              "    <tr>\n",
              "      <th>58</th>\n",
              "      <td>entropy</td>\n",
              "      <td>50</td>\n",
              "      <td>5</td>\n",
              "      <td>0.674312</td>\n",
              "      <td>0.025225</td>\n",
              "      <td>1</td>\n",
              "    </tr>\n",
              "    <tr>\n",
              "      <th>50</th>\n",
              "      <td>entropy</td>\n",
              "      <td>30</td>\n",
              "      <td>5</td>\n",
              "      <td>0.674312</td>\n",
              "      <td>0.025225</td>\n",
              "      <td>1</td>\n",
              "    </tr>\n",
              "    <tr>\n",
              "      <th>54</th>\n",
              "      <td>entropy</td>\n",
              "      <td>40</td>\n",
              "      <td>5</td>\n",
              "      <td>0.674312</td>\n",
              "      <td>0.025225</td>\n",
              "      <td>1</td>\n",
              "    </tr>\n",
              "    <tr>\n",
              "      <th>62</th>\n",
              "      <td>entropy</td>\n",
              "      <td>80</td>\n",
              "      <td>5</td>\n",
              "      <td>0.674312</td>\n",
              "      <td>0.025225</td>\n",
              "      <td>1</td>\n",
              "    </tr>\n",
              "    <tr>\n",
              "      <th>14</th>\n",
              "      <td>gini</td>\n",
              "      <td>20</td>\n",
              "      <td>5</td>\n",
              "      <td>0.670893</td>\n",
              "      <td>0.020018</td>\n",
              "      <td>5</td>\n",
              "    </tr>\n",
              "  </tbody>\n",
              "</table>\n",
              "</div>"
            ],
            "text/plain": [
              "   param_criterion param_max_depth  ... std_test_score  rank_test_score\n",
              "58         entropy              50  ...       0.025225                1\n",
              "50         entropy              30  ...       0.025225                1\n",
              "54         entropy              40  ...       0.025225                1\n",
              "62         entropy              80  ...       0.025225                1\n",
              "14            gini              20  ...       0.020018                5\n",
              "\n",
              "[5 rows x 6 columns]"
            ]
          },
          "metadata": {},
          "execution_count": 106
        }
      ]
    },
    {
      "cell_type": "code",
      "metadata": {
        "colab": {
          "base_uri": "https://localhost:8080/"
        },
        "id": "bhQx4RQ-N-VQ",
        "outputId": "ce06ec13-c8d3-4e97-8f5c-67f7684aa275"
      },
      "source": [
        "cv_dt.best_params_"
      ],
      "execution_count": null,
      "outputs": [
        {
          "output_type": "execute_result",
          "data": {
            "text/plain": [
              "{'criterion': 'entropy', 'max_depth': 30, 'min_samples_leaf': 5}"
            ]
          },
          "metadata": {},
          "execution_count": 107
        }
      ]
    },
    {
      "cell_type": "code",
      "metadata": {
        "id": "8dpDL4SqGlj-",
        "colab": {
          "base_uri": "https://localhost:8080/"
        },
        "outputId": "62b9e978-e1b0-473a-87c3-ae40caa0c67d"
      },
      "source": [
        "cv_dt2.best_params_"
      ],
      "execution_count": null,
      "outputs": [
        {
          "output_type": "execute_result",
          "data": {
            "text/plain": [
              "{'criterion': 'entropy', 'max_depth': 30, 'min_samples_leaf': 5}"
            ]
          },
          "metadata": {},
          "execution_count": 108
        }
      ]
    },
    {
      "cell_type": "code",
      "metadata": {
        "id": "n8yOH2_UOEzh"
      },
      "source": [
        "dtree_chosen = DecisionTreeClassifier(random_state=0, criterion='entropy', max_depth=10, min_samples_leaf=1) # Nuevo modelo con los parametros seleccionados.\n",
        "\n",
        "dtree_chosen.fit(X_train, y_train) # Entrenamos\n",
        "\n",
        "y_train_pred_dt = dtree_chosen.predict(X_train) # Predecimos en train\n",
        "y_val_pred_dt = dtree_chosen.predict(X_val) # Predecimos en test"
      ],
      "execution_count": null,
      "outputs": []
    },
    {
      "cell_type": "code",
      "metadata": {
        "id": "y4NhvjhoG6Hn"
      },
      "source": [
        "dtree_chosen2 = DecisionTreeClassifier(random_state=0, criterion='entropy', max_depth=10, min_samples_leaf=1) # Nuevo modelo con los parametros seleccionados.\n",
        "\n",
        "dtree_chosen2.fit(X2_train, y2_train) # Entrenamos\n",
        "\n",
        "y_train_pred_dt2 = dtree_chosen2.predict(X2_train) # Predecimos en train\n",
        "y_val_pred_dt2 = dtree_chosen2.predict(X2_val) # Predecimos en test"
      ],
      "execution_count": null,
      "outputs": []
    },
    {
      "cell_type": "code",
      "metadata": {
        "id": "X_jBqSjIOfn_"
      },
      "source": [
        "f1_score_train_dt = f1_score(y_train, y_train_pred_dt)\n",
        "f1_score_val_dt = f1_score(y_val, y_val_pred_dt)"
      ],
      "execution_count": null,
      "outputs": []
    },
    {
      "cell_type": "code",
      "metadata": {
        "id": "GXT9fdMBHFZ8"
      },
      "source": [
        "f1_score_train_dt2 = f1_score(y2_train, y_train_pred_dt2)\n",
        "f1_score_val_dt2 = f1_score(y2_val, y_val_pred_dt2)"
      ],
      "execution_count": null,
      "outputs": []
    },
    {
      "cell_type": "code",
      "metadata": {
        "colab": {
          "base_uri": "https://localhost:8080/"
        },
        "id": "4zqDp2PWOhFl",
        "outputId": "4f50ca9b-cf9e-4fdb-a3ce-151cc83710df"
      },
      "source": [
        "print(f1_score_train_dt)\n",
        "print(f1_score_val_dt)"
      ],
      "execution_count": null,
      "outputs": [
        {
          "output_type": "stream",
          "name": "stdout",
          "text": [
            "0.737997256515775\n",
            "0.6412213740458015\n"
          ]
        }
      ]
    },
    {
      "cell_type": "code",
      "metadata": {
        "id": "yWshflByHM6n",
        "colab": {
          "base_uri": "https://localhost:8080/"
        },
        "outputId": "a08d0916-bb23-4bd0-ffc4-27353faeba89"
      },
      "source": [
        "print(f1_score_train_dt2)\n",
        "print(f1_score_val_dt2)"
      ],
      "execution_count": null,
      "outputs": [
        {
          "output_type": "stream",
          "name": "stdout",
          "text": [
            "0.7381275440976933\n",
            "0.6307692307692309\n"
          ]
        }
      ]
    },
    {
      "cell_type": "markdown",
      "metadata": {
        "id": "zncaDYUa3ReQ"
      },
      "source": [
        "#RandomForest"
      ]
    },
    {
      "cell_type": "code",
      "metadata": {
        "id": "eX0T8Rkl3coB"
      },
      "source": [
        "from sklearn import ensemble\n",
        "clf_rf = ensemble.RandomForestClassifier()\n",
        "clf_rf.fit(X_train, y_train);"
      ],
      "execution_count": null,
      "outputs": []
    },
    {
      "cell_type": "code",
      "metadata": {
        "colab": {
          "base_uri": "https://localhost:8080/"
        },
        "id": "MPYrElhq6Ve6",
        "outputId": "e0b8b54d-e35c-44cf-b187-f4d280bd7027"
      },
      "source": [
        "from sklearn.metrics import f1_score\n",
        "print('Training:', f1_score(y_train, clf_rf.predict(X_train)), 'Validation:', f1_score(y_val, clf_rf.predict(X_val)))"
      ],
      "execution_count": null,
      "outputs": [
        {
          "output_type": "stream",
          "name": "stdout",
          "text": [
            "Training: 0.9003516998827668 Validation: 0.6758620689655171\n"
          ]
        }
      ]
    },
    {
      "cell_type": "code",
      "metadata": {
        "id": "Jj7Qa8y2ybEv"
      },
      "source": [
        "param_grid = { \n",
        "    'n_estimators': [1000, 1500, 2000],\n",
        "    'max_features': ['log2'],\n",
        "    'max_depth' : [4,6,8,10,12],\n",
        "    'criterion' :['entropy', 'gini']\n",
        "}\n",
        "rfc=RandomForestClassifier(random_state=0)\n",
        "CV_rfc = GridSearchCV(estimator=rfc, param_grid=param_grid, cv= 5, scoring='f1')\n",
        "CV_rfc.fit(X_train, y_train);"
      ],
      "execution_count": null,
      "outputs": []
    },
    {
      "cell_type": "code",
      "metadata": {
        "colab": {
          "base_uri": "https://localhost:8080/"
        },
        "id": "msx997FTzbzS",
        "outputId": "5fe16957-68d0-4f78-898b-a4ef43dad546"
      },
      "source": [
        "CV_rfc.best_params_"
      ],
      "execution_count": null,
      "outputs": [
        {
          "output_type": "execute_result",
          "data": {
            "text/plain": [
              "{'criterion': 'entropy',\n",
              " 'max_depth': 12,\n",
              " 'max_features': 'log2',\n",
              " 'n_estimators': 2000}"
            ]
          },
          "metadata": {},
          "execution_count": 118
        }
      ]
    },
    {
      "cell_type": "code",
      "metadata": {
        "colab": {
          "base_uri": "https://localhost:8080/"
        },
        "id": "dhbfOOWOzgSf",
        "outputId": "e881e380-f197-4b60-f8db-3666e0e6e174"
      },
      "source": [
        "clf_rf2 = CV_rfc.best_estimator_\n",
        "print('Training:', f1_score(y_train, clf_rf2.predict(X_train)), 'Validation:', f1_score(y_val, clf_rf2.predict(X_val)))"
      ],
      "execution_count": null,
      "outputs": [
        {
          "output_type": "stream",
          "name": "stdout",
          "text": [
            "Training: 0.733793103448276 Validation: 0.6349206349206349\n"
          ]
        }
      ]
    },
    {
      "cell_type": "markdown",
      "metadata": {
        "id": "3BQoB-6JF9xl"
      },
      "source": [
        "#KNN Neighboors\n"
      ]
    },
    {
      "cell_type": "code",
      "metadata": {
        "id": "Wtu5qvrOF8q1"
      },
      "source": [
        "from sklearn.neighbors import KNeighborsClassifier\n",
        "knn = KNeighborsClassifier(n_neighbors = 4)\n",
        "knn.fit(X_train, y_train);"
      ],
      "execution_count": null,
      "outputs": []
    },
    {
      "cell_type": "code",
      "metadata": {
        "id": "z0pwtBN1JlQR"
      },
      "source": [
        "y_train_pred_knn = knn.predict(X_train) # Predecimos en train\n",
        "y_val_pred_knn = knn.predict(X_val) # Predecimos en test"
      ],
      "execution_count": null,
      "outputs": []
    },
    {
      "cell_type": "code",
      "metadata": {
        "id": "hJOxkLPjKVun"
      },
      "source": [
        "f1_score_train_knn = f1_score(y_train, y_train_pred_knn)\n",
        "f1_score_val_knn = f1_score(y_val, y_val_pred_knn)"
      ],
      "execution_count": null,
      "outputs": []
    },
    {
      "cell_type": "code",
      "metadata": {
        "id": "ZjI9PmJbKege",
        "colab": {
          "base_uri": "https://localhost:8080/"
        },
        "outputId": "fea8d8c5-c9d9-4a94-c2e0-08f2777f8d6c"
      },
      "source": [
        "print(f1_score_train_dt)\n",
        "print(f1_score_val_dt)"
      ],
      "execution_count": null,
      "outputs": [
        {
          "output_type": "stream",
          "name": "stdout",
          "text": [
            "0.737997256515775\n",
            "0.6412213740458015\n"
          ]
        }
      ]
    },
    {
      "cell_type": "markdown",
      "metadata": {
        "id": "whNzwOU63yfQ"
      },
      "source": [
        "##**RESULTADOS**"
      ]
    },
    {
      "cell_type": "code",
      "metadata": {
        "colab": {
          "base_uri": "https://localhost:8080/"
        },
        "id": "TVGAIMhbwUoG",
        "outputId": "cc1ed5dd-7eeb-424e-8db2-743018796e36"
      },
      "source": [
        "data_test.shape"
      ],
      "execution_count": null,
      "outputs": [
        {
          "output_type": "execute_result",
          "data": {
            "text/plain": [
              "(497, 54)"
            ]
          },
          "metadata": {},
          "execution_count": 124
        }
      ]
    },
    {
      "cell_type": "code",
      "metadata": {
        "colab": {
          "base_uri": "https://localhost:8080/"
        },
        "id": "Xx0G1BeXwdj8",
        "outputId": "13d5ecef-6f86-4d75-99ab-30c6dc7a7d09"
      },
      "source": [
        "X_val.shape"
      ],
      "execution_count": null,
      "outputs": [
        {
          "output_type": "execute_result",
          "data": {
            "text/plain": [
              "(224, 54)"
            ]
          },
          "metadata": {},
          "execution_count": 125
        }
      ]
    },
    {
      "cell_type": "code",
      "metadata": {
        "colab": {
          "base_uri": "https://localhost:8080/",
          "height": 165
        },
        "id": "ZACqSOPeyFgr",
        "outputId": "65c1e5e4-0aad-46a5-8662-542c694f82bf"
      },
      "source": [
        "X_val[:2]"
      ],
      "execution_count": null,
      "outputs": [
        {
          "output_type": "execute_result",
          "data": {
            "text/html": [
              "<div>\n",
              "<style scoped>\n",
              "    .dataframe tbody tr th:only-of-type {\n",
              "        vertical-align: middle;\n",
              "    }\n",
              "\n",
              "    .dataframe tbody tr th {\n",
              "        vertical-align: top;\n",
              "    }\n",
              "\n",
              "    .dataframe thead th {\n",
              "        text-align: right;\n",
              "    }\n",
              "</style>\n",
              "<table border=\"1\" class=\"dataframe\">\n",
              "  <thead>\n",
              "    <tr style=\"text-align: right;\">\n",
              "      <th></th>\n",
              "      <th>ChronicDiseases</th>\n",
              "      <th>FrequentFlyer</th>\n",
              "      <th>EverTravelledAbroad</th>\n",
              "      <th>Government Sector</th>\n",
              "      <th>Private Sector/Self Employed</th>\n",
              "      <th>2</th>\n",
              "      <th>3</th>\n",
              "      <th>4</th>\n",
              "      <th>5</th>\n",
              "      <th>6</th>\n",
              "      <th>7</th>\n",
              "      <th>8</th>\n",
              "      <th>9</th>\n",
              "      <th>25</th>\n",
              "      <th>26</th>\n",
              "      <th>27</th>\n",
              "      <th>28</th>\n",
              "      <th>29</th>\n",
              "      <th>30</th>\n",
              "      <th>31</th>\n",
              "      <th>32</th>\n",
              "      <th>33</th>\n",
              "      <th>34</th>\n",
              "      <th>35</th>\n",
              "      <th>300000</th>\n",
              "      <th>350000</th>\n",
              "      <th>400000</th>\n",
              "      <th>450000</th>\n",
              "      <th>500000</th>\n",
              "      <th>550000</th>\n",
              "      <th>600000</th>\n",
              "      <th>650000</th>\n",
              "      <th>700000</th>\n",
              "      <th>750000</th>\n",
              "      <th>800000</th>\n",
              "      <th>850000</th>\n",
              "      <th>900000</th>\n",
              "      <th>950000</th>\n",
              "      <th>1000000</th>\n",
              "      <th>1050000</th>\n",
              "      <th>1100000</th>\n",
              "      <th>1150000</th>\n",
              "      <th>1200000</th>\n",
              "      <th>1250000</th>\n",
              "      <th>1300000</th>\n",
              "      <th>1350000</th>\n",
              "      <th>1400000</th>\n",
              "      <th>1450000</th>\n",
              "      <th>1500000</th>\n",
              "      <th>1550000</th>\n",
              "      <th>1650000</th>\n",
              "      <th>1700000</th>\n",
              "      <th>1750000</th>\n",
              "      <th>1800000</th>\n",
              "    </tr>\n",
              "  </thead>\n",
              "  <tbody>\n",
              "    <tr>\n",
              "      <th>9</th>\n",
              "      <td>0</td>\n",
              "      <td>1</td>\n",
              "      <td>0</td>\n",
              "      <td>0.0</td>\n",
              "      <td>1.0</td>\n",
              "      <td>0.0</td>\n",
              "      <td>0.0</td>\n",
              "      <td>0.0</td>\n",
              "      <td>0.0</td>\n",
              "      <td>1.0</td>\n",
              "      <td>0.0</td>\n",
              "      <td>0.0</td>\n",
              "      <td>0.0</td>\n",
              "      <td>0.0</td>\n",
              "      <td>0.0</td>\n",
              "      <td>0.0</td>\n",
              "      <td>0.0</td>\n",
              "      <td>0.0</td>\n",
              "      <td>0.0</td>\n",
              "      <td>0.0</td>\n",
              "      <td>0.0</td>\n",
              "      <td>0.0</td>\n",
              "      <td>0.0</td>\n",
              "      <td>1.0</td>\n",
              "      <td>0.0</td>\n",
              "      <td>0.0</td>\n",
              "      <td>0.0</td>\n",
              "      <td>0.0</td>\n",
              "      <td>0.0</td>\n",
              "      <td>0.0</td>\n",
              "      <td>0.0</td>\n",
              "      <td>0.0</td>\n",
              "      <td>0.0</td>\n",
              "      <td>0.0</td>\n",
              "      <td>1.0</td>\n",
              "      <td>0.0</td>\n",
              "      <td>0.0</td>\n",
              "      <td>0.0</td>\n",
              "      <td>0.0</td>\n",
              "      <td>0.0</td>\n",
              "      <td>0.0</td>\n",
              "      <td>0.0</td>\n",
              "      <td>0.0</td>\n",
              "      <td>0.0</td>\n",
              "      <td>0.0</td>\n",
              "      <td>0.0</td>\n",
              "      <td>0.0</td>\n",
              "      <td>0.0</td>\n",
              "      <td>0.0</td>\n",
              "      <td>0.0</td>\n",
              "      <td>0.0</td>\n",
              "      <td>0.0</td>\n",
              "      <td>0.0</td>\n",
              "      <td>0.0</td>\n",
              "    </tr>\n",
              "    <tr>\n",
              "      <th>354</th>\n",
              "      <td>0</td>\n",
              "      <td>0</td>\n",
              "      <td>1</td>\n",
              "      <td>0.0</td>\n",
              "      <td>1.0</td>\n",
              "      <td>0.0</td>\n",
              "      <td>0.0</td>\n",
              "      <td>0.0</td>\n",
              "      <td>0.0</td>\n",
              "      <td>1.0</td>\n",
              "      <td>0.0</td>\n",
              "      <td>0.0</td>\n",
              "      <td>0.0</td>\n",
              "      <td>1.0</td>\n",
              "      <td>0.0</td>\n",
              "      <td>0.0</td>\n",
              "      <td>0.0</td>\n",
              "      <td>0.0</td>\n",
              "      <td>0.0</td>\n",
              "      <td>0.0</td>\n",
              "      <td>0.0</td>\n",
              "      <td>0.0</td>\n",
              "      <td>0.0</td>\n",
              "      <td>0.0</td>\n",
              "      <td>0.0</td>\n",
              "      <td>0.0</td>\n",
              "      <td>0.0</td>\n",
              "      <td>0.0</td>\n",
              "      <td>0.0</td>\n",
              "      <td>0.0</td>\n",
              "      <td>0.0</td>\n",
              "      <td>0.0</td>\n",
              "      <td>0.0</td>\n",
              "      <td>0.0</td>\n",
              "      <td>0.0</td>\n",
              "      <td>0.0</td>\n",
              "      <td>0.0</td>\n",
              "      <td>0.0</td>\n",
              "      <td>0.0</td>\n",
              "      <td>0.0</td>\n",
              "      <td>0.0</td>\n",
              "      <td>0.0</td>\n",
              "      <td>0.0</td>\n",
              "      <td>0.0</td>\n",
              "      <td>0.0</td>\n",
              "      <td>1.0</td>\n",
              "      <td>0.0</td>\n",
              "      <td>0.0</td>\n",
              "      <td>0.0</td>\n",
              "      <td>0.0</td>\n",
              "      <td>0.0</td>\n",
              "      <td>0.0</td>\n",
              "      <td>0.0</td>\n",
              "      <td>0.0</td>\n",
              "    </tr>\n",
              "  </tbody>\n",
              "</table>\n",
              "</div>"
            ],
            "text/plain": [
              "     ChronicDiseases  FrequentFlyer  ...  1750000  1800000\n",
              "9                  0              1  ...      0.0      0.0\n",
              "354                0              0  ...      0.0      0.0\n",
              "\n",
              "[2 rows x 54 columns]"
            ]
          },
          "metadata": {},
          "execution_count": 126
        }
      ]
    },
    {
      "cell_type": "code",
      "metadata": {
        "id": "VnCoog7PyIrt",
        "colab": {
          "base_uri": "https://localhost:8080/",
          "height": 165
        },
        "outputId": "48a1cd30-57b4-4c9f-cb22-d25ef2570b6b"
      },
      "source": [
        "data_test[:2]"
      ],
      "execution_count": null,
      "outputs": [
        {
          "output_type": "execute_result",
          "data": {
            "text/html": [
              "<div>\n",
              "<style scoped>\n",
              "    .dataframe tbody tr th:only-of-type {\n",
              "        vertical-align: middle;\n",
              "    }\n",
              "\n",
              "    .dataframe tbody tr th {\n",
              "        vertical-align: top;\n",
              "    }\n",
              "\n",
              "    .dataframe thead th {\n",
              "        text-align: right;\n",
              "    }\n",
              "</style>\n",
              "<table border=\"1\" class=\"dataframe\">\n",
              "  <thead>\n",
              "    <tr style=\"text-align: right;\">\n",
              "      <th></th>\n",
              "      <th>ChronicDiseases</th>\n",
              "      <th>FrequentFlyer</th>\n",
              "      <th>EverTravelledAbroad</th>\n",
              "      <th>Government Sector</th>\n",
              "      <th>Private Sector/Self Employed</th>\n",
              "      <th>2</th>\n",
              "      <th>3</th>\n",
              "      <th>4</th>\n",
              "      <th>5</th>\n",
              "      <th>6</th>\n",
              "      <th>7</th>\n",
              "      <th>8</th>\n",
              "      <th>9</th>\n",
              "      <th>25</th>\n",
              "      <th>26</th>\n",
              "      <th>27</th>\n",
              "      <th>28</th>\n",
              "      <th>29</th>\n",
              "      <th>30</th>\n",
              "      <th>31</th>\n",
              "      <th>32</th>\n",
              "      <th>33</th>\n",
              "      <th>34</th>\n",
              "      <th>35</th>\n",
              "      <th>300000</th>\n",
              "      <th>350000</th>\n",
              "      <th>400000</th>\n",
              "      <th>450000</th>\n",
              "      <th>500000</th>\n",
              "      <th>550000</th>\n",
              "      <th>600000</th>\n",
              "      <th>650000</th>\n",
              "      <th>700000</th>\n",
              "      <th>750000</th>\n",
              "      <th>800000</th>\n",
              "      <th>850000</th>\n",
              "      <th>900000</th>\n",
              "      <th>950000</th>\n",
              "      <th>1000000</th>\n",
              "      <th>1050000</th>\n",
              "      <th>1100000</th>\n",
              "      <th>1150000</th>\n",
              "      <th>1200000</th>\n",
              "      <th>1250000</th>\n",
              "      <th>1300000</th>\n",
              "      <th>1350000</th>\n",
              "      <th>1400000</th>\n",
              "      <th>1450000</th>\n",
              "      <th>1500000</th>\n",
              "      <th>1550000</th>\n",
              "      <th>1650000</th>\n",
              "      <th>1700000</th>\n",
              "      <th>1750000</th>\n",
              "      <th>1800000</th>\n",
              "    </tr>\n",
              "  </thead>\n",
              "  <tbody>\n",
              "    <tr>\n",
              "      <th>0</th>\n",
              "      <td>0</td>\n",
              "      <td>0</td>\n",
              "      <td>0</td>\n",
              "      <td>0.0</td>\n",
              "      <td>1.0</td>\n",
              "      <td>0.0</td>\n",
              "      <td>0.0</td>\n",
              "      <td>1.0</td>\n",
              "      <td>0.0</td>\n",
              "      <td>0.0</td>\n",
              "      <td>0.0</td>\n",
              "      <td>0.0</td>\n",
              "      <td>0.0</td>\n",
              "      <td>0.0</td>\n",
              "      <td>0.0</td>\n",
              "      <td>0.0</td>\n",
              "      <td>0.0</td>\n",
              "      <td>1.0</td>\n",
              "      <td>0.0</td>\n",
              "      <td>0.0</td>\n",
              "      <td>0.0</td>\n",
              "      <td>0.0</td>\n",
              "      <td>0.0</td>\n",
              "      <td>0.0</td>\n",
              "      <td>0.0</td>\n",
              "      <td>0.0</td>\n",
              "      <td>0.0</td>\n",
              "      <td>0.0</td>\n",
              "      <td>0.0</td>\n",
              "      <td>0.0</td>\n",
              "      <td>0.0</td>\n",
              "      <td>0.0</td>\n",
              "      <td>0.0</td>\n",
              "      <td>0.0</td>\n",
              "      <td>0.0</td>\n",
              "      <td>0.0</td>\n",
              "      <td>0.0</td>\n",
              "      <td>0.0</td>\n",
              "      <td>0.0</td>\n",
              "      <td>0.0</td>\n",
              "      <td>1.0</td>\n",
              "      <td>0.0</td>\n",
              "      <td>0.0</td>\n",
              "      <td>0.0</td>\n",
              "      <td>0.0</td>\n",
              "      <td>0.0</td>\n",
              "      <td>0.0</td>\n",
              "      <td>0.0</td>\n",
              "      <td>0.0</td>\n",
              "      <td>0.0</td>\n",
              "      <td>0.0</td>\n",
              "      <td>0.0</td>\n",
              "      <td>0.0</td>\n",
              "      <td>0.0</td>\n",
              "    </tr>\n",
              "    <tr>\n",
              "      <th>1</th>\n",
              "      <td>1</td>\n",
              "      <td>1</td>\n",
              "      <td>0</td>\n",
              "      <td>0.0</td>\n",
              "      <td>1.0</td>\n",
              "      <td>0.0</td>\n",
              "      <td>0.0</td>\n",
              "      <td>0.0</td>\n",
              "      <td>1.0</td>\n",
              "      <td>0.0</td>\n",
              "      <td>0.0</td>\n",
              "      <td>0.0</td>\n",
              "      <td>0.0</td>\n",
              "      <td>0.0</td>\n",
              "      <td>0.0</td>\n",
              "      <td>0.0</td>\n",
              "      <td>1.0</td>\n",
              "      <td>0.0</td>\n",
              "      <td>0.0</td>\n",
              "      <td>0.0</td>\n",
              "      <td>0.0</td>\n",
              "      <td>0.0</td>\n",
              "      <td>0.0</td>\n",
              "      <td>0.0</td>\n",
              "      <td>0.0</td>\n",
              "      <td>0.0</td>\n",
              "      <td>0.0</td>\n",
              "      <td>0.0</td>\n",
              "      <td>0.0</td>\n",
              "      <td>0.0</td>\n",
              "      <td>0.0</td>\n",
              "      <td>0.0</td>\n",
              "      <td>0.0</td>\n",
              "      <td>1.0</td>\n",
              "      <td>0.0</td>\n",
              "      <td>0.0</td>\n",
              "      <td>0.0</td>\n",
              "      <td>0.0</td>\n",
              "      <td>0.0</td>\n",
              "      <td>0.0</td>\n",
              "      <td>0.0</td>\n",
              "      <td>0.0</td>\n",
              "      <td>0.0</td>\n",
              "      <td>0.0</td>\n",
              "      <td>0.0</td>\n",
              "      <td>0.0</td>\n",
              "      <td>0.0</td>\n",
              "      <td>0.0</td>\n",
              "      <td>0.0</td>\n",
              "      <td>0.0</td>\n",
              "      <td>0.0</td>\n",
              "      <td>0.0</td>\n",
              "      <td>0.0</td>\n",
              "      <td>0.0</td>\n",
              "    </tr>\n",
              "  </tbody>\n",
              "</table>\n",
              "</div>"
            ],
            "text/plain": [
              "   ChronicDiseases  FrequentFlyer  ...  1750000  1800000\n",
              "0                0              0  ...      0.0      0.0\n",
              "1                1              1  ...      0.0      0.0\n",
              "\n",
              "[2 rows x 54 columns]"
            ]
          },
          "metadata": {},
          "execution_count": 127
        }
      ]
    },
    {
      "cell_type": "code",
      "metadata": {
        "id": "Chveq6hCJ0ZG"
      },
      "source": [
        "#REGRESION LOGISTICA BEST\n",
        "results = pd.DataFrame()\n",
        "results['Customer'] = test.Customer\n",
        "results['TravelInsurance'] = lr_chosen.predict(data_test)\n",
        "results.to_csv('results_lrchosen_g11.csv', index = False)"
      ],
      "execution_count": null,
      "outputs": []
    },
    {
      "cell_type": "code",
      "metadata": {
        "id": "zwIgdzn_3TDt"
      },
      "source": [
        "# ARBOL DE DECISION\n",
        "results = pd.DataFrame() # Armamos un data frame para llenarlo con los valores que piden\n",
        "results['Customer'] = test.Customer # Columna Customer\n",
        "results['TravelInsurance'] = clf.predict(data_test) # Predigo en esta columna nueva sobre el conjunto de test usando el modelo del arbol\n",
        "results.to_csv('results_clf_grupo11.csv', index = False)\n",
        "#results.head()\n"
      ],
      "execution_count": null,
      "outputs": []
    },
    {
      "cell_type": "code",
      "metadata": {
        "id": "KptfokyFuyfZ"
      },
      "source": [
        "# ARBOL DE DECISION BEST MODEL = ESTE RESULTO EL MEJOR\n",
        "results = pd.DataFrame()\n",
        "results['Customer'] = test.Customer\n",
        "results['TravelInsurance'] = dtree_chosen.predict(data_test)\n",
        "results.to_csv('results_besttree.csv', index = False)\n",
        "#results.head()"
      ],
      "execution_count": null,
      "outputs": []
    },
    {
      "cell_type": "code",
      "metadata": {
        "id": "L76kGdYnb2HA"
      },
      "source": [
        "# RANDOM FOREST\n",
        "results = pd.DataFrame()\n",
        "results['Customer'] = test.Customer\n",
        "results['TravelInsurance'] = clf_rf.predict(data_test)\n",
        "results.to_csv('results_randomforest.csv', index = False)\n",
        "#results.head()"
      ],
      "execution_count": null,
      "outputs": []
    },
    {
      "cell_type": "code",
      "metadata": {
        "id": "QnQ67LMgcUdu"
      },
      "source": [
        "# TUNNED RANDOM FOREST\n",
        "results = pd.DataFrame()\n",
        "results['Customer'] = test.Customer\n",
        "results['TravelInsurance'] = clf_rf2.predict(data_test)\n",
        "results.to_csv('results_bestrandomforest.csv', index = False)\n",
        "#results.head()"
      ],
      "execution_count": null,
      "outputs": []
    },
    {
      "cell_type": "code",
      "metadata": {
        "id": "pwZAgd5gKpdp"
      },
      "source": [
        "# KNN\n",
        "results = pd.DataFrame()\n",
        "results['Customer'] = test.Customer\n",
        "results['TravelInsurance'] = knn.predict(data_test)\n",
        "results.to_csv('results_knn_g11', index = False)"
      ],
      "execution_count": null,
      "outputs": []
    },
    {
      "cell_type": "code",
      "metadata": {
        "id": "vYRAIh6iFyEu",
        "colab": {
          "base_uri": "https://localhost:8080/",
          "height": 204
        },
        "outputId": "161c06b3-abbc-4afd-fefa-3d7596a3ba42"
      },
      "source": [
        "# BEST TREE SIN CHRONIC DISEASES\n",
        "results = pd.DataFrame()\n",
        "results['Customer'] = test.Customer\n",
        "results['TravelInsurance'] = dtree_chosen2.predict(data_test2)\n",
        "results.to_csv('results_besttree_sinchronic_g11.csv', index = False)\n",
        "results.head()\n"
      ],
      "execution_count": null,
      "outputs": [
        {
          "output_type": "execute_result",
          "data": {
            "text/html": [
              "<div>\n",
              "<style scoped>\n",
              "    .dataframe tbody tr th:only-of-type {\n",
              "        vertical-align: middle;\n",
              "    }\n",
              "\n",
              "    .dataframe tbody tr th {\n",
              "        vertical-align: top;\n",
              "    }\n",
              "\n",
              "    .dataframe thead th {\n",
              "        text-align: right;\n",
              "    }\n",
              "</style>\n",
              "<table border=\"1\" class=\"dataframe\">\n",
              "  <thead>\n",
              "    <tr style=\"text-align: right;\">\n",
              "      <th></th>\n",
              "      <th>Customer</th>\n",
              "      <th>TravelInsurance</th>\n",
              "    </tr>\n",
              "  </thead>\n",
              "  <tbody>\n",
              "    <tr>\n",
              "      <th>0</th>\n",
              "      <td>1491</td>\n",
              "      <td>0</td>\n",
              "    </tr>\n",
              "    <tr>\n",
              "      <th>1</th>\n",
              "      <td>1492</td>\n",
              "      <td>0</td>\n",
              "    </tr>\n",
              "    <tr>\n",
              "      <th>2</th>\n",
              "      <td>1493</td>\n",
              "      <td>1</td>\n",
              "    </tr>\n",
              "    <tr>\n",
              "      <th>3</th>\n",
              "      <td>1494</td>\n",
              "      <td>1</td>\n",
              "    </tr>\n",
              "    <tr>\n",
              "      <th>4</th>\n",
              "      <td>1495</td>\n",
              "      <td>1</td>\n",
              "    </tr>\n",
              "  </tbody>\n",
              "</table>\n",
              "</div>"
            ],
            "text/plain": [
              "   Customer  TravelInsurance\n",
              "0      1491                0\n",
              "1      1492                0\n",
              "2      1493                1\n",
              "3      1494                1\n",
              "4      1495                1"
            ]
          },
          "metadata": {},
          "execution_count": 109
        }
      ]
    }
  ]
}